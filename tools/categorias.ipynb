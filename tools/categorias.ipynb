{
 "metadata": {
  "name": "Untitled0"
 },
 "nbformat": 3,
 "nbformat_minor": 0,
 "worksheets": [
  {
   "cells": [
    {
     "cell_type": "code",
     "collapsed": false,
     "input": [
      "from pyquery import PyQuery"
     ],
     "language": "python",
     "metadata": {},
     "outputs": [],
     "prompt_number": 1
    },
    {
     "cell_type": "code",
     "collapsed": false,
     "input": [
      "pq = PyQuery('https://www.walmartonline.com.ar/Inicio.aspx')"
     ],
     "language": "python",
     "metadata": {},
     "outputs": [],
     "prompt_number": 2
    },
    {
     "cell_type": "code",
     "collapsed": false,
     "input": [
      "pq('div.wrapper_menu').html()"
     ],
     "language": "python",
     "metadata": {},
     "outputs": [
      {
       "output_type": "pyout",
       "prompt_number": 7,
       "text": [
        "u'\\r\\n                                            <ul id=\"menuVR\" class=\"menu menu_blue\"></ul>'"
       ]
      }
     ],
     "prompt_number": 7
    },
    {
     "cell_type": "code",
     "collapsed": false,
     "input": [
      "pq('select#wcHeaderSearching1_ddlDepartmentO')"
     ],
     "language": "python",
     "metadata": {},
     "outputs": [
      {
       "output_type": "pyout",
       "prompt_number": 8,
       "text": [
        "[]"
       ]
      }
     ],
     "prompt_number": 8
    },
    {
     "cell_type": "code",
     "collapsed": false,
     "input": [
      "pq = PyQuery(\"\"\"\t<option value=\"D_electrodomesticos\">Electro y tecnologia</option>\n",
      "\t<option value=\"D_almacen\">Almacen</option>\n",
      "\t<option value=\"D_automotor\">Automotor</option>\n",
      "\t<option value=\"D_bazar\">Bazar</option>\n",
      "\t<option value=\"D_bebidas con alcohol\">Bebidas con alcohol</option>\n",
      "\t<option value=\"D_bebidas sin alcohol\">Bebidas sin alcohol</option>\n",
      "\t<option value=\"D_calzado\">Calzado</option>\n",
      "\t<option value=\"D_carniceria\">Carniceria</option>\n",
      "\t<option value=\"D_congelados\">Congelados</option>\n",
      "\t<option value=\"D_farmacia\">Farmacia</option>\n",
      "\t<option value=\"D_ferreteria\">Ferreteria</option>\n",
      "\t<option value=\"D_fiambreria\">Fiambreria</option>\n",
      "\t<option value=\"D_frutas y verduras\">Frutas y verduras</option>\n",
      "\t<option value=\"D_golosinas y galletitas\">Golosinas y galletitas</option>\n",
      "\t<option value=\"D_jardineria\">Jardin</option>\n",
      "\t<option value=\"D_juguetes\">Juguetes</option>\n",
      "\t<option value=\"D_lacteos\">Lacteos</option>\n",
      "\t<option value=\"D_libreria\">Libreria</option>\n",
      "\t<option value=\"D_libros, musica y peliculas\">Libros, musica y peliculas</option>\n",
      "\t<option value=\"D_limpieza\">Limpieza</option>\n",
      "\t<option value=\"D_mamas y bebes\">Mamas y bebes</option>\n",
      "\t<option value=\"D_mascotas\">Mascotas</option>\n",
      "\t<option value=\"D_panaderia\">Panaderia</option>\n",
      "\t<option value=\"D_pastas y tapas\">Pastas y tapas</option>\n",
      "\t<option value=\"D_perfumeria\">Perfumeria</option>\n",
      "\t<option value=\"D_tiempo libre\">Tiempo libre</option>\n",
      "\"\"\")"
     ],
     "language": "python",
     "metadata": {},
     "outputs": [],
     "prompt_number": 10
    },
    {
     "cell_type": "code",
     "collapsed": false,
     "input": [
      "[(pq(o).text(), pq(o).attr('value')) for o in pq('option')]"
     ],
     "language": "python",
     "metadata": {},
     "outputs": [
      {
       "output_type": "pyout",
       "prompt_number": 13,
       "text": [
        "[('Electro y tecnologia', 'D_electrodomesticos'),\n",
        " ('Almacen', 'D_almacen'),\n",
        " ('Automotor', 'D_automotor'),\n",
        " ('Bazar', 'D_bazar'),\n",
        " ('Bebidas con alcohol', 'D_bebidas con alcohol'),\n",
        " ('Bebidas sin alcohol', 'D_bebidas sin alcohol'),\n",
        " ('Calzado', 'D_calzado'),\n",
        " ('Carniceria', 'D_carniceria'),\n",
        " ('Congelados', 'D_congelados'),\n",
        " ('Farmacia', 'D_farmacia'),\n",
        " ('Ferreteria', 'D_ferreteria'),\n",
        " ('Fiambreria', 'D_fiambreria'),\n",
        " ('Frutas y verduras', 'D_frutas y verduras'),\n",
        " ('Golosinas y galletitas', 'D_golosinas y galletitas'),\n",
        " ('Jardin', 'D_jardineria'),\n",
        " ('Juguetes', 'D_juguetes'),\n",
        " ('Lacteos', 'D_lacteos'),\n",
        " ('Libreria', 'D_libreria'),\n",
        " ('Libros, musica y peliculas', 'D_libros, musica y peliculas'),\n",
        " ('Limpieza', 'D_limpieza'),\n",
        " ('Mamas y bebes', 'D_mamas y bebes'),\n",
        " ('Mascotas', 'D_mascotas'),\n",
        " ('Panaderia', 'D_panaderia'),\n",
        " ('Pastas y tapas', 'D_pastas y tapas'),\n",
        " ('Perfumeria', 'D_perfumeria'),\n",
        " ('Tiempo libre', 'D_tiempo libre')]"
       ]
      }
     ],
     "prompt_number": 13
    },
    {
     "cell_type": "code",
     "collapsed": false,
     "input": [
      "pq = PyQuery('https://www.walmartonline.com.ar/Busqueda.aspx?Departamento=D_almacen')"
     ],
     "language": "python",
     "metadata": {},
     "outputs": [],
     "prompt_number": 14
    },
    {
     "cell_type": "code",
     "collapsed": false,
     "input": [
      "pq('div#summary li a')"
     ],
     "language": "python",
     "metadata": {},
     "outputs": [
      {
       "output_type": "pyout",
       "prompt_number": 17,
       "text": [
        "[<a>]"
       ]
      }
     ],
     "prompt_number": 17
    },
    {
     "cell_type": "code",
     "collapsed": false,
     "input": [
      "import json"
     ],
     "language": "python",
     "metadata": {},
     "outputs": [],
     "prompt_number": 18
    },
    {
     "cell_type": "code",
     "collapsed": false,
     "input": [
      "import requests"
     ],
     "language": "python",
     "metadata": {},
     "outputs": [],
     "prompt_number": 19
    },
    {
     "cell_type": "code",
     "collapsed": false,
     "input": [
      "requests.get('https://www.walmartonline.com.ar/WebControls/hlMenuLeft.ashx')"
     ],
     "language": "python",
     "metadata": {},
     "outputs": [
      {
       "output_type": "pyout",
       "prompt_number": 20,
       "text": [
        "<Response [200]>"
       ]
      }
     ],
     "prompt_number": 20
    },
    {
     "cell_type": "code",
     "collapsed": false,
     "input": [
      "import pickle"
     ],
     "language": "python",
     "metadata": {},
     "outputs": [],
     "prompt_number": 3
    },
    {
     "cell_type": "code",
     "collapsed": false,
     "input": [
      "arbol = pickle.load(open('arbol.txt'))"
     ],
     "language": "python",
     "metadata": {},
     "outputs": [],
     "prompt_number": 4
    },
    {
     "cell_type": "code",
     "collapsed": false,
     "input": [
      "arbol = arbol['MenuPrincipal'][0]['Elements']"
     ],
     "language": "python",
     "metadata": {},
     "outputs": [],
     "prompt_number": 36
    },
    {
     "cell_type": "code",
     "collapsed": false,
     "input": [
      "arbol[0]"
     ],
     "language": "python",
     "metadata": {},
     "outputs": [
      {
       "output_type": "pyout",
       "prompt_number": 123,
       "text": [
        "{u'Description': u'Electro y tecnologia',\n",
        " u'Elements': [{u'Description': u'Accesorios',\n",
        "   u'Elements': None,\n",
        "   u'Id': 0,\n",
        "   u'departmentName': u'f_ACCESORIOS ELECTRO'},\n",
        "  {u'Description': u'Audio',\n",
        "   u'Elements': None,\n",
        "   u'Id': 0,\n",
        "   u'departmentName': u'f_AUDIO'},\n",
        "  {u'Description': u'Celulares',\n",
        "   u'Elements': None,\n",
        "   u'Id': 0,\n",
        "   u'departmentName': u'f_CELULARES'},\n",
        "  {u'Description': u'Cuidado personal',\n",
        "   u'Elements': None,\n",
        "   u'Id': 0,\n",
        "   u'departmentName': u'f_ELECTRO CUIDADO PERSONAL'},\n",
        "  {u'Description': u'Dvd y home theater',\n",
        "   u'Elements': None,\n",
        "   u'Id': 0,\n",
        "   u'departmentName': u'f_TV Y DVD'},\n",
        "  {u'Description': u'Fotografia',\n",
        "   u'Elements': None,\n",
        "   u'Id': 0,\n",
        "   u'departmentName': u'f_CAMARAS'},\n",
        "  {u'Description': u'Frio- calor',\n",
        "   u'Elements': None,\n",
        "   u'Id': 0,\n",
        "   u'departmentName': u'f_FRIO- CALOR'},\n",
        "  {u'Description': u'Gps',\n",
        "   u'Elements': None,\n",
        "   u'Id': 0,\n",
        "   u'departmentName': u'f_GPS'},\n",
        "  {u'Description': u'Inform\\xe1tica',\n",
        "   u'Elements': None,\n",
        "   u'Id': 0,\n",
        "   u'departmentName': u'f_INFORMATICA'},\n",
        "  {u'Description': u'Led y lcd',\n",
        "   u'Elements': None,\n",
        "   u'Id': 0,\n",
        "   u'departmentName': u'f_LED'},\n",
        "  {u'Description': u'Linea blanca',\n",
        "   u'Elements': None,\n",
        "   u'Id': 0,\n",
        "   u'departmentName': u'f_LINEA BLANCA'},\n",
        "  {u'Description': u'Peque\\xf1os cocina',\n",
        "   u'Elements': None,\n",
        "   u'Id': 0,\n",
        "   u'departmentName': u'f_PEQUE\\xd1OS'},\n",
        "  {u'Description': u'Peque\\xf1os hogar',\n",
        "   u'Elements': None,\n",
        "   u'Id': 0,\n",
        "   u'departmentName': u'f_PEQUE\\xd1OS ELECTRO HOGAR'},\n",
        "  {u'Description': u'Video juegos',\n",
        "   u'Elements': None,\n",
        "   u'Id': 0,\n",
        "   u'departmentName': u'f_VIDEO JUEGOS'}],\n",
        " u'Id': 0,\n",
        " u'departmentName': u'D_electrodomesticos'}"
       ]
      }
     ],
     "prompt_number": 123
    },
    {
     "cell_type": "code",
     "collapsed": false,
     "input": [
      "s = requests.Session()\n",
      "r = s.get('https://www.walmartonline.com.ar/Busqueda.aspx?Departamento=D_almacen&Familia=f_ACEITUNAS%20Y%20ENCURTIDOS&Linea=&Text=')"
     ],
     "language": "python",
     "metadata": {},
     "outputs": [],
     "prompt_number": 146
    },
    {
     "cell_type": "code",
     "collapsed": false,
     "input": [
      "r.cookies"
     ],
     "language": "python",
     "metadata": {},
     "outputs": [
      {
       "output_type": "pyout",
       "prompt_number": 79,
       "text": [
        "{'ASP.NET_SessionId': '2s4znq55c4ttqe55jtsi3z55',\n",
        " '__AntiXsrfCookie': '0f4921b8-804d-4cec-b03e-f0013ad0ec0d'}"
       ]
      }
     ],
     "prompt_number": 79
    },
    {
     "cell_type": "code",
     "collapsed": false,
     "input": [
      "r = s.get('https://www.walmartonline.com.ar/WebControls/hlSearchProducts.ashx', stream=True, cookies=r.cookies.get_dict(), \n",
      "headers={\"HTTP_X_Requested_With\": \"XMLHttpRequest\", 'host':'www.walmartonline.com.ar',  'User-Agent': 'Mozilla/5.0', 'content-type': 'application/json','encoding':'utf-8',\n",
      "'referer': 'https://www.walmartonline.com.ar/Busqueda.aspx?Departamento=D_almacen&Familia=f_ACEITUNAS%20Y%20ENCURTIDOS&Linea=&Text='})"
     ],
     "language": "python",
     "metadata": {},
     "outputs": [],
     "prompt_number": 148
    },
    {
     "cell_type": "code",
     "collapsed": false,
     "input": [
      "r.content"
     ],
     "language": "python",
     "metadata": {},
     "outputs": [
      {
       "output_type": "pyout",
       "prompt_number": 149,
       "text": [
        "''"
       ]
      }
     ],
     "prompt_number": 149
    },
    {
     "cell_type": "code",
     "collapsed": false,
     "input": [],
     "language": "python",
     "metadata": {},
     "outputs": [
      {
       "output_type": "pyout",
       "prompt_number": 117,
       "text": [
        "u'https://www.walmartonline.com.ar/WebControls/hlSearchProducts.ashx'"
       ]
      }
     ],
     "prompt_number": 117
    },
    {
     "cell_type": "code",
     "collapsed": false,
     "input": [
      "from selenium import webdriver\n",
      "\n",
      "browser = webdriver.Firefox()"
     ],
     "language": "python",
     "metadata": {},
     "outputs": [],
     "prompt_number": 5
    },
    {
     "cell_type": "code",
     "collapsed": false,
     "input": [
      "browser.get('https://www.walmartonline.com.ar/Busqueda.aspx?Departamento=D_almacen&Familia=&Linea=l_ACEITUNAS%20VERDES&Text=')"
     ],
     "language": "python",
     "metadata": {},
     "outputs": [],
     "prompt_number": 119
    },
    {
     "cell_type": "code",
     "collapsed": false,
     "input": [
      "r = _"
     ],
     "language": "python",
     "metadata": {},
     "outputs": [],
     "prompt_number": 120
    },
    {
     "cell_type": "code",
     "collapsed": false,
     "input": [
      "r"
     ],
     "language": "python",
     "metadata": {},
     "outputs": [
      {
       "output_type": "pyout",
       "prompt_number": 121,
       "text": [
        "u'https://www.walmartonline.com.ar/WebControls/hlSearchProducts.ashx'"
       ]
      }
     ],
     "prompt_number": 121
    },
    {
     "cell_type": "code",
     "collapsed": false,
     "input": [
      "browser.page_source"
     ],
     "language": "python",
     "metadata": {},
     "outputs": [
      {
       "output_type": "pyout",
       "prompt_number": 122,
       "text": [
        "u'<!DOCTYPE html PUBLIC \"-//W3C//DTD XHTML 1.0 Transitional//EN\" \"http://www.w3.org/TR/xhtml1/DTD/xhtml1-transitional.dtd\">\\n<html xmlns=\"http://www.w3.org/1999/xhtml\"><head>\\n    <title>Busqueda de art\\xedculos</title>\\n    <link media=\"all\" type=\"text/css\" rel=\"stylesheet\" href=\"css/global.css\" />\\n\\n    <script type=\"text/javascript\" async=\"\" src=\"https://ssl.google-analytics.com/ga.js\"></script><script type=\"text/javascript\" src=\"js/SpryData.js\" language=\"javascript\"></script>\\n\\n    <script type=\"text/javascript\" src=\"js/SpryJSONDataSet.js\" language=\"javascript\"></script>\\n\\n    <script type=\"text/javascript\" src=\"js/SpryPagedView.js\" language=\"javascript\"></script>\\n\\n    <script defer=\"defer\" type=\"text/javascript\" src=\"js/validaciones.js\"></script>\\n\\n    <script defer=\"defer\" type=\"text/javascript\" src=\"js/restrict_number.js\"></script>\\n\\n    <script type=\"text/javascript\" src=\"js/analytics.js\"></script>\\n\\n    <script type=\"text/javascript\" language=\"JavaScript\"> \\n        &lt;!--\\n        function getQuery() {\\n            var ft;\\n            var ji = \"Text\";\\n            var hu = window.location.search.substring(1);\\n            var gy = hu.split(\"&amp;\");\\n            for (i = 0; i &lt; gy.length; i++) {\\n                ft = gy[i].split(\"=\");\\n                if (ft[0] == ji) {\\n                    //alert(ft[1]);\\n                    return ft[1];\\n                }\\n            }\\n        }\\n        function getDep() {\\n            var ft;\\n            var ji = \"Departamento\";\\n            var hu = window.location.search.substring(1);\\n            var gy = hu.split(\"&amp;\");\\n            for (i = 0; i &lt; gy.length; i++) {\\n                ft = gy[i].split(\"=\");\\n                if (ft[0] == ji) {\\n                    return ft[1];\\n                }\\n            }\\n        }\\n\\n        function getFam() {\\n            var ft;\\n            var ji = \"Familia\";\\n            var hu = window.location.search.substring(1);\\n            var gy = hu.split(\"&amp;\");\\n            for (i = 0; i &lt; gy.length; i++) {\\n                ft = gy[i].split(\"=\");\\n                if (ft[0] == ji) {\\n                    return ft[1];\\n                }\\n            }\\n        }\\n\\n        function getLine() {\\n            var ft;\\n            var ji = \"Linea\";\\n            var hu = window.location.search.substring(1);\\n            var gy = hu.split(\"&amp;\");\\n            for (i = 0; i &lt; gy.length; i++) {\\n                ft = gy[i].split(\"=\");\\n                if (ft[0] == ji) {\\n                    return ft[1];\\n                }\\n            }\\n        }\\n\\n        function getOrderBy() {\\n            var ft;\\n            var ji = \"Orderby\";\\n            var hu = window.location.search.substring(1);\\n            var gy = hu.split(\"&amp;\");\\n            for (i = 0; i &lt; gy.length; i++) {\\n                ft = gy[i].split(\"=\");\\n                if (ft[0] == ji) {\\n                    return ft[1];\\n                }\\n            }\\n        }\\n\\n        function getOrderByID() {\\n            var ft;\\n            var ji = \"OrderbyID\";\\n            var hu = window.location.search.substring(1);\\n            var gy = hu.split(\"&amp;\");\\n            for (i = 0; i &lt; gy.length; i++) {\\n                ft = gy[i].split(\"=\");\\n                if (ft[0] == ji) {\\n                    return ft[1];\\n                }\\n            }\\n        }\\n\\n        function getRange() {\\n            var ft;\\n            var ji = \"Range\";\\n            var hu = window.location.search.substring(1);\\n            var gy = hu.split(\"&amp;\");\\n            for (i = 0; i &lt; gy.length; i++) {\\n                ft = gy[i].split(\"=\");\\n                if (ft[0] == ji) {\\n                    return ft[1];\\n                }\\n            }\\n        }\\n\\n        function getRdmID() {\\n            return (Math.random() * 3);\\n        }\\n        function MakeUniqueQuery(x) {\\n            var temp = Math.random() * 3;\\n            var tempurl = x + \"&amp;sid=\" + temp;\\n            return tempurl;\\n        }\\n\\n        var busqueda = getQuery();\\n        var departamento = getDep();\\n        var family = getFam();\\n        var linea = getLine();\\n        var filter = getOrderBy();\\n        var filterID = getOrderByID();\\n        var range = getRange();\\n        var id = getRdmID();\\n        var url = \"WebControls/hlSearchResults.ashx?busqueda=\" + busqueda + \"&amp;departamento=\" + departamento + \"&amp;familia=\" + family + \"&amp;linea=\" + linea + \"&amp;orderby=\" + filter + \"&amp;orderbyid=\" + filterID + \"&amp;range=\" + range;\\n        var req = Spry.Utils.loadURL(\"GET\", MakeUniqueQuery(url), false, MySuccessCallback);\\n        var dsSummary;\\n        var dsItems;\\n        var dsBreadcrumb;\\n        var dsCounterPrice;\\n\\n        function MySuccessCallback() {\\n            dsItems = new Spry.Data.JSONDataSet(\"WebControls/hlSearchProducts.ashx\");\\n            dsSummary = new Spry.Data.JSONDataSet(\"WebControls/hlSummaryResults.ashx\");\\n            dsBreadcrumb = new Spry.Data.JSONDataSet(\"WebControls/hlBreadcrumb.ashx\");\\n            dsCounterPrice = new Spry.Data.JSONDataSet(\"WebControls/hlGetPricesRange.ashx\");\\n        }\\n\\n        function setFilter() {\\n            try {\\n                var tmp = document.getElementById(\\'chooseFilter\\');\\n                if (filterID == 1)\\n                    tmp.options[1].selected = true;\\n                else if (filterID == 2)\\n                    tmp.options[2].selected = true;\\n                else if (filterID == 3)\\n                    tmp.options[3].selected = true;\\n                else if (filterID == 4)\\n                    tmp.options[4].selected = true;\\n                else\\n                    tmp.options[0].selected = true;\\n            }\\n            catch (Error) {\\n                tmp.options[0].selected = true;\\n                //\\'alert(\"error\");\\n            }\\n        }\\n\\n        //debugger;\\n        function myObserverFunc(notificationType, dataSet, data) {\\n     \\n            if (notificationType == \"onLoadError\") {\\n\\n            }\\n            else if (notificationType == \"onPostSort\") {\\n\\n            }\\n            else if (notificationType == \"onPostLoad\") {\\n                if (dataSet.docObj.length &gt; 0) {\\n                    //La consulta trajo datos\\n                    //alert(\"datos encontrados\");\\n                }\\n                else {\\n                    //alert(\"Datos no encontrados para: \" + busqueda);\\n                    //debugger;\\n                    _gaq.push([\\'_trackEvent\\', \\'Busqueda\\', \\'noExitosa\\', busqueda]);\\n                }\\n            }\\n\\n        };\\n\\n        dsItems.addObserver(myObserverFunc);\\n     \\n\\n        var pvItems = new Spry.Data.PagedView(dsItems, { pageSize: 32 });\\n        var pvItemsPagedInfo = pvItems.getPagingInfo();\\n\\n        function FilterData() {\\n            var tf = document.getElementById(\"filterTF\");\\n            if (!tf.value) {\\n                dsItems.filter(null);\\n                return;\\n            }\\n            var regExpStr = tf.value;\\n\\n            var regExp = new RegExp(regExpStr, \"i\");\\n\\n            var filterFunc = function(ds, row, rowNumber) {\\n                var str = row[\"Description\"];\\n                if (str &amp;&amp; str.search(regExp) != -1)\\n                    return row;\\n                return null;\\n            };\\n\\n            dsItems.filter(filterFunc);\\n        }\\n        function StartFilterTimer() {\\n            if (StartFilterTimer.timerID)\\n                clearTimeout(StartFilterTimer.timerID);\\n            StartFilterTimer.timerID = setTimeout(function() { StartFilterTimer.timerID = null; FilterData(); }, 100);\\n        }\\n\\n        function doFilter(text, index) {\\n            window.location.href = \"Busqueda.aspx?Text=\" + busqueda + \"&amp;Departamento=\" + departamento + \"&amp;Familia=\" + family + \"&amp;Linea=\" + linea + \"&amp;Orderby=\" + text + \"&amp;OrderbyID=\" + index;\\n        }\\n\\n        function doFilterPrice(range) {\\n            window.location.href = \"Busqueda.aspx?Text=\" + busqueda + \"&amp;Departamento=\" + departamento + \"&amp;Familia=\" + family + \"&amp;Linea=\" + linea + \"&amp;Range=\" + range;\\n        }\\n        //--&gt;\\n\\n        function visualizaMosaico(flag) {\\n            var chkMosaico = document.getElementById(\"chkMosaico\");\\n            if (flag) {\\n                $(\".pnlGrid\").removeClass(\\'pnlListItem\\');  \\n                $(\".pnlGrid\").addClass(\\'pnlGridItem\\');\\n                chkMosaico.checked = true;\\n            }\\n            else {\\n                $(\".pnlGrid\").removeClass(\\'pnlGridItem\\');\\n                $(\".pnlGrid\").addClass(\\'pnlListItem\\');\\n                chkMosaico.checked = false;\\n            }\\n        }\\n        function MosaicoOn() {\\n            var chkMosaico = document.getElementById(\"chkMosaico\");\\n            if (chkMosaico.checked) {\\n                visualizaMosaico(true)\\n            }\\n            else {\\n                visualizaMosaico(false)\\n            }\\n        }\\n    </script>\\n\\n    <style>\\n        -webkit-border-radius: 5\\n        px; -\\n        moz-border-radius: 5\\n        px;</style>\\n    <link media=\"screen\" type=\"text/css\" href=\"css/jquery.fancybox-1.3.4.css\" rel=\"stylesheet\" />\\n</head>\\n<body onload=\"setFilter()\">\\n    <form id=\"form1\" action=\"Busqueda.aspx?Departamento=D_almacen&amp;Familia=&amp;Linea=l_ACEITUNAS+VERDES&amp;Text=\" method=\"post\" name=\"form1\">\\n<div>\\n<input type=\"hidden\" value=\"\" id=\"__EVENTTARGET\" name=\"__EVENTTARGET\" />\\n<input type=\"hidden\" value=\"\" id=\"__EVENTARGUMENT\" name=\"__EVENTARGUMENT\" />\\n<input type=\"hidden\" value=\"/wEFJGQ3Y2JjYmQyLWZmZTQtNDA2NC1iMzQ0LTQ2YzBmYjk4ZWYyZg==\" id=\"__AntiXsrfFormField\" name=\"__AntiXsrfFormField\" />\\n<input type=\"hidden\" value=\"0\" id=\"HFLogueado\" name=\"HFLogueado\" />\\n<input type=\"hidden\" value=\"a55/kiz9sELtLSP2K1QwL21hVdMnptzcpukn6e1Opz4=\" id=\"__VIEWSTATE\" name=\"__VIEWSTATE\" />\\n</div>\\n\\n<script type=\"text/javascript\">\\n//&lt;![CDATA[\\nvar theForm = document.forms[\\'form1\\'];\\nif (!theForm) {\\n    theForm = document.form1;\\n}\\nfunction __doPostBack(eventTarget, eventArgument) {\\n    if (!theForm.onsubmit || (theForm.onsubmit() != false)) {\\n        theForm.__EVENTTARGET.value = eventTarget;\\n        theForm.__EVENTARGUMENT.value = eventArgument;\\n        theForm.submit();\\n    }\\n}\\n//]]&gt;\\n</script>\\n\\n\\n<script type=\"text/javascript\" src=\"/WebResource.axd?d=Aztu0v_tx4iwqKES2q9HCw2&amp;t=634249182878750000\"></script>\\n\\n\\n<script type=\"text/javascript\">\\n//&lt;![CDATA[\\nif (screen.width &lt; 500 || navigator.userAgent.match(/Android/i) || navigator.userAgent.match(/webOS/i) || navigator.userAgent.match(/iPhone/i) || navigator.userAgent.match(/iPod/i) || navigator.userAgent.match(/webOS/i) || navigator.userAgent.match(/iPad/i)){ window.location = \\'https://www.walmartonline.com.ar/m_inicio.aspx\\'; }//]]&gt;\\n</script>\\n\\n<div>\\n\\n\\t<input type=\"hidden\" value=\"0\" id=\"__SCROLLPOSITIONX\" name=\"__SCROLLPOSITIONX\" />\\n\\t<input type=\"hidden\" value=\"0\" id=\"__SCROLLPOSITIONY\" name=\"__SCROLLPOSITIONY\" />\\n\\t<input type=\"hidden\" value=\"\" id=\"__VIEWSTATEENCRYPTED\" name=\"__VIEWSTATEENCRYPTED\" />\\n</div>\\n    <div class=\"PageContainer HomePage\">\\n        <div class=\"unknownCustomer\" id=\"g0041\">\\n            <div id=\"globalNav_wide\">\\n                \\n<style type=\"text/css\">\\n    #menuhoriz li\\n    {\\n        display: inline;\\n        list-style-type: none;\\n        padding-right: 20px;\\n    }\\n</style>\\n<div class=\"clearfix\">\\n    <div id=\"topLeft\">\\n        <a onclick=\"_gaq.push([\\'_trackEvent\\', \\'Header\\', \\'Logo\\', \\'Logo\\']);\" href=\"Inicio.aspx\" id=\"logo\">\\n            <img border=\"0\" alt=\"Ahorras Dinero. Vives Mejor.\" src=\"https://www.walmartonline.com.ar/images/logo%20walmart-argent.gif\" />\\n        </a>\\n    </div>\\n    <div id=\"topRight\">\\n        <div class=\"clearfix\" id=\"topRightInner\">\\n            <div class=\"clearfix\">\\n                <div class=\"welcome\">\\n                    <p class=\"unknownCustomerContent\" id=\"com.wm.module.305700\">\\n                        <strong>\\n                            <span id=\"wcHeader1_lblCustomer\">\\xbfNuevo Cliente?</span>\\n                        </strong>\\n                        <a href=\"Ingresar.aspx\" class=\"first\" id=\"wcHeader1_hlEnter\">Ingresa</a>\\n                        \\n                    </p>\\n                </div>\\n                <div id=\"highlight\">\\n                    <marquee width=\"390\" direction=\"left\" behavior=\"slide\">\\n                                    <a id=\"wcHeader1_AnonoymousUserMessage\">Ingres\\xe1 tu usuario para ver el surtido completo</a>\\n                                </marquee>\\n                </div>\\n            </div>\\n            <div id=\"topLinks\">\\n                \\n                        <a onclick=\"_gaq.push([\\'_trackEvent\\', \\'Header\\', \\'QuickLinks\\', \\'Celiacos\\']);\" href=\"Busqueda.aspx?Departamento=W_celiacos\">\\n                            <span id=\"wcHeader1_repWorldsDepartments_ctl00_lblDep\">Celiacos</span>\\n                        </a>\\n                    \\n                        <a onclick=\"_gaq.push([\\'_trackEvent\\', \\'Header\\', \\'QuickLinks\\', \\'Pampers\\']);\" href=\"Busqueda.aspx?Departamento=W_pampers\">\\n                            <span id=\"wcHeader1_repWorldsDepartments_ctl01_lblDep\">Pampers</span>\\n                        </a>\\n                    \\n                        <a onclick=\"_gaq.push([\\'_trackEvent\\', \\'Header\\', \\'QuickLinks\\', \\'Dove\\']);\" href=\"Busqueda.aspx?Departamento=W_dove\">\\n                            <span id=\"wcHeader1_repWorldsDepartments_ctl02_lblDep\">Dove</span>\\n                        </a>\\n                    \\n                        <a onclick=\"_gaq.push([\\'_trackEvent\\', \\'Header\\', \\'QuickLinks\\', \\'Knorr\\']);\" href=\"Busqueda.aspx?Departamento=W_knorr\">\\n                            <span id=\"wcHeader1_repWorldsDepartments_ctl03_lblDep\">Knorr</span>\\n                        </a>\\n                    \\n                        <a onclick=\"_gaq.push([\\'_trackEvent\\', \\'Header\\', \\'QuickLinks\\', \\'Cif\\']);\" href=\"Busqueda.aspx?Departamento=W_cif\">\\n                            <span id=\"wcHeader1_repWorldsDepartments_ctl04_lblDep\">Cif</span>\\n                        </a>\\n                    \\n                        <a onclick=\"_gaq.push([\\'_trackEvent\\', \\'Header\\', \\'QuickLinks\\', \\'Led\\']);\" href=\"Busqueda.aspx?Departamento=W_led%20y%20lcd\">\\n                            <span id=\"wcHeader1_repWorldsDepartments_ctl05_lblDep\">Led</span>\\n                        </a>\\n                    \\n                        <a onclick=\"_gaq.push([\\'_trackEvent\\', \\'Header\\', \\'QuickLinks\\', \\'Johnson`s baby \\']);\" href=\"Busqueda.aspx?Departamento=W_mundo%20baby\">\\n                            <span id=\"wcHeader1_repWorldsDepartments_ctl06_lblDep\">Johnson`s baby </span>\\n                        </a>\\n                    \\n                        <a onclick=\"_gaq.push([\\'_trackEvent\\', \\'Header\\', \\'QuickLinks\\', \\'Granja del sol\\']);\" href=\"Busqueda.aspx?Departamento=W_congelados\">\\n                            <span id=\"wcHeader1_repWorldsDepartments_ctl07_lblDep\">Granja del sol</span>\\n                        </a>\\n                    \\n                        <a onclick=\"_gaq.push([\\'_trackEvent\\', \\'Header\\', \\'QuickLinks\\', \\'Colchones\\']);\" href=\"Busqueda.aspx?Departamento=W_colchones\">\\n                            <span id=\"wcHeader1_repWorldsDepartments_ctl08_lblDep\">Colchones</span>\\n                        </a>\\n                    \\n                        <a onclick=\"_gaq.push([\\'_trackEvent\\', \\'Header\\', \\'QuickLinks\\', \\'Celulares\\']);\" href=\"Busqueda.aspx?Departamento=W_celulares\">\\n                            <span id=\"wcHeader1_repWorldsDepartments_ctl09_lblDep\">Celulares</span>\\n                        </a>\\n                    \\n            </div>\\n            <div id=\"customer\">\\n                <div id=\"topNavCustomer\">\\n                    <div class=\"topNavMenuItem ddMenuOff ddBorderOn\">\\n                        <a onclick=\"_gaq.push([\\'_trackEvent\\', \\'Header\\', \\'Cliente\\', \\'Mis Pedidos\\']);\" href=\"Mis-pedidos.aspx\">\\n                            <span class=\"roundedBox roundedBoxImg\"><span class=\"topCustomerItemLink\">Pedidos anteriores</span>\\n                            </span></a>\\n                    </div>\\n                    <div class=\"topNavMenuItem ddMenuOff ddBorderOn\">\\n                        <a onclick=\"_gaq.push([\\'_trackEvent\\', \\'Header\\', \\'Cliente\\', \\'Mi Cuenta\\']);\" href=\"Registro.aspx\">\\n                            <span class=\"roundedBox roundedBoxImg\"><span class=\"topCustomerItemLink\">Mi cuenta</span>\\n                            </span></a>\\n                    </div>\\n                    <div class=\"topNavMenuItem ddMenuOff\">\\n                        <a onclick=\"_gaq.push([\\'_trackEvent\\', \\'Header\\', \\'Cliente\\', \\'Mis Listas\\']);\" href=\"Mis-listas.aspx\">\\n                            <span class=\"roundedBox roundedBoxImgLast\"><span class=\"topCustomerItemLink\">Mis listas</span>\\n                            </span></a>\\n                    </div>\\n                </div>\\n            </div>\\n        </div>\\n    </div>\\n</div>\\n\\n                \\n\\n<script type=\"text/javascript\" src=\"js/jquery-1.6.1.min.js\"></script>\\n\\n<script type=\"text/javascript\" src=\"js/jquery-ui.min.js\"></script>\\n\\n<script type=\"text/javascript\" src=\"js/SpryUtils.js\"></script>\\n\\n<script type=\"text/javascript\" src=\"js/restrict_number.js\"></script>\\n\\n<script type=\"text/javascript\" src=\"js/SpryData.js\"></script>\\n\\n<script type=\"text/javascript\" src=\"js/SpryJSONDataSet.js\"></script>\\n\\n<link type=\"text/css\" rel=\"stylesheet\" href=\"css/jquery.autocomplete.css\" />\\n<link type=\"text/css\" rel=\"stylesheet\" href=\"css/jquery-ui.css\" />\\n\\n<script type=\"text/javascript\" src=\"js/jquery.autocomplete.js\"></script>\\n\\n<script type=\"text/javascript\" language=\"javascript\">\\n\\n    function r2(n) {\\n\\n        ans = n * 1000\\n        ans = Math.round(ans / 10) + \"\"\\n        while (ans.length &lt; 3) { ans = \"0\" + ans }\\n        len = ans.length\\n        ans = ans.substring(0, len - 2) + \".\" + ans.substring(len - 2, len)\\n        return ans\\n    }\\n    \\n    function EnabledCartControl()\\n    {\\n\\n        var divItemsOnCart = document.getElementById(\\'cart\\');\\n        var elemDatoRecibo = divItemsOnCart.getElementsByTagName(\\'a\\');\\n\\n        //Deshabilitamos todos los elementos del Div Carrito\\n        for(var j=0; j&lt;elemDatoRecibo.length; j++){\\n        \\n            if(elemDatoRecibo[j].lastChild != null){\\n                var item = elemDatoRecibo[j].lastChild.data;\\n                if(item != \"Comprar\" &amp;&amp; item != \"Revisar\" &amp;&amp; item != \"Cerrar\"){\\n                    elemDatoRecibo[j].disabled = \"true\";\\n                }\\n            }else{\\n                elemDatoRecibo[j].disabled = \"true\";\\n            }\\n        }\\n    } \\n\\n    function formatNmb(nNmb) {\\n        var sRes = \"\";\\n        var tmp = nNmb + \"\";\\n        nNmb = tmp.split(\".\", 2);\\n        var len = nNmb[0].length - 1;\\n        for (var j, i = len, j = 0; i &gt;= 0; i--, j++)\\n            sRes = nNmb[0].charAt(i) + ((j &gt; 0) &amp;&amp; (j % 3 == 0) ? \",\" : \"\") + sRes;\\n        return sRes + \".\" + nNmb[1];\\n    }\\n    \\n    function showMenssageAddtoCart()\\n    {\\n        var logueado = $(\"#HFLogueado\");\\n        if(logueado.val() == \"1\")\\n        {\\n            setHtmlMsgAddtoCart(\\'El art&amp;iacute;culo fue agregado a su carrito.\\',1000,300);\\n        }\\n        else\\n        {\\n            setHtmlMsgAddtoCart(\\'Ingresa tu usuario para agregar art\\xedculos.\\',3000,500);\\n        }\\n//        var CurrentSession = $.cookie(\"WalMartCurrentSession\");\\n//        if(CurrentSession != null){\\n//            setHtmlMsgAddtoCart(\\'El art&amp;iacute;culo fue agregado a su carrito.\\',1000,300); \\n//        }\\n//        else{\\n//             setHtmlMsgAddtoCart(\\'Ingresa tu usuario para agregar art\\xedculos.\\',3000,500);   \\n//        }\\n    }\\n    \\n    function setHtmlMsgAddtoCart(msg, delay, duration)\\n    {\\n            \\n         $(\"#alerta\").stop(true, true);\\n         $(\"#alerta\").hide();\\n         html = \"&lt;div class=\\'alerta\\'&gt;&lt;div class=\\'izq\\'&gt;&lt;/div&gt;&lt;div class=\\'centro\\'&gt;&lt;div class=\\'imagen\\'&gt;&lt;img src=\\'images/ICN_SomeAvailable_25x25.gif\\' /&gt;&lt;/div&gt;&lt;div class=\\'texto\\'&gt;&lt;span&gt;&lt;strong&gt;\"+msg+\"&lt;/strong&gt;&lt;/span&gt;&lt;/div&gt;&lt;/div&gt;&lt;div class=\\'der\\'&gt;&lt;/div&gt;&lt;/div&gt;\";\\n         $(\"#alerta\").html(html);\\n         $(\"#alerta\").css(\"left\", (($(window).width() - $(\"#alerta\").outerWidth()) / 2) + $(window).scrollLeft() + \"px\");\\n         $(\"#alerta\").fadeIn(300).delay(delay).fadeOut(duration);\\n    }\\n\\n    function agregaServer(precio, upc, cantidad, comentario) {\\n        $.ajax({\\n            type: \"GET\",\\n            data: \"comando=Agregar&amp;precio=\" + precio + \"&amp;upc=\" + upc + \"&amp;cantidad=\" + cantidad + \"&amp;comentario=\" + comentario,\\n            url: \"Cart.aspx\",\\n            async: false\\n        });\\n        getNumItems();\\n        showMenssageAddtoCart();\\n    };\\n    \\n    function agregaServerPesable(comando, upc, cantidad, comentario) {\\n        $.ajax({\\n            type: \"GET\",\\n            data: \"comando=\" + comando + \"&amp;upc=\" + upc + \"&amp;cantidad=\" + cantidad + \"&amp;comentario=\" + comentario + \"&amp;pesable=true\",\\n            url: \"Cart.aspx\",\\n            async: false\\n        });\\n        getSubtotal();\\n        getNumItems();\\n    };\\n    function getSubtotal() {\\n    \\n        var GrandTotalCheckout = document.getElementById(\\'lblGrandTotal\\')\\n        var TotalCheckout = document.getElementById(\\'lblTotal\\')\\n        \\n        var GrandTotalCheckout = document.getElementById(\\'lblGrandTotal\\')\\n        var TotalCheckout = document.getElementById(\\'lblTotal\\')\\n        \\n        \\n        $.getJSON(\"WebControls/hlGetSubtotal.ashx\", function(data) {\\n            \\n            $(\"#total\").html(\"$\" + formatNmb(r2(data)));\\n            \\n            if(GrandTotalCheckout != null){\\n                $(\"#lblGrandTotal\").html(\"$\" + formatNmb(r2(data)));\\n                $(\"#lblTotal\").html(\"$\" + formatNmb(r2(data)));\\n             }\\n        });\\n        \\n        \\n        \\n        \\n    }\\n\\n    function getNumItems() {\\n        $.getJSON(\"WebControls/hlGetNumItemsFromBasket.ashx\", function(data) {\\n            $(\"#totalItems\").html(data);\\n            $(\"#itemsOnCart\").html(data)\\n        });\\n    }\\n    //funcion que llena desde la carga el numero de items \\n    $.getJSON(\"WebControls/hlGetNumItemsFromBasket.ashx\", function(data) {\\n        $(\"#cartItems\").html(\"&lt;div id=\\\\\"divItemsOnCart\\\\\" style=\\\\\"font:Arial; color:White; font-size:larger; padding-left:110px; padding-top:10px;\\\\\"&gt;(&lt;span id=\\\\\"itemsOnCart\\\\\"&gt;\" + data + \"&lt;/span&gt;)&lt;div&gt;\");\\n    });\\n\\n    function goSearch() {\\n        var tmp = document.getElementById(\\'wcHeaderSearching1_ddlDepartmentOp\\');\\n        var tmp2 = tmp.options[tmp.selectedIndex].value;\\n        var q = $(\"#tbxBasicSearch\").val();\\n\\n        var path = \"Busqueda.aspx?Text=\" + q + \"&amp;Departamento=\" + tmp2;\\n        var x = document.forms[0].tbxBasicSearch.value;\\n        if (q.length &gt; 0)\\n            window.location.href = path;\\n        else\\n            alert(\"Favor de ingresar un criterio de b\\xfasqueda\");\\n    }\\n\\n    function selectGrs(comando, upc, cantidad, comentario) {\\n        debugger;\\n        if (cantidad &gt; 0)\\n            agregaServerPesable(comando, upc, cantidad, comentario);\\n        else\\n            alert(\"No puede agregar cantidades menores a 1\");\\n    }\\n\\n    function limpiar() {\\n        $(\".Item\").remove();\\n        goCommand(\\'Limpiar\\', \\'\\', \\'\\', \\'\\');\\n    }\\n\\n    function vaciar_btn() {\\n        $(\\'#dialog-confirm\\').dialog(\\'open\\');\\n        return false;\\n    }\\n\\n    var maxPesable = 4000;\\n    var maxNoPesable = 99;\\n    var subtotal = 0;\\n    var numItems = 0;\\n    function getItems() {\\n        $.getJSON(\"WebControls/hlCartItems.ashx\", function(data) {\\n            var t = \"\";\\n            var flag;\\n            t = t + \"&lt;div class=\\'header\\'&gt;&lt;div class=\\'btnCheckOut\\'&gt;&lt;div class=\\'btnNaranja\\'&gt;&lt;div class=\\'izq\\'&gt;&lt;/div&gt;&lt;div class=\\'centro\\'&gt;&lt;a onclick=\\'window.location=\\\\\"checkout.aspx\\\\\"\\'&gt;Comprar&lt;/a&gt;&lt;/div&gt;&lt;div class=\\'der\\'&gt;&lt;/div&gt;&lt;/div&gt;&lt;div class=\\'btnBlanco\\'&gt;&lt;div class=\\'izq\\'&gt;&lt;/div&gt;&lt;div class=\\'centro\\'&gt;&lt;a onclick=\\\\\"goCart()\\\\\"&gt;Revisar&lt;/a&gt;&lt;/div&gt;&lt;div class=\\'der\\'&gt;&lt;/div&gt;&lt;/div&gt;&lt;/div&gt;&lt;div class=\\'clear\\'&gt;&lt;/div&gt;&lt;/div&gt;&lt;div class=\\'header2\\'&gt;&lt;div class=\\'btnVaciar\\'&gt;&lt;a onclick=\\\\\"vaciar_btn()\\\\\"&gt;Vaciar Carrito&lt;/a&gt;&lt;/div&gt;&lt;div class=\\'btnCerrar\\'&gt;&lt;a onclick=\\'$(\\\\\"#cart\\\\\").empty()\\'&gt;Cerrar&lt;/a&gt;&lt;/div&gt;&lt;/div&gt;\";\\n            $.each(data, function(index) {\\n                var upc, coment, nombre, cantidad, total, pesable, precio, max, esUltimo, unit;\\n                $.each(this, function(key, val) {\\n                    if (key == \"upc\")\\n                        upc = val;\\n                    if (key == \"Comentarios\")\\n                        coment = val;\\n                    if (key == \"Descripcion\")\\n                        nombre = val;\\n                    if (key == \"Cantidad\")\\n                        cantidad = val;\\n\\n                    //subtotal por producto (precio * cantidad)\\n                    if (key == \"Total\")\\n                        total = val;\\n\\n                    //es articulo pesable?\\n                    if (key == \"Pesable\")\\n                        pesable = val;\\n\\n                    //precio unitario\\n                    if (key == \"Precio\")\\n                        precio = val;\\n\\n                    //Cantidad m\\xe1xima permitida para articulos pesables y no pesables\\n                    if (key == \"MaxItemsPerProducts\")\\n                        max = val;\\n\\n                    //subtotal general del carrito\\n                    if (key == \"Subtotal\")\\n                        subtotal = val;\\n\\n                    //N\\xfamero de art\\xedculos en el basket\\n                    if (key == \"NumItems\")\\n                        numItems = val;\\n\\n                    //propiedad para identificar si fue el \\xfaltimo art\\xedculo agregado\\n                    if (key == \"EsUltimo\")\\n                        esUltimo = val;\\n\\n                    //unidad de medida de cada producto\\n                    if (key == \"MeasurementUnit\")\\n                        unit = val;\\n                });\\n                clase = \"Item FirstItem\";\\n                if (index != 0) clase = \"Item\";\\n\\n                if (esUltimo == \"True\") {\\n                    t = t + \"&lt;div class=\\'header2\\'&gt;&amp;Uacute;ltimo art&amp;iacute;culo agregado&lt;/div&gt;&lt;div class=\\'rounded\\'&gt;\";\\n\\n                }\\n                else {\\n                    if (index == 0 &amp;&amp; esUltimo == \"False\") {\\n                        t = t + \"&lt;div class=\\'header2\\'&gt;Art&amp;iacute;culos agregados previamente&lt;/div&gt;&lt;div class=\\'rounded\\'&gt;\";\\n                    }\\n                }\\n\\n                if (pesable == \"False\") {\\n                    maxNoPesable = max;\\n                    t = t + \"&lt;div class=\\'\" + clase + \"\\'&gt;&lt;img class=\\'imagen\\' src=\\'https://www.walmartonline.com.ar/images/Products/img_small/\" + upc + \"s.jpg\\' onerror=\\'this.src=\\\\\"images/no_product_thumbnail.jpg\\\\\"\\'/&gt;&lt;div class=\\'datos\\'&gt;&lt;div&gt;&lt;div class=\\'titulo\\'&gt;&lt;a&gt;\" + nombre + \"&lt;/a&gt;&lt;/div&gt;&lt;div class=\\'itemremove\\'&gt;&lt;a onclick=\\\\\"goCommand(\\'Borrar\\',\\'\" + upc + \"\\',this,\\'\\');\\\\\"&gt;&lt;/a&gt;&lt;/div&gt;&lt;/div&gt;&lt;div&gt;&lt;div class=\\'cantidad\\'&gt;Cantidad: &lt;input type=\\'text\\' id=\\'cant\" + upc + \"\\' class=\\\\\"cantidadval\\\\\" maxlength=\\'2\\' style=\\'width: 18px;height:14px\\' value=\\'\" + cantidad + \"\\' onkeypress=\\\\\"return soloNumeros(event)\\\\\" onblur=\\\\\"selectGrs(\\'Reemplazar\\',\\'\" + upc + \"\\',this.value,1)\\\\\"/&gt;&lt;/div&gt;&lt;div style=\\'float:left\\'&gt;&lt;div class=\\'itemincrement\\'&gt;&lt;a style=\\'cursor:pointer;\\' onclick=\\\\\"goCommand(\\'Incrementar\\',\\'\" + upc + \"\\',\\'\\',1)\\\\\"&gt;+&lt;/a&gt;&lt;/div&gt;&lt;div class=\\'itemdecrement\\'&gt;&lt;a style=\\'cursor:pointer;\\' onclick=\\\\\"goCommand(\\'Decrementar\\',\\'\" + upc + \"\\',\\'\\',1)\\\\\"&gt;-&lt;/a&gt;&lt;/div&gt;&lt;/div&gt;&lt;div class=\\'precio\\'&gt;Precio por &amp;nbsp;\" + unit + \" : &lt;div id=\\'subtotal\" + upc + \"\\'&gt;\" + precio + \"&lt;/div&gt;&lt;/div&gt;&lt;/div&gt;&lt;div class=\\'clear\\'&gt;&lt;/div&gt;&lt;/div&gt;&lt;/div&gt;\";\\n                }\\n                else {\\n                    maxPesable = max;\\n                    t = t + \"&lt;div class=\\'\" + clase + \"\\'&gt;&lt;img class=\\'imagen\\' src=\\'https://www.walmartonline.com.ar/images/Products/img_small/\" + upc + \"s.jpg\\' onerror=\\'this.src=\\\\\"images/no_product_thumbnail.jpg\\\\\"\\'/&gt;&lt;div class=\\'datos\\'&gt;&lt;div&gt;&lt;div class=\\'titulo\\'&gt;&lt;a&gt;\" + nombre + \"&lt;/a&gt;&lt;/div&gt;&lt;div class=\\'itemremove\\'&gt;&lt;a onclick=\\\\\"goCommand(\\'Borrar\\',\\'\" + upc + \"\\',this,\\'\\');\\\\\"&gt;&lt;/a&gt;&lt;/div&gt;&lt;/div&gt;&lt;div&gt;&lt;div class=\\'cantidad\\'&gt;Cantidad: \" +\\n                    \"&lt;span class=\\'opcion\\' upc=\\'\" + upc + \"\\' cantidad=\\'\" + cantidad + \"\\' max=\\'\" + max + \"\\'&gt;&lt;/span&gt; grs\" +\\n                    \"&lt;/div&gt;&lt;div class=\\'precio\\'&gt;Precio por &amp;nbsp;\" + unit + \" : &lt;div&gt;\" + precio + \"&lt;/div&gt;&lt;/div&gt;&lt;/div&gt;&lt;/div&gt;&lt;/div&gt;&lt;div class=\\'clear\\'&gt;&lt;/div&gt;\";\\n                    \"&lt;span&gt;grs&lt;/span&gt;\" +\\n                \"&lt;/div&gt;\" +\\n                \"&lt;div class=\\'precio\\'&gt;Precio: $0.00&lt;/div&gt;\" +\\n                \"&lt;div class=\\'clear\\'&gt;&lt;/div&gt;\" +\\n                \"&lt;/div&gt;\" +\\n                \"&lt;/div&gt;\";\\n                }\\n                if (esUltimo == \"True\" &amp;&amp; numItems &gt; 1)\\n                    t = t + \"&lt;/div&gt;&lt;div class=\\'header2\\'&gt;Art&amp;iacute;culos agregados previamente&lt;/div&gt;&lt;div class=\\'rounded\\'&gt;\";\\n\\n                if (esUltimo == \"True\" &amp;&amp; numItems == 1)\\n                    t = t + \"&lt;/div&gt;&lt;div class=\\'rounded\\'&gt;\"\\n            });\\n            if (numItems == 0)\\n                t = t + \"&lt;div class=\\'rounded\\'&gt;\";\\n            t = t + \"&lt;div class=\\'subtotal\\'&gt;&lt;div style=\\'float:left; text-align:right; width:75%; color:#666;\\'&gt;&lt;strong&gt;Subtotal (&lt;span id=\\'totalItems\\'&gt;&amp;nbsp;\" + numItems + \"&lt;/span&gt;&amp;nbsp;Art\\xedculos):&lt;/strong&gt;&lt;/div&gt;&lt;div style=\\'float:right;width:25%;text-align:right;color:#666;\\'&gt;&lt;strong&gt;&lt;span id=\\'total\\'&gt;\" + subtotal + \"&lt;/span&gt;&lt;/strong&gt;&lt;/div&gt;&lt;/div&gt;\"\\n            t = t + \"&lt;/div&gt;&lt;div class=\\'header2\\'&gt;&lt;div class=\\'btnVaciar\\'&gt;&lt;a onclick=\\'convierteEnLista()\\' href=\\'#\\'&gt;Convertir en lista&lt;/a&gt;&lt;/div&gt;&lt;/div&gt;&lt;div class=\\'btnCheckOut\\' style=\\'background-color:White;border-left:4px solid #FF7911;border-right:4px solid #FF7911;\\'&gt;&lt;div class=\\'btnNaranja\\'&gt;&lt;div class=\\'izq\\'&gt;&lt;/div&gt;&lt;div class=\\'centro\\'&gt;&lt;a onclick=\\'window.location=\\\\\"checkout.aspx\\\\\"\\'&gt;Comprar&lt;/a&gt;&lt;/div&gt;&lt;div class=\\'der\\'&gt;&lt;/div&gt;&lt;/div&gt;&lt;div class=\\'btnBlanco\\'&gt;&lt;div class=\\'izq\\'&gt;&lt;/div&gt;&lt;div class=\\'centro\\'&gt;&lt;a onclick=\\\\\"goCart()\\\\\"&gt;Revisar&lt;/a&gt;&lt;/div&gt;&lt;div class=\\'der\\'&gt;&lt;/div&gt;&lt;/div&gt;&lt;/div&gt;\"\\n            t = t + \"&lt;div class=\\'cartFooter\\'&gt;&lt;/div&gt;\";\\n            $(\"#cart\").html(t);\\n            var selectGramos = \"&lt;select id=\\\\\"DropDownListGrams\\\\\" class=\\'ddlGrams\\' visible=\\\\\"true\\\\\" size=\\\\\"1\\\\\" maxlegnth=\\\\\"4\\\\\" cssclass=\\\\\"grSelect\\\\\"\" +\\n                \"font-names=\\\\\"Arial\\\\\" font-size=\\\\\"10px\\\\\" onchange=\\\\\"selectGrs(\\'Reemplazar\\',$(this).parent().attr(\\'upc\\'),this.options[selectedIndex].text,1)\\\\\";&gt;\" +\\n                \"&lt;option selected=\\\\\"True\\\\\" value=$(this).parent().attr(\\'cantidad\\')&gt;&lt;/option&gt;\";\\n            for (i = 100; i &lt;= maxPesable; i = i + 100) {\\n                selectGramos = selectGramos + \"&lt;option value=\\'\" + i + \"\\'&gt;\" + i + \"&lt;/option&gt;\";\\n            }\\n            selectGramos = selectGramos + \"&lt;/select&gt;\";\\n            $(\".opcion\").append(selectGramos);\\n            $(\\'.ddlGrams\\').each(function(index) {\\n                $(this).val($(this).parent().attr(\\'cantidad\\'));\\n            });\\n            $(\"#cart\").click(function(event) { event.stopPropagation(); });\\n            $(\\'#cart\\').fadeIn();\\n            $(\"#cartItems\").html(\"&lt;div id=\\\\\"divItemsOnCart\\\\\" style=\\\\\"font:Arial; color:White; font-size:larger; padding-left:110px; padding-top:10px;\\\\\"&gt;(&lt;span id=\\\\\"itemsOnCart\\\\\"&gt;\" + numItems + \"&lt;/span&gt;)&lt;div&gt;\");\\n        });\\n        \\n        \\n        //        getNumItems();\\n        //        getSubtotal();\\n    }\\n\\n    function goCart() {\\n        var path = \"Revisar-Carrito.aspx\";\\n        window.location.href = path;\\n    }\\n\\n    function calculaTotal() {\\n        debugger;\\n        getSubtotal();\\n        return;\\n        i = \"\";\\n        //$.each(\".datos\",function(index){\\n        //  i=i+$(\".datos\").eq(index).find(\".cantidadval\").val(); \\n        //});\\n\\n        $(\".cantidadval\").each(function(index) {\\n            i = i + \" \" + $(this).val();\\n        });\\n\\n        //i=$(\".datos\").eq(0).find(\".cantidadval\").val();\\n\\n        alert(i);\\n        $(\"#total\").html(\"prueba\");\\n    }\\n    function goCommand(comando, upc, comentario, cantidad) {\\n    \\n        var flag = document.getElementById(\\'FlagDisabledCart\\');\\n        \\n        if(flag != null)\\n        {\\n            EnabledCartControl();\\n        }\\n        else\\n        {\\n            var cantidad = Number($(\"#cant\" + upc).val());\\n            var comandoLower = comando.toString().toLowerCase();\\n            var nuevaCantidad = 0;\\n            if(comandoLower == \"borrar\"){\\n                $(comentario).parent().parent().parent().parent().remove();\\n            }\\n            if (comandoLower == \"incrementar\") {\\n                nuevaCantidad = cantidad + 1;\\n                if (nuevaCantidad &gt; maxNoPesable) return;\\n                $(\"#cant\" + upc).val(nuevaCantidad);\\n            } else if (comandoLower == \"decrementar\") {\\n                nuevaCantidad = cantidad - 1;\\n                if (nuevaCantidad &lt; 1) return;\\n                $(\"#cant\" + upc).val(nuevaCantidad);\\n            }\\n            $.ajax({\\n                type: \"GET\",\\n                data: \"comando=\" + comando + \"&amp;upc=\" + upc + \"&amp;cantidad=\" + cantidad + \"&amp;comentario=\" + comentario + \"&amp;cantidad=\" + cantidad,\\n                url: \"Cart.aspx\",\\n                async: false\\n            });\\n            getSubtotal();\\n            getNumItems();\\n        }\\n    }\\n\\n    function recalcula(upc, comentario) {\\n        goCommand(\"Recalcula\", upc, comentario, document.getElementById(\"txt\" + upc).value);\\n    }\\n    var handler = function() {\\n        getItems();\\n        $(\\'#CartBtn\\').unbind(\\'click\\', handler);\\n    };\\n\\n    $(document).click(function() {\\n\\n        $(\\'#CartBtn\\').bind(\\'click\\', handler);\\n        $(\\'#cart\\').fadeOut(\\'fast\\', function() {\\n        });\\n        $(\\'#leftMenu\\').hide();\\n     \\n    });\\n\\n    function convierteEnLista() {\\n        if (getCookie(\"WalMartPersisteSession\") != null) {\\n            $(\\'#dialog-conviertecarrito\\').dialog(\\'open\\');\\n            return false;\\n        } else {\\n            $(\\'#dialog-nofirmado\\').dialog(\\'open\\');\\n            return false\\n        }\\n    }\\n\\n    function getCookie(name) {\\n        var nameEQ = name + \"=\";\\n        debugger;\\n        var ca = document.cookie.split(\\';\\');\\n        for (var i = 0; i &lt; ca.length; i++) {\\n            var c = ca[i];\\n            while (c.charAt(0) == \\' \\') c = c.substring(1, c.length);\\n            if (c.indexOf(nameEQ) == 0) return c.substring(nameEQ.length, c.length);\\n        }\\n        return null;\\n    }\\n\\n    $(document).ready(function() {\\n        $(\"#tbxBasicSearch\").autocomplete(\"WebControls/hlAutocomplete.ashx\", {\\n            max: 20,\\n            dataType: \\'json\\',\\n            parse: function(data) {\\n                var parsed = [];\\n                for (var i = 0; i &lt; data.length; i++) {\\n                    parsed[parsed.length] = {\\n                        data: data[i],\\n                        value: data[i].upc,\\n                        result: data[i].Description\\n                    };\\n                }\\n\\n                return parsed;\\n            },\\n            formatItem: function(item) {\\n                return item.Description;\\n            },\\n            minLength: 3,\\n            delay: 100,\\n            minChars: 3,\\n            autoFill: false,\\n            scroll: true,\\n            selectFirst: false\\n        });\\n\\n\\n        $(\\'#CartBtn\\').bind(\\'click\\', handler);\\n        \\n        $(\\'#dialog-conviertecarrito\\').dialog({\\n            autoOpen: false,\\n            resizable: false,\\n            height: 140,\\n            modal: true,\\n            buttons: {\\n\\n                \"Cancelar\": function(event) {\\n                    $(this).dialog(\"close\");\\n                    event.stopPropagation();\\n                },\\n                \"Aceptar\": function(event) {\\n                    var nombreLista = $(\"#nombrelista\").val();\\n                    if (nombreLista != \"\") {\\n\\n\\n                        $.ajax({\\n                            url: \\'WebControls/hlConvertToListFromBasket.ashx?listname=\\' + nombreLista,\\n                            success: function(data) {\\n                                html = \"&lt;div class=\\'alerta\\'&gt;&lt;div class=\\'izq\\'&gt;&lt;/div&gt;&lt;div class=\\'centro\\'&gt;&lt;div class=\\'imagen\\'&gt;&lt;img src=\\'images/ICN_SomeAvailable_25x25.gif\\' /&gt;&lt;/div&gt;&lt;div class=\\'texto\\'&gt;&lt;span&gt;\" + data + \"&lt;/span&gt;&lt;/div&gt;&lt;/div&gt;&lt;div class=\\'der\\'&gt;&lt;/div&gt;&lt;/div&gt;\";\\n                                $(\"#alerta\").html(html);\\n                                $(\"#alerta\").css(\"left\", (($(window).width() - $(\"#alerta\").outerWidth()) / 2) + $(window).scrollLeft() + \"px\");\\n                                $(\"#alerta\").fadeIn(300).delay(3000).fadeOut(300);\\n                            }\\n                        });\\n\\n                        $(this).dialog(\"close\");\\n                    }\\n                    event.stopPropagation();\\n                }\\n            }\\n        });\\n\\n        $(\\'#dialog-confirm\\').dialog({\\n            autoOpen: false,\\n            resizable: false,\\n            height: 140,\\n            modal: true,\\n            buttons: {\\n\\n                \"Cancelar\": function(event) {\\n                    $(this).dialog(\"close\");\\n                    event.stopPropagation();\\n                },\\n                \"Borrar art\\\\u00edculos\": function(event) {\\n                    limpiar();\\n                    numItems = 0;\\n                    subtotal = 0;\\n                    getItems();\\n                    $(this).dialog(\"close\");\\n                    event.stopPropagation();\\n                }\\n            }\\n        });\\n\\n        $(\\'#dialog-nofirmado\\').dialog({\\n            autoOpen: false,\\n            resizable: false,\\n            height: 140,\\n            modal: true,\\n            buttons: {\\n\\n                \"Aceptar\": function(event) {\\n                    $(this).dialog(\"close\");\\n                    event.stopPropagation();\\n                }\\n            }\\n        });\\n\\n        $(\\'#conviertecarrito\\').click(function(event) { event.stopPropagation(); });\\n\\n    });\\n</script>\\n\\n<script language=\"javascript\">    var flag = true;</script>\\n\\n\\n\\n\\n<div style=\"display: none; position: fixed; bottom: -4px;\" id=\"alerta\">\\n</div>\\n<div class=\"clearfix\">\\n    <div id=\"seeAllContainer\">\\n        <div class=\"ddMenuOff\" id=\"com.wm.module.305714.title\">\\n            <a title=\"Ver todos los departamentos\" id=\"seeAllDept\"></a>\\n        </div>\\n    </div>\\n    <div id=\"topNavBar\">\\n        <div class=\"mainSpriteHDR clearfix\" id=\"topNavBarInner\">\\n            <div id=\"searchBox\">\\n                <div class=\"allDep\">\\n                    <select class=\"clase\" id=\"wcHeaderSearching1_ddlDepartmentOp\" name=\"wcHeaderSearching1$ddlDepartmentOp\">\\n\\t<option value=\"Categoria...\">Categoria...</option>\\n\\t<option value=\"D_electrodomesticos\">Electro y tecnologia</option>\\n\\t<option value=\"D_almacen\">Almacen</option>\\n\\t<option value=\"D_automotor\">Automotor</option>\\n\\t<option value=\"D_bazar\">Bazar</option>\\n\\t<option value=\"D_bebidas con alcohol\">Bebidas con alcohol</option>\\n\\t<option value=\"D_bebidas sin alcohol\">Bebidas sin alcohol</option>\\n\\t<option value=\"D_calzado\">Calzado</option>\\n\\t<option value=\"D_carniceria\">Carniceria</option>\\n\\t<option value=\"D_congelados\">Congelados</option>\\n\\t<option value=\"D_farmacia\">Farmacia</option>\\n\\t<option value=\"D_ferreteria\">Ferreteria</option>\\n\\t<option value=\"D_fiambreria\">Fiambreria</option>\\n\\t<option value=\"D_frutas y verduras\">Frutas y verduras</option>\\n\\t<option value=\"D_golosinas y galletitas\">Golosinas y galletitas</option>\\n\\t<option value=\"D_jardineria\">Jardin</option>\\n\\t<option value=\"D_juguetes\">Juguetes</option>\\n\\t<option value=\"D_lacteos\">Lacteos</option>\\n\\t<option value=\"D_libreria\">Libreria</option>\\n\\t<option value=\"D_libros, musica y peliculas\">Libros, musica y peliculas</option>\\n\\t<option value=\"D_limpieza\">Limpieza</option>\\n\\t<option value=\"D_mamas y bebes\">Mamas y bebes</option>\\n\\t<option value=\"D_mascotas\">Mascotas</option>\\n\\t<option value=\"D_panaderia\">Panaderia</option>\\n\\t<option value=\"D_pastas y tapas\">Pastas y tapas</option>\\n\\t<option value=\"D_perfumeria\">Perfumeria</option>\\n\\t<option value=\"D_tiempo libre\">Tiempo libre</option>\\n\\n</select>\\n                </div>\\n            </div>\\n            <div id=\"slider\">\\n                \\n                <div id=\"TypeAhead\">\\n                    <input onkeydown=\"if (event.keyCode == 13) document.getElementById(\\'btnBasicSearch\\').click()\" id=\"tbxBasicSearch\" style=\"padding-left: 4px; font-size: 13px; font-family: arial,sans-serif;\\n                        color: #aaaaaa;\" autocomplete=\"off\" class=\"ac_input\" />\\n                </div>\\n                \\n                \\n                <div class=\"findButton\">\\n                    <input type=\"button\" class=\"mainSpriteHDR\" onclick=\"goSearch()\" id=\"btnBasicSearch\" />\\n                </div>\\n                <div id=\"CartBtn\">\\n                    <a><span id=\"cartItems\"><div style=\"font:Arial; color:White; font-size:larger; padding-left:110px; padding-top:10px;\" id=\"divItemsOnCart\">(<span id=\"itemsOnCart\">0</span>)<div></div></div></span></a>\\n                    <!--<input type=\"submit\" name=\"wcHeaderSearching1$Button1\" value=\"Carrito\" id=\"wcHeaderSearching1_Button1\" onmouseover=\"javascript:getItems();\" />-->\\n                </div>\\n            </div>\\n        </div>\\n    </div>\\n    <div style=\"height: 1px; clear: both\" id=\"cartcontainer\">\\n        <div id=\"cart\">\\n        </div>\\n    </div>\\n    <input type=\"hidden\" value=\"wcHeaderSearching1_ddlDepartmentOp\" id=\"HiddenField1\" />\\n    \\n\\n                <div id=\"leftMenu\">\\n                    \\n\\n\\n\\n<link media=\"screen\" type=\"text/css\" href=\"css/megamenu.css\" rel=\"stylesheet\" />\\n<!-- Menu -->\\n\\n<script src=\"js/mobile.js\" type=\"text/javascript\"></script>\\n\\n<script src=\"js/form.js\" type=\"text/javascript\"></script>\\n\\n\\n\\n<script type=\"text/javascript\" language=\"javascript\">\\n    //debugger;\\n    $(document).ready(function() {\\n        /*loadJson = function() {\\n            $.getJSON(\"WebControls/hlMenuLeft.ashx\", function(json) {\\n                $.each(json, function(i, item) {\\n                    var strMenu = \"\";\\n                    for (i = 0; i &lt; item.length; i++) {\\n                        var menu = item[i];\\n                        if (menu.Elements != null) {\\n                            for (var j = 0; j &lt; menu.Elements.length; j++) {\\n                                var elemento = menu.Elements[j];\\n                                if (j == menu.Elements.length - 1) {\\n                                    strMenu = strMenu + \"&lt;li&gt;&lt;a href=\\\\\"#\\\\\" class=\\\\\"Ultimo\\\\\" onclick=\\'MenuSearching(\\\\\"\" + elemento.departmentName + \"\\\\\",\\\\\"\\\\\");\\'&gt; &amp;nbsp &amp;nbsp \" + elemento.Description + \"&lt;/a&gt;\" + \"&lt;div class=\\\\\"IMG\\\\\"&gt;\" + \"&lt;/div&gt;\";\\n                                } else {\\n                                    strMenu = strMenu + \"&lt;li&gt;&lt;a href=\\\\\"#\\\\\" class=\\\\\"PrimerNivel\\\\\" onclick=\\'MenuSearching(\\\\\"\" + elemento.departmentName + \"\\\\\",\\\\\"\\\\\");\\'&gt; &amp;nbsp &amp;nbsp \" + elemento.Description + \"&lt;/a&gt;\" + \"&lt;div class=\\\\\"IMG\\\\\"&gt;\" + \"&lt;/div&gt;\";\\n                                }\\n\\n                                if (elemento.Elements != null) {\\n                                    strMenu = strMenu + \"&lt;ul&gt;\";\\n                                    for (var y = 0; y &lt; elemento.Elements.length; y++) {\\n                                        strMenu = strMenu + \"&lt;li&gt;&lt;a href=\\\\\"#\\\\\" class=\\\\\"SubMenu\\\\\" onclick=\\'MenuSearching(\\\\\"\" + elemento.departmentName + \"\\\\\",\\\\\"\" + elemento.Elements[y].departmentName + \"\\\\\");\\'&gt; \" + elemento.Elements[y].Description + \"&lt;/a&gt;&lt;/li&gt;\";\\n                                    }\\n                                    strMenu = strMenu + \"&lt;/ul&gt;\";\\n                                }\\n                                strMenu = strMenu + \"&lt;/li&gt;\";\\n                            }\\n                            strMenu = strMenu + \"&lt;/li&gt;\";\\n                        }\\n\\n                        strMenu = strMenu + \"&lt;/ul&gt;&lt;/li&gt;\";\\n                    }\\n                    $(\\'.MenuBarVertical\\').append(strMenu)\\n                    var MenuBar2 = new Spry.Widget.MenuBar(\"MenuBar2\", { imgRight: \"ajax/widgets/menubar/SpryMenuBarRightHover.gif\" });\\n                });\\n            });\\n        };*/\\n        \\n        loadJson = function() {\\n            $.getJSON(\"WebControls/hlMenuLeft.ashx\", function(json) {\\n                $.each(json, function(i, item) {\\n                    var strMenu = \"\";\\n                    for (i = 0; i &lt; item.length; i++) {\\n                        var menu = item[i];\\n                        if (menu.Elements != null) {\\n                            for (var j = 0; j &lt; menu.Elements.length; j++) {\\n                                var elemento = menu.Elements[j];\\n                                strMenu = strMenu + \"&lt;li&gt;&lt;a href=\\\\\"#\\\\\" class=\\\\\"drop\\\\\" onclick=\\'MenuSearching(\\\\\"\" + elemento.departmentName + \"\\\\\",\\\\\"\\\\\");\\'&gt;\" + elemento.Description + \"&lt;/a&gt;\";\\n\\n                                if (elemento.Elements != null) {\\n                                    strMenu = strMenu + \"&lt;div class=\\\\\"dropdown_1column\\\\\"&gt;&lt;div class=\\\\\"col_1 firstcolumn\\\\\"&gt;&lt;ul class=\\\\\"levels\\\\\"&gt;\";\\n                                    for (var y = 0; y &lt; elemento.Elements.length; y++) {\\n                                        //strMenu = strMenu + \"&lt;li&gt;&lt;a href=\\\\\"#\\\\\" class=\\\\\"SubMenu\\\\\" onclick=\\'MenuSearching(\\\\\"\" + elemento.departmentName + \"\\\\\",\\\\\"\" + elemento.Elements[y].departmentName + \"\\\\\");\\'&gt; \" + elemento.Elements[y].Description + \"&lt;/a&gt;&lt;/li&gt;\";\\n                                        strMenu = strMenu + \"&lt;li&gt;&lt;a href=\\\\\"#\\\\\" onclick=\\'MenuSearching(\\\\\"\" + elemento.departmentName + \"\\\\\",\\\\\"\" + elemento.Elements[y].departmentName + \"\\\\\");\\'&gt;\" + elemento.Elements[y].Description + \"&lt;/a&gt;&lt;/li&gt;\";\\n                                    }\\n                                    strMenu = strMenu + \"&lt;/ul&gt;&lt;/div&gt;&lt;/div&gt;\";\\n                                }\\n                                //strMenu = strMenu + \"&lt;/li&gt;\";\\n                            }\\n                            strMenu = strMenu + \"&lt;/li&gt;\";\\n                        }\\n\\n                        //strMenu = strMenu + \"&lt;/ul&gt;&lt;/li&gt;\";\\n                    }\\n                    $(\\'#menuVR\\').append(strMenu)\\n                });\\n            });\\n        };\\n        setTimeout(loadJson, 1);\\n\\n        $(\"#seeAllContainer,#leftMenu\").hover(function() {\\n            $(\\'#leftMenu\\').show();\\n        }, function() {\\n            \\n        });\\n    });\\n\\n\\n    function MenuSearching(Department, Family) {\\n        document.form1._EVENTTARGET.value = Department;\\n        document.form1._EVENTARGUMENT.value = Family;\\n\\n        if (Family != \"\") {\\n            var event = \\'Busqueda.aspx?Departamento=\\' + Department + \\'&amp;Familia=\\' + Family;\\n        }\\n        else {\\n            var event = \\'Busqueda.aspx?Departamento=\\' + Department;\\n        }\\n        window.location.href = event;\\n    }\\n\\n\\n</script>\\n\\n\\n    <input type=\"hidden\" value=\"\" name=\"_EVENTTARGET\" />\\n    <input type=\"hidden\" value=\"\" name=\"_EVENTARGUMENT\" />\\n    <table cellspacing=\"0\" cellpadding=\"0\" style=\"width: 100%\">\\n        <tbody><tr>\\n            <td>\\n                <table cellspacing=\"0\" cellpadding=\"0\" style=\"width: 100%\">\\n                    <tbody><tr>\\n                        <td valign=\"top\" style=\"width: 180px;\">\\n                            <table cellspacing=\"0\" cellpadding=\"0\" style=\"width: 220px; height: 100%;\">\\n                                <tbody><tr>\\n                                    <td valign=\"top\">\\n                                        <div class=\"wrapper_menu menu_light_theme\">\\n                                            <ul class=\"menu menu_blue\" id=\"menuVR\">\\n                                            <li><a onclick=\\'MenuSearching(\"D_electrodomesticos\",\"\");\\' class=\"drop\" href=\"#\">Electro y tecnologia</a><div class=\"dropdown_1column\"><div class=\"col_1 firstcolumn\"><ul class=\"levels\"><li><a onclick=\\'MenuSearching(\"D_electrodomesticos\",\"f_ACCESORIOS ELECTRO\");\\' href=\"#\">Accesorios</a></li><li><a onclick=\\'MenuSearching(\"D_electrodomesticos\",\"f_AUDIO\");\\' href=\"#\">Audio</a></li><li><a onclick=\\'MenuSearching(\"D_electrodomesticos\",\"f_CELULARES\");\\' href=\"#\">Celulares</a></li><li><a onclick=\\'MenuSearching(\"D_electrodomesticos\",\"f_ELECTRO CUIDADO PERSONAL\");\\' href=\"#\">Cuidado personal</a></li><li><a onclick=\\'MenuSearching(\"D_electrodomesticos\",\"f_TV Y DVD\");\\' href=\"#\">Dvd y home theater</a></li><li><a onclick=\\'MenuSearching(\"D_electrodomesticos\",\"f_CAMARAS\");\\' href=\"#\">Fotografia</a></li><li><a onclick=\\'MenuSearching(\"D_electrodomesticos\",\"f_FRIO- CALOR\");\\' href=\"#\">Frio- calor</a></li><li><a onclick=\\'MenuSearching(\"D_electrodomesticos\",\"f_GPS\");\\' href=\"#\">Gps</a></li><li><a onclick=\\'MenuSearching(\"D_electrodomesticos\",\"f_INFORMATICA\");\\' href=\"#\">Inform\\xe1tica</a></li><li><a onclick=\\'MenuSearching(\"D_electrodomesticos\",\"f_LED\");\\' href=\"#\">Led y lcd</a></li><li><a onclick=\\'MenuSearching(\"D_electrodomesticos\",\"f_LINEA BLANCA\");\\' href=\"#\">Linea blanca</a></li><li><a onclick=\\'MenuSearching(\"D_electrodomesticos\",\"f_PEQUE\\xd1OS\");\\' href=\"#\">Peque\\xf1os cocina</a></li><li><a onclick=\\'MenuSearching(\"D_electrodomesticos\",\"f_PEQUE\\xd1OS ELECTRO HOGAR\");\\' href=\"#\">Peque\\xf1os hogar</a></li><li><a onclick=\\'MenuSearching(\"D_electrodomesticos\",\"f_VIDEO JUEGOS\");\\' href=\"#\">Video juegos</a></li></ul></div></div></li><li><a onclick=\\'MenuSearching(\"D_almacen\",\"\");\\' class=\"drop\" href=\"#\">Almacen</a><div class=\"dropdown_1column\"><div class=\"col_1 firstcolumn\"><ul class=\"levels\"><li><a onclick=\\'MenuSearching(\"D_almacen\",\"f_ALMACEN ACEITES\");\\' href=\"#\">Aceites</a></li><li><a onclick=\\'MenuSearching(\"D_almacen\",\"f_ACEITUNAS Y ENCURTIDOS\");\\' href=\"#\">Aceitunas y encurtidos</a></li><li><a onclick=\\'MenuSearching(\"D_almacen\",\"f_ARROZ\");\\' href=\"#\">Arroz</a></li><li><a onclick=\\'MenuSearching(\"D_almacen\",\"f_AZUCAR Y EDULCORANTE\");\\' href=\"#\">Azucar y edulcorante</a></li><li><a onclick=\\'MenuSearching(\"D_almacen\",\"f_CEREALES\");\\' href=\"#\">Cereales</a></li><li><a onclick=\\'MenuSearching(\"D_almacen\",\"f_CONDIMENTOS\");\\' href=\"#\">Condimentos</a></li><li><a onclick=\\'MenuSearching(\"D_almacen\",\"f_CONSERVAS\");\\' href=\"#\">Conservas</a></li><li><a onclick=\\'MenuSearching(\"D_almacen\",\"f_ALMACEN DULCES\");\\' href=\"#\">Dulces</a></li><li><a onclick=\\'MenuSearching(\"D_almacen\",\"f_FRUTAS SECAS\");\\' href=\"#\">Frutas secas</a></li><li><a onclick=\\'MenuSearching(\"D_almacen\",\"f_HARINAS\");\\' href=\"#\">Harinas</a></li><li><a onclick=\\'MenuSearching(\"D_almacen\",\"f_ALMACEN HUEVOS\");\\' href=\"#\">Huevos</a></li><li><a onclick=\\'MenuSearching(\"D_almacen\",\"f_INFUSIONES\");\\' href=\"#\">Infusiones</a></li><li><a onclick=\\'MenuSearching(\"D_almacen\",\"f_LECHE EN POLVO\");\\' href=\"#\">Leche en polvo</a></li><li><a onclick=\\'MenuSearching(\"D_almacen\",\"f_LEGUMBRES\");\\' href=\"#\">Legumbres</a></li><li><a onclick=\\'MenuSearching(\"D_almacen\",\"f_PANIFICADOS\");\\' href=\"#\">Panificados</a></li><li><a onclick=\\'MenuSearching(\"D_almacen\",\"f_ALMACEN PASTAS\");\\' href=\"#\">Pastas</a></li><li><a onclick=\\'MenuSearching(\"D_almacen\",\"f_POSTRES\");\\' href=\"#\">Postres</a></li><li><a onclick=\\'MenuSearching(\"D_almacen\",\"f_PURE INSTANTANEO\");\\' href=\"#\">Pure instantaneo</a></li><li><a onclick=\\'MenuSearching(\"D_almacen\",\"f_REPOSTERIA\");\\' href=\"#\">Reposteria</a></li><li><a onclick=\\'MenuSearching(\"D_almacen\",\"f_SEMILLAS\");\\' href=\"#\">Semillas</a></li><li><a onclick=\\'MenuSearching(\"D_almacen\",\"f_SNACKS\");\\' href=\"#\">Snacks</a></li><li><a onclick=\\'MenuSearching(\"D_almacen\",\"f_SOPAS Y CALDOS\");\\' href=\"#\">Sopas y caldos</a></li><li><a onclick=\\'MenuSearching(\"D_almacen\",\"f_TOMATES Y SALSAS\");\\' href=\"#\">Tomates y salsas</a></li></ul></div></div></li><li><a onclick=\\'MenuSearching(\"D_automotor\",\"\");\\' class=\"drop\" href=\"#\">Automotor</a><div class=\"dropdown_1column\"><div class=\"col_1 firstcolumn\"><ul class=\"levels\"><li><a onclick=\\'MenuSearching(\"D_automotor\",\"f_AUTOMOTOR ACCESORIOS\");\\' href=\"#\">Accesorios</a></li><li><a onclick=\\'MenuSearching(\"D_automotor\",\"f_AROMATIZANTES\");\\' href=\"#\">Aromatizantes</a></li><li><a onclick=\\'MenuSearching(\"D_automotor\",\"f_CUBIERTAS\");\\' href=\"#\">Cubiertas</a></li><li><a onclick=\\'MenuSearching(\"D_automotor\",\"f_LLANTAS\");\\' href=\"#\">Llantas</a></li></ul></div></div></li><li><a onclick=\\'MenuSearching(\"D_bazar\",\"\");\\' class=\"drop\" href=\"#\">Bazar</a><div class=\"dropdown_1column\"><div class=\"col_1 firstcolumn\"><ul class=\"levels\"><li><a onclick=\\'MenuSearching(\"D_bazar\",\"f_DDM BAZAR\");\\' href=\"#\">Aromatizadores</a></li><li><a onclick=\\'MenuSearching(\"D_bazar\",\"f_CAJAS\");\\' href=\"#\">Cajas</a></li><li><a onclick=\\'MenuSearching(\"D_bazar\",\"f_CARRITO DE COMPRAS\");\\' href=\"#\">Carritos y bolsas</a></li><li><a onclick=\\'MenuSearching(\"D_bazar\",\"f_COCCION PAVAS\");\\' href=\"#\">Coccion</a></li><li><a onclick=\\'MenuSearching(\"D_bazar\",\"f_COLCHONES Y SOMMIER\");\\' href=\"#\">Colchones y sommier</a></li><li><a onclick=\\'MenuSearching(\"D_bazar\",\"f_CRISTALERIA\");\\' href=\"#\">Cristaleria</a></li><li><a onclick=\\'MenuSearching(\"D_bazar\",\"f_DDM DECO\");\\' href=\"#\">Deco</a></li><li><a onclick=\\'MenuSearching(\"D_bazar\",\"f_HERMETICOS\");\\' href=\"#\">Hermeticos</a></li><li><a onclick=\\'MenuSearching(\"D_bazar\",\"f_MATES Y TERMOS\");\\' href=\"#\">Mates y termos</a></li><li><a onclick=\\'MenuSearching(\"D_bazar\",\"f_PLASTICOS INFANTILES\");\\' href=\"#\">Plasticos</a></li><li><a onclick=\\'MenuSearching(\"D_bazar\",\"f_PLASTICOS LIMPIEZA\");\\' href=\"#\">Plasticos limpieza</a></li><li><a onclick=\\'MenuSearching(\"D_bazar\",\"f_PERCHAS\");\\' href=\"#\">Ropa</a></li><li><a onclick=\\'MenuSearching(\"D_bazar\",\"f_TABLAS MADERA\");\\' href=\"#\">Tablas de madera</a></li><li><a onclick=\\'MenuSearching(\"D_bazar\",\"f_BAZAR CUBIERTOS\");\\' href=\"#\">Vajilla</a></li><li><a onclick=\\'MenuSearching(\"D_bazar\",\"f_VARIOS BAZAR\");\\' href=\"#\">Varios</a></li></ul></div></div></li><li><a onclick=\\'MenuSearching(\"D_bebidas con alcohol\",\"\");\\' class=\"drop\" href=\"#\">Bebidas con alcohol</a><div class=\"dropdown_1column\"><div class=\"col_1 firstcolumn\"><ul class=\"levels\"><li><a onclick=\\'MenuSearching(\"D_bebidas con alcohol\",\"f_APERITIVOS\");\\' href=\"#\">Aperitivos</a></li><li><a onclick=\\'MenuSearching(\"D_bebidas con alcohol\",\"f_BLANCAS\");\\' href=\"#\">Blancas</a></li><li><a onclick=\\'MenuSearching(\"D_bebidas con alcohol\",\"f_CERVEZAS\");\\' href=\"#\">Cervezas</a></li><li><a onclick=\\'MenuSearching(\"D_bebidas con alcohol\",\"f_ESPUMANTES\");\\' href=\"#\">Espumantes</a></li><li><a onclick=\\'MenuSearching(\"D_bebidas con alcohol\",\"f_ESTUCHES\");\\' href=\"#\">Estuches</a></li><li><a onclick=\\'MenuSearching(\"D_bebidas con alcohol\",\"f_LICORES\");\\' href=\"#\">Licores</a></li><li><a onclick=\\'MenuSearching(\"D_bebidas con alcohol\",\"f_SIDRAS\");\\' href=\"#\">Sidras- otros</a></li><li><a onclick=\\'MenuSearching(\"D_bebidas con alcohol\",\"f_VINO BLANCO\");\\' href=\"#\">Vino blanco</a></li><li><a onclick=\\'MenuSearching(\"D_bebidas con alcohol\",\"f_VINO ROSADO\");\\' href=\"#\">Vino rosado</a></li><li><a onclick=\\'MenuSearching(\"D_bebidas con alcohol\",\"f_VINO TINTO\");\\' href=\"#\">Vino tinto</a></li></ul></div></div></li><li><a onclick=\\'MenuSearching(\"D_bebidas sin alcohol\",\"\");\\' class=\"drop\" href=\"#\">Bebidas sin alcohol</a><div class=\"dropdown_1column\"><div class=\"col_1 firstcolumn\"><ul class=\"levels\"><li><a onclick=\\'MenuSearching(\"D_bebidas sin alcohol\",\"f_AGUAS\");\\' href=\"#\">Aguas</a></li><li><a onclick=\\'MenuSearching(\"D_bebidas sin alcohol\",\"f_ENERGIZANTES\");\\' href=\"#\">Energizantes</a></li><li><a onclick=\\'MenuSearching(\"D_bebidas sin alcohol\",\"f_GASEOSAS\");\\' href=\"#\">Gaseosas</a></li><li><a onclick=\\'MenuSearching(\"D_bebidas sin alcohol\",\"f_HIERBAS\");\\' href=\"#\">Hierbas</a></li><li><a onclick=\\'MenuSearching(\"D_bebidas sin alcohol\",\"f_ISOTONICAS\");\\' href=\"#\">Isotonicas</a></li><li><a onclick=\\'MenuSearching(\"D_bebidas sin alcohol\",\"f_JUGOS\");\\' href=\"#\">Jugos</a></li></ul></div></div></li><li><a onclick=\\'MenuSearching(\"D_calzado\",\"\");\\' class=\"drop\" href=\"#\">Calzado</a><div class=\"dropdown_1column\"><div class=\"col_1 firstcolumn\"><ul class=\"levels\"><li><a onclick=\\'MenuSearching(\"D_calzado\",\"f_ALPARGATAS RUEDA\");\\' href=\"#\">Alpargatas rueda</a></li></ul></div></div></li><li><a onclick=\\'MenuSearching(\"D_carniceria\",\"\");\\' class=\"drop\" href=\"#\">Carniceria</a><div class=\"dropdown_1column\"><div class=\"col_1 firstcolumn\"><ul class=\"levels\"><li><a onclick=\\'MenuSearching(\"D_carniceria\",\"f_CARBON\");\\' href=\"#\">Carbon</a></li><li><a onclick=\\'MenuSearching(\"D_carniceria\",\"f_CERDO\");\\' href=\"#\">Cerdo</a></li><li><a onclick=\\'MenuSearching(\"D_carniceria\",\"f_CARNICERIA EMBUTIDOS\");\\' href=\"#\">Embutidos</a></li><li><a onclick=\\'MenuSearching(\"D_carniceria\",\"f_GRANJA\");\\' href=\"#\">Granja</a></li><li><a onclick=\\'MenuSearching(\"D_carniceria\",\"f_VACUNA\");\\' href=\"#\">Vacuna</a></li></ul></div></div></li><li><a onclick=\\'MenuSearching(\"D_congelados\",\"\");\\' class=\"drop\" href=\"#\">Congelados</a><div class=\"dropdown_1column\"><div class=\"col_1 firstcolumn\"><ul class=\"levels\"><li><a onclick=\\'MenuSearching(\"D_congelados\",\"f_CONGE COMIDAS\");\\' href=\"#\">Comidas</a></li><li><a onclick=\\'MenuSearching(\"D_congelados\",\"f_HAMBURGUESAS\");\\' href=\"#\">Hamburguesas</a></li><li><a onclick=\\'MenuSearching(\"D_congelados\",\"f_HELADO\");\\' href=\"#\">Helados</a></li><li><a onclick=\\'MenuSearching(\"D_congelados\",\"f_CONGE PAPAS FRITAS\");\\' href=\"#\">Papas fritas</a></li><li><a onclick=\\'MenuSearching(\"D_congelados\",\"f_CONG REBOZADOS\");\\' href=\"#\">Rebozados</a></li><li><a onclick=\\'MenuSearching(\"D_congelados\",\"f_CONG VEGETALES\");\\' href=\"#\">Vegetales</a></li></ul></div></div></li><li><a onclick=\\'MenuSearching(\"D_farmacia\",\"\");\\' class=\"drop\" href=\"#\">Farmacia</a><div class=\"dropdown_1column\"><div class=\"col_1 firstcolumn\"><ul class=\"levels\"><li><a onclick=\\'MenuSearching(\"D_farmacia\",\"f_FARMACIA CUIDADO PERSONAL\");\\' href=\"#\">Cuidado personal</a></li><li><a onclick=\\'MenuSearching(\"D_farmacia\",\"f_MEDICAMENTOS\");\\' href=\"#\">Medicamentos</a></li><li><a onclick=\\'MenuSearching(\"D_farmacia\",\"f_PRIMEROS AUXILIOS\");\\' href=\"#\">Primeros auxilios</a></li></ul></div></div></li><li><a onclick=\\'MenuSearching(\"D_ferreteria\",\"\");\\' class=\"drop\" href=\"#\">Ferreteria</a><div class=\"dropdown_1column\"><div class=\"col_1 firstcolumn\"><ul class=\"levels\"><li><a onclick=\\'MenuSearching(\"D_ferreteria\",\"f_ADHESIVOS\");\\' href=\"#\">Adhesivos</a></li><li><a onclick=\\'MenuSearching(\"D_ferreteria\",\"l_HERRAMIENTAS\");\\' href=\"#\">Herramientas</a></li><li><a onclick=\\'MenuSearching(\"D_ferreteria\",\"f_LAMPARITAS\");\\' href=\"#\">Lamparitas</a></li><li><a onclick=\\'MenuSearching(\"D_ferreteria\",\"f_PILAS\");\\' href=\"#\">Pilas</a></li><li><a onclick=\\'MenuSearching(\"D_ferreteria\",\"f_PINTURERIA\");\\' href=\"#\">Pintureria</a></li></ul></div></div></li><li><a onclick=\\'MenuSearching(\"D_fiambreria\",\"\");\\' class=\"drop\" href=\"#\">Fiambreria</a><div class=\"dropdown_1column\"><div class=\"col_1 firstcolumn\"><ul class=\"levels\"><li><a onclick=\\'MenuSearching(\"D_fiambreria\",\"f_ACEITUNAS/ ENCURTIDOS\");\\' href=\"#\">Aceitunas/ encurtidos</a></li><li><a onclick=\\'MenuSearching(\"D_fiambreria\",\"f_FIAMBRERIA DULCES\");\\' href=\"#\">Dulces</a></li><li><a onclick=\\'MenuSearching(\"D_fiambreria\",\"f_FIAMBRERIA EMBUTIDOS\");\\' href=\"#\">Embutidos</a></li><li><a onclick=\\'MenuSearching(\"D_fiambreria\",\"f_FIAMBRES\");\\' href=\"#\">Fiambres</a></li><li><a onclick=\\'MenuSearching(\"D_fiambreria\",\"f_QUESOS\");\\' href=\"#\">Quesos</a></li></ul></div></div></li><li><a onclick=\\'MenuSearching(\"D_frutas y verduras\",\"\");\\' class=\"drop\" href=\"#\">Frutas y verduras</a><div class=\"dropdown_1column\"><div class=\"col_1 firstcolumn\"><ul class=\"levels\"><li><a onclick=\\'MenuSearching(\"D_frutas y verduras\",\"f_FRUTAS\");\\' href=\"#\">Frutas</a></li><li><a onclick=\\'MenuSearching(\"D_frutas y verduras\",\"f_VERDURAS\");\\' href=\"#\">Verduras</a></li></ul></div></div></li><li><a onclick=\\'MenuSearching(\"D_golosinas y galletitas\",\"\");\\' class=\"drop\" href=\"#\">Golosinas y galletitas</a><div class=\"dropdown_1column\"><div class=\"col_1 firstcolumn\"><ul class=\"levels\"><li><a onclick=\\'MenuSearching(\"D_golosinas y galletitas\",\"f_BARRA DE CEREAL\");\\' href=\"#\">Barra de cereal</a></li><li><a onclick=\\'MenuSearching(\"D_golosinas y galletitas\",\"f_BIZCOCHOS\");\\' href=\"#\">Bizcochos</a></li><li><a onclick=\\'MenuSearching(\"D_golosinas y galletitas\",\"f_GALLETITAS DE ARROZ\");\\' href=\"#\">Galletitas de arroz</a></li><li><a onclick=\\'MenuSearching(\"D_golosinas y galletitas\",\"f_GALLETITAS DULCES\");\\' href=\"#\">Galletitas dulces</a></li><li><a onclick=\\'MenuSearching(\"D_golosinas y galletitas\",\"f_GALLETITAS SALADAS\");\\' href=\"#\">Galletitas saladas</a></li><li><a onclick=\\'MenuSearching(\"D_golosinas y galletitas\",\"f_GOLOSINAS\");\\' href=\"#\">Golosinas</a></li></ul></div></div></li><li><a onclick=\\'MenuSearching(\"D_jardineria\",\"\");\\' class=\"drop\" href=\"#\">Jardin</a><div class=\"dropdown_1column\"><div class=\"col_1 firstcolumn\"><ul class=\"levels\"><li><a onclick=\\'MenuSearching(\"D_jardineria\",\"f_JARDINERIA ACCESORIOS\");\\' href=\"#\">Accesorios</a></li><li><a onclick=\\'MenuSearching(\"D_jardineria\",\"f_JARDINERIA MUEBLES\");\\' href=\"#\">Muebles</a></li><li><a onclick=\\'MenuSearching(\"D_jardineria\",\"f_PILETAS\");\\' href=\"#\">Piletas</a></li></ul></div></div></li><li><a onclick=\\'MenuSearching(\"D_juguetes\",\"\");\\' class=\"drop\" href=\"#\">Juguetes</a><div class=\"dropdown_1column\"><div class=\"col_1 firstcolumn\"><ul class=\"levels\"><li><a onclick=\\'MenuSearching(\"D_juguetes\",\"f_ACCESORIOS JUGUETERIA\");\\' href=\"#\">Accesorios</a></li><li><a onclick=\\'MenuSearching(\"D_juguetes\",\"f_JUEGOS DE MESA\");\\' href=\"#\">Juegos de mesa</a></li><li><a onclick=\\'MenuSearching(\"D_juguetes\",\"f_JUGUETES\");\\' href=\"#\">Juguetes</a></li><li><a onclick=\\'MenuSearching(\"D_juguetes\",\"f_LIBROS Y DVD\");\\' href=\"#\">Musica y peliculas</a></li><li><a onclick=\\'MenuSearching(\"D_juguetes\",\"f_PERFUMES\");\\' href=\"#\">Perfumes</a></li><li><a onclick=\\'MenuSearching(\"D_juguetes\",\"f_RODADOS\");\\' href=\"#\">Rodados</a></li></ul></div></div></li><li><a onclick=\\'MenuSearching(\"D_lacteos\",\"\");\\' class=\"drop\" href=\"#\">Lacteos</a><div class=\"dropdown_1column\"><div class=\"col_1 firstcolumn\"><ul class=\"levels\"><li><a onclick=\\'MenuSearching(\"D_lacteos\",\"f_CREMAS\");\\' href=\"#\">Cremas</a></li><li><a onclick=\\'MenuSearching(\"D_lacteos\",\"f_DULCE DE LECHE\");\\' href=\"#\">Dulce de leche</a></li><li><a onclick=\\'MenuSearching(\"D_lacteos\",\"f_LECHE\");\\' href=\"#\">Leche</a></li><li><a onclick=\\'MenuSearching(\"D_lacteos\",\"f_LEVADURAS Y GRASAS\");\\' href=\"#\">Levaduras y grasas</a></li><li><a onclick=\\'MenuSearching(\"D_lacteos\",\"f_MANTECA/ MARGARINA\");\\' href=\"#\">Manteca/ margarina</a></li><li><a onclick=\\'MenuSearching(\"D_lacteos\",\"f_LACTEOS POSTRES Y FLANES\");\\' href=\"#\">Postres y flanes</a></li><li><a onclick=\\'MenuSearching(\"D_lacteos\",\"f_QUESOS UNTABLES\");\\' href=\"#\">Quesos untables</a></li><li><a onclick=\\'MenuSearching(\"D_lacteos\",\"f_ROICOTA\");\\' href=\"#\">Ricota</a></li><li><a onclick=\\'MenuSearching(\"D_lacteos\",\"f_SALUD ACTIVA\");\\' href=\"#\">Salud activa</a></li><li><a onclick=\\'MenuSearching(\"D_lacteos\",\"f_YOGUR DESCREMADO\");\\' href=\"#\">Yogur descremado</a></li><li><a onclick=\\'MenuSearching(\"D_lacteos\",\"f_YOGUR ENTERO\");\\' href=\"#\">Yogur entero</a></li></ul></div></div></li><li><a onclick=\\'MenuSearching(\"D_libreria\",\"\");\\' class=\"drop\" href=\"#\">Libreria</a><div class=\"dropdown_1column\"><div class=\"col_1 firstcolumn\"><ul class=\"levels\"><li><a onclick=\\'MenuSearching(\"D_libreria\",\"f_CARPETAS\");\\' href=\"#\">Carpetas</a></li><li><a onclick=\\'MenuSearching(\"D_libreria\",\"f_ESCRITURA\");\\' href=\"#\">Escritura</a></li><li><a onclick=\\'MenuSearching(\"D_libreria\",\"f_MANUALIDADES\");\\' href=\"#\">Manualidades</a></li><li><a onclick=\\'MenuSearching(\"D_libreria\",\"f_MOCHILAS Y CARTUCHERAS\");\\' href=\"#\">Mochilas y cartucheras</a></li><li><a onclick=\\'MenuSearching(\"D_libreria\",\"f_OFICINA\");\\' href=\"#\">Oficina</a></li><li><a onclick=\\'MenuSearching(\"D_libreria\",\"f_REPUESTOS Y CUADERNOS\");\\' href=\"#\">Repuestos y cuadernos</a></li></ul></div></div></li><li><a onclick=\\'MenuSearching(\"D_libros, musica y peliculas\",\"\");\\' class=\"drop\" href=\"#\">Libros, musica y peliculas</a><div class=\"dropdown_1column\"><div class=\"col_1 firstcolumn\"><ul class=\"levels\"><li><a onclick=\\'MenuSearching(\"D_libros, musica y peliculas\",\"f_LIBROS\");\\' href=\"#\">Libros</a></li><li><a onclick=\\'MenuSearching(\"D_libros, musica y peliculas\",\"f_MUSICA\");\\' href=\"#\">Musica</a></li><li><a onclick=\\'MenuSearching(\"D_libros, musica y peliculas\",\"f_PELICULAS\");\\' href=\"#\">Peliculas</a></li></ul></div></div></li><li><a onclick=\\'MenuSearching(\"D_limpieza\",\"\");\\' class=\"drop\" href=\"#\">Limpieza</a><div class=\"dropdown_1column\"><div class=\"col_1 firstcolumn\"><ul class=\"levels\"><li><a onclick=\\'MenuSearching(\"D_limpieza\",\"f_BALDES\");\\' href=\"#\">Baldes</a></li><li><a onclick=\\'MenuSearching(\"D_limpieza\",\"f_BA\\xd1O\");\\' href=\"#\">Ba\\xf1o</a></li><li><a onclick=\\'MenuSearching(\"D_limpieza\",\"f_CALZADO\");\\' href=\"#\">Calzado</a></li><li><a onclick=\\'MenuSearching(\"D_limpieza\",\"f_COCINA\");\\' href=\"#\">Cocina</a></li><li><a onclick=\\'MenuSearching(\"D_limpieza\",\"f_DESINFECTANTES\");\\' href=\"#\">Desinfectantes</a></li><li><a onclick=\\'MenuSearching(\"D_limpieza\",\"f_DESODORANTE DE AMBIENTE\");\\' href=\"#\">Desodorante de ambiente</a></li><li><a onclick=\\'MenuSearching(\"D_limpieza\",\"f_ESCOBAS Y CABOS\");\\' href=\"#\">Escobas y cabos</a></li><li><a onclick=\\'MenuSearching(\"D_limpieza\",\"f_ESPONJAS\");\\' href=\"#\">Esponjas</a></li><li><a onclick=\\'MenuSearching(\"D_limpieza\",\"f_GUANTES\");\\' href=\"#\">Guantes</a></li><li><a onclick=\\'MenuSearching(\"D_limpieza\",\"f_INSECTICIDAS\");\\' href=\"#\">Insecticidas</a></li><li><a onclick=\\'MenuSearching(\"D_limpieza\",\"f_LIMPIADORES\");\\' href=\"#\">Limpiadores</a></li><li><a onclick=\\'MenuSearching(\"D_limpieza\",\"f_LIMPIEZA MUEBLES\");\\' href=\"#\">Muebles</a></li><li><a onclick=\\'MenuSearching(\"D_limpieza\",\"f_MULTIUSO\");\\' href=\"#\">Multiuso</a></li><li><a onclick=\\'MenuSearching(\"D_limpieza\",\"f_PA\\xd1OS\");\\' href=\"#\">Pa\\xf1os</a></li><li><a onclick=\\'MenuSearching(\"D_limpieza\",\"f_LIMPIEZA PAPELES\");\\' href=\"#\">Papeles</a></li><li><a onclick=\\'MenuSearching(\"D_limpieza\",\"f_PISOS\");\\' href=\"#\">Pisos</a></li><li><a onclick=\\'MenuSearching(\"D_limpieza\",\"f_PLUMEROS- LIMPIAVIDRIOS\");\\' href=\"#\">Plumeros- limpiavidrios</a></li><li><a onclick=\\'MenuSearching(\"D_limpieza\",\"f_ROPA\");\\' href=\"#\">Ropa</a></li><li><a onclick=\\'MenuSearching(\"D_limpieza\",\"f_VARIOS COCINA\");\\' href=\"#\">Varios</a></li></ul></div></div></li><li><a onclick=\\'MenuSearching(\"D_mamas y bebes\",\"\");\\' class=\"drop\" href=\"#\">Mamas y bebes</a><div class=\"dropdown_1column\"><div class=\"col_1 firstcolumn\"><ul class=\"levels\"><li><a onclick=\\'MenuSearching(\"D_mamas y bebes\",\"f_MAMAS Y BEBES ACCESORIOS\");\\' href=\"#\">Accesorios</a></li><li><a onclick=\\'MenuSearching(\"D_mamas y bebes\",\"f_MAMAS Y BEBES ACEITES\");\\' href=\"#\">Aceites y cremas</a></li><li><a onclick=\\'MenuSearching(\"D_mamas y bebes\",\"f_ALIMENTACION INFANTIL\");\\' href=\"#\">Alimentacion infantil</a></li><li><a onclick=\\'MenuSearching(\"D_mamas y bebes\",\"f_CHUPETES/ MAMADERAS\");\\' href=\"#\">Chupetes/ mamaderas</a></li><li><a onclick=\\'MenuSearching(\"D_mamas y bebes\",\"f_CUIDADO MAMA\");\\' href=\"#\">Cuidado mama</a></li><li><a onclick=\\'MenuSearching(\"D_mamas y bebes\",\"f_FRAGANCIAS BEBE\");\\' href=\"#\">Fragancias</a></li><li><a onclick=\\'MenuSearching(\"D_mamas y bebes\",\"f_OLEO CALCAREO\");\\' href=\"#\">Oleo calcareo</a></li><li><a onclick=\\'MenuSearching(\"D_mamas y bebes\",\"f_MAMAS Y BEBES PA\\xd1ALES\");\\' href=\"#\">Pa\\xf1ales</a></li><li><a onclick=\\'MenuSearching(\"D_mamas y bebes\",\"f_PARA EL BA\\xd1O\");\\' href=\"#\">Para el ba\\xf1o</a></li><li><a onclick=\\'MenuSearching(\"D_mamas y bebes\",\"f_RODADOS/CUNAS\");\\' href=\"#\">Rodados y cunas</a></li><li><a onclick=\\'MenuSearching(\"D_mamas y bebes\",\"f_SEGURIDAD\");\\' href=\"#\">Seguridad</a></li><li><a onclick=\\'MenuSearching(\"D_mamas y bebes\",\"f_TALCO/ FECULA\");\\' href=\"#\">Talco/ fecula</a></li><li><a onclick=\\'MenuSearching(\"D_mamas y bebes\",\"f_TOALLITAS HUMEDAS\");\\' href=\"#\">Toallitas humedas</a></li><li><a onclick=\\'MenuSearching(\"D_mamas y bebes\",\"f_VARIOS ACCESORIOS\");\\' href=\"#\">Varios</a></li></ul></div></div></li><li><a onclick=\\'MenuSearching(\"D_mascotas\",\"\");\\' class=\"drop\" href=\"#\">Mascotas</a><div class=\"dropdown_1column\"><div class=\"col_1 firstcolumn\"><ul class=\"levels\"><li><a onclick=\\'MenuSearching(\"D_mascotas\",\"f_ACCESORIOS MASCOTAS\");\\' href=\"#\">Accesorios</a></li><li><a onclick=\\'MenuSearching(\"D_mascotas\",\"f_ALIMENTO GATO\");\\' href=\"#\">Alimento gato</a></li><li><a onclick=\\'MenuSearching(\"D_mascotas\",\"f_ALIMENTO PERRO\");\\' href=\"#\">Alimento perro</a></li></ul></div></div></li><li><a onclick=\\'MenuSearching(\"D_panaderia\",\"\");\\' class=\"drop\" href=\"#\">Panaderia</a><div class=\"dropdown_1column\"><div class=\"col_1 firstcolumn\"><ul class=\"levels\"><li><a onclick=\\'MenuSearching(\"D_panaderia\",\"f_BUDINES\");\\' href=\"#\">Budines</a></li><li><a onclick=\\'MenuSearching(\"D_panaderia\",\"f_FACTURAS / DONUTS\");\\' href=\"#\">Facturas / donuts</a></li><li><a onclick=\\'MenuSearching(\"D_panaderia\",\"f_PANADERIA OTROS\");\\' href=\"#\">Otros</a></li><li><a onclick=\\'MenuSearching(\"D_panaderia\",\"f_PAN\");\\' href=\"#\">Pan</a></li><li><a onclick=\\'MenuSearching(\"D_panaderia\",\"f_SANDWICHES DE MIGA\");\\' href=\"#\">Sandwiches de miga</a></li><li><a onclick=\\'MenuSearching(\"D_panaderia\",\"f_TORTAS\");\\' href=\"#\">Tortas</a></li></ul></div></div></li><li><a onclick=\\'MenuSearching(\"D_pastas y tapas\",\"\");\\' class=\"drop\" href=\"#\">Pastas y tapas</a><div class=\"dropdown_1column\"><div class=\"col_1 firstcolumn\"><ul class=\"levels\"><li><a onclick=\\'MenuSearching(\"D_pastas y tapas\",\"f_PASTAS\");\\' href=\"#\">Pastas</a></li><li><a onclick=\\'MenuSearching(\"D_pastas y tapas\",\"f_TAPAS\");\\' href=\"#\">Tapas</a></li></ul></div></div></li><li><a onclick=\\'MenuSearching(\"D_perfumeria\",\"\");\\' class=\"drop\" href=\"#\">Perfumeria</a><div class=\"dropdown_1column\"><div class=\"col_1 firstcolumn\"><ul class=\"levels\"><li><a onclick=\\'MenuSearching(\"D_perfumeria\",\"f_AFEITADO\");\\' href=\"#\">Afeitado</a></li><li><a onclick=\\'MenuSearching(\"D_perfumeria\",\"f_ALGODON/ HISOPOS\");\\' href=\"#\">Algodon/ hisopos</a></li><li><a onclick=\\'MenuSearching(\"D_perfumeria\",\"f_CUIDADO DE LA PIEL\");\\' href=\"#\">Cuidado de la piel</a></li><li><a onclick=\\'MenuSearching(\"D_perfumeria\",\"f_CUIDADO DEL CABELLO\");\\' href=\"#\">Cuidado del cabello</a></li><li><a onclick=\\'MenuSearching(\"D_perfumeria\",\"f_CREMAS Y TONICOS\");\\' href=\"#\">Cuidado facial</a></li><li><a onclick=\\'MenuSearching(\"D_perfumeria\",\"f_HIGIENE BUCAL\");\\' href=\"#\">Cuidado oral</a></li><li><a onclick=\\'MenuSearching(\"D_perfumeria\",\"f_DESODORANTES\");\\' href=\"#\">Desodorantes</a></li><li><a onclick=\\'MenuSearching(\"D_perfumeria\",\"f_FARMACIA\");\\' href=\"#\">Farmacia</a></li><li><a onclick=\\'MenuSearching(\"D_perfumeria\",\"f_FRAGANCIAS\");\\' href=\"#\">Fragancias</a></li><li><a onclick=\\'MenuSearching(\"D_perfumeria\",\"f_JABONES\");\\' href=\"#\">Jabones</a></li><li><a onclick=\\'MenuSearching(\"D_perfumeria\",\"f_MANOS Y PIES\");\\' href=\"#\">Manos y pies</a></li><li><a onclick=\\'MenuSearching(\"D_perfumeria\",\"f_PERFUMERIA PA\\xd1ALES\");\\' href=\"#\">Pa\\xf1ales</a></li><li><a onclick=\\'MenuSearching(\"D_perfumeria\",\"f_PROTECCION FEMENINA\");\\' href=\"#\">Proteccion femenina</a></li><li><a onclick=\\'MenuSearching(\"D_perfumeria\",\"f_SALES, GELES Y ESPUMAS\");\\' href=\"#\">Sales, geles y espumas</a></li><li><a onclick=\\'MenuSearching(\"D_perfumeria\",\"f_TALCOS\");\\' href=\"#\">Talcos</a></li></ul></div></div></li><li><a onclick=\\'MenuSearching(\"D_tiempo libre\",\"\");\\' class=\"drop\" href=\"#\">Tiempo libre</a><div class=\"dropdown_1column\"><div class=\"col_1 firstcolumn\"><ul class=\"levels\"><li><a onclick=\\'MenuSearching(\"D_tiempo libre\",\"f_CAMPING\");\\' href=\"#\">Camping</a></li><li><a onclick=\\'MenuSearching(\"D_tiempo libre\",\"f_DEPORTE\");\\' href=\"#\">Deporte</a></li><li><a onclick=\\'MenuSearching(\"D_tiempo libre\",\"f_JUEGOS JARDIN\");\\' href=\"#\">Juegos jardin</a></li><li><a onclick=\\'MenuSearching(\"D_tiempo libre\",\"f_VERANO PILETAS\");\\' href=\"#\">Piletas</a></li><li><a onclick=\\'MenuSearching(\"D_tiempo libre\",\"f_RODADOS\");\\' href=\"#\">Rodados</a></li></ul></div></div></li></ul>\\n                                        </div>\\n                                    </td>\\n                                </tr>\\n                                <tr>\\n                                    <td valign=\"top\" style=\"\">\\n                                        <div class=\"redondoIzquierda\">\\n                                        </div>\\n                                        <div class=\"redondoCentro\">\\n                                        </div>\\n                                        <div class=\"redondoDerecha\">\\n                                        </div>\\n                                    </td>\\n                                </tr>\\n                            </tbody></table>\\n                        </td>\\n                    </tr>\\n                </tbody></table>\\n            </td>\\n        </tr>\\n    </tbody></table>\\n\\n\\n                </div>\\n            </div>\\n        </div>\\n        <div class=\"MidContainer\">\\n            <div class=\"MainContentContainer clearfix\">\\n                <div id=\"secondaryNav\">\\n                    <div id=\"WrapperSN\">\\n                        <div id=\"subtitulo\">\\n                            <div class=\"tituloNaranja\">\\n                                <div style=\"\" id=\"NavLink\" class=\"\">\\n                                    \\n                                    <a href=\"Busqueda.aspx?Departamento=D_almacen\">\\n                                        Almacen\\xa0&gt;\\xa0</a> <a href=\"Busqueda.aspx?Departamento=D_almacen&amp;Familia=f_ACEITUNAS%20Y%20ENCURTIDOS\">\\n                                            Aceitunas Y Encurtidos\\xa0&gt;\\xa0</a> <a href=\"Busqueda.aspx?Departamento=D_almacen&amp;Familia=f_ACEITUNAS%20Y%20ENCURTIDOS&amp;Linea=l_ACEITUNAS%20VERDES\">\\n                                                Aceitunas Verdes</a>\\n                                </div>\\n                            </div>\\n                        </div>\\n                    </div>\\n                </div>\\n                <div class=\"clear\">\\n                </div>\\n                <div class=\"NavColumn\">\\n                    <div style=\"float: right;\" id=\"cart\">\\n                    </div>\\n                    <div id=\"loader\" style=\"display: none;\">\\n                        <img src=\"images/loader2.gif\" />\\n                    </div>\\n                    <div class=\"summary\" id=\"summary\" style=\"display: block;\">\\n                        <ul>\\n                            <li><a href=\"Busqueda.aspx?Departamento=D_almacen&amp;Familia=&amp;Linea=l_ACEITUNAS%20NEGRAS&amp;Text=\">\\n                                Aceitunas negras\\xa0\\xa0(8)</a> </li>\\n                        </ul><ul>\\n                            <li><a href=\"Busqueda.aspx?Departamento=D_almacen&amp;Familia=&amp;Linea=l_ACEITUNAS%20RELLENAS&amp;Text=\">\\n                                Aceitunas rellenas\\xa0\\xa0(8)</a> </li>\\n                        </ul><ul>\\n                            <li><a href=\"Busqueda.aspx?Departamento=D_almacen&amp;Familia=&amp;Linea=l_ACEITUNAS%20VERDES&amp;Text=\">\\n                                Aceitunas verdes\\xa0\\xa0(27)</a> </li>\\n                        </ul><ul>\\n                            <li><a href=\"Busqueda.aspx?Departamento=D_almacen&amp;Familia=&amp;Linea=l_ENCURTIDOS&amp;Text=\">\\n                                Encurtidos\\xa0\\xa0(16)</a> </li>\\n                        </ul>\\n                    </div>\\n                    <div style=\"display: block;\" class=\"summary\" id=\"counterPrice\">\\n                        <ul>\\n                            \\n                        </ul><ul>\\n                            \\n                        </ul><ul>\\n                            \\n                        </ul><ul>\\n                            \\n                        </ul><ul>\\n                            \\n                        </ul><ul>\\n                            \\n                        </ul><ul>\\n                            \\n                        </ul>\\n                    </div>\\n                </div>\\n                <div class=\"MainColumn\">\\n                    <div id=\"body\">\\n                        <div>\\n                        </div>\\n                        <div id=\"busqueda\">\\n                            <table>\\n                                <tbody><tr>\\n                                    <td>\\n                                    </td>\\n                                </tr>\\n                            </tbody></table>\\n                        </div>\\n                        <div>\\n                            <div class=\"bordeIzqHeaderResultados\">\\n                            </div>\\n                            <div class=\"bordeDerHeaderResultados\">\\n                            </div>\\n                            <div class=\"cuadroBusquedaAvanzada\">\\n                                <div style=\"width: 330px\" id=\"advSearchBox\">\\n                                    Nombre, art\\xedculo, marca\\n                                    <input type=\"text\" onkeypress=\"return soloCaracteresValidos(event);\" onkeyup=\"StartFilterTimer();\" id=\"filterTF\" />\\n                                </div>\\n                                \\n                                <div style=\"text-align: center; float: left\">\\n                                    <a style=\"cursor: pointer; text-decoration: none\" onclick=\"visualizaMosaico(true)\"><b>\\n                                        Mosaico \\xa0<img alt=\"Mosaico\" src=\"images/search/GridView.gif\" style=\"border: 1px solid White; background-color: White;\" />\\n                                    </b></a>\\xa0 o \\xa0 <a style=\"cursor: pointer;\\n                                        text-decoration: none\" onclick=\"visualizaMosaico(false)\"><b>Lista \\xa0<img alt=\"Lista\" src=\"images/search/ListView.gif\" style=\"border: 1px solid White; background-color: White\" /></b> </a>\\n                                    <input type=\"checkbox\" style=\"display: none\" checked=\"checked\" id=\"chkMosaico\" />\\n                                </div>\\n                                <div id=\"advOrder\">\\n                                    Ordenar por:\\n                                    <select onchange=\"doFilter(this.options[selectedIndex].text,selectedIndex);\" id=\"chooseFilter\" name=\"chooseFilter\">\\n                                        <option>--Selecciona un filtro--</option>\\n                                        <option>\\n                                            Nombre A-Z</option>\\n                                        <option>\\n                                            Nombre Z-A</option>\\n                                        <option>\\n                                            Precio Menor-Mayor</option>\\n                                        <option>\\n                                            Precio Mayor-Menor</option>\\n                                    </select>\\n                                </div>\\n                                <div class=\"clear\">\\n                                </div>\\n                            </div>\\n                            <div id=\"headerResultados\" style=\"display: block;\">\\n                                <div class=\"navegacion detalle\">\\n                                    <table cellspacing=\"0\" cellpadding=\"0\" style=\"width: 100%; height: 25px;\">\\n                                        <tbody><tr>\\n                                            <td>\\n                                            </td>\\n                                            <td style=\"text-align: center;\">\\n                                                <div style=\"float: left\">\\n                                                    <table cellspacing=\"2\" cellpadding=\"3\">\\n                                                        <tbody><tr>\\n                                                            <td align=\"left\" style=\"width: 50%\" colspan=\"2\">\\n                                                                <div id=\"spryregion1\" class=\"\">\\n                                                                    <span>1 - 27\\n                                                                        de 27 productos</span> \\n                                                                </div>\\n                                                            </td>\\n                                                        </tr>\\n                                                    </tbody></table>\\n                                                </div>\\n                                                <div style=\"float: right\">\\n                                                    <table>\\n                                                        <tbody><tr>\\n                                                            <td width=\"65px\">\\n                                                                <a onclick=\"pvItems.previousPage();MosaicoOn();\">\\n                                                                    <div class=\"flechaAnterior\">\\n                                                                    </div>\\n                                                                    Anterior</a>\\n                                                            </td>\\n                                                            <td>\\n                                                                <span style=\"text-align: center\" id=\"spryregion2\" class=\"\">\\n                                                                    \\n                                                                     <span class=\"currentPage\">\\n                                                                            1</span> </span>\\n                                                            </td>\\n                                                            <td width=\"80px\">\\n                                                                <div class=\"clear\">\\n                                                                </div>\\n                                                                <a onclick=\"pvItems.nextPage();MosaicoOn();\">\\n                                                                    <div class=\"flechaSiguiente\">\\n                                                                    </div>\\n                                                                    Siguiente</a>\\n                                                                <div class=\"clear\">\\n                                                                </div>\\n                                                            </td>\\n                                                        </tr>\\n                                                    </tbody></table>\\n                                                </div>\\n                                            </td>\\n                                            <td style=\"text-align: right;\">\\n                                            \\n                                            </td>\\n                                        </tr>\\n                                    </tbody></table>\\n                                    <div class=\"clear\">\\n                                    </div>\\n                                </div>\\n                            </div>\\n                        </div>\\n                        <div style=\"margin-top: -4px\">\\n                            \\xa0</div>\\n                        <div class=\"resultadosMosaico\" id=\"regionpvItems\" style=\"display: block;\">\\n                            <div class=\"pnlGrid pnlGridItem\">\\n                                <div>\\n\\t\\n                                    <div class=\"pnlInfo\">\\n\\t\\t\\n                                        <div style=\"height: 80px\">\\n                                            <div style=\"float: left; padding: 5px; padding-top: 10px\">\\n                                                <a title=\"Aceitunas verdes nucete 180 gr\" href=\"https://www.walmartonline.com.ar/images/products/img_large/0779207000111L.jpg\" class=\"single_image\">\\n                                                    <img border=\"0\" name=\"imAceitunas verdes nucete 180 gr\" src=\"https://www.walmartonline.com.ar/images/Products/img_small/0779207000111s.jpg\" id=\"im0779207000111\" alt=\"Aceitunas verdes nucete 180 gr\" class=\"imagenArticulo\" />\\n                                                </a>\\n                                            </div>\\n                                            <div>\\n                                                <div class=\"detalle\" style=\"padding: 10px\">\\n                                                    <a title=\"Aceitunas verdes nucete 180 gr\" href=\"Detalle-de-articulo.aspx?upc=0779207000111\">\\n                                                        Aceitunas verdes nucete 180 gr</a>\\n                                                </div>\\n                                                <div style=\"height: 20px\">\\n                                                </div>\\n                                            </div>\\n                                        </div>\\n                                        <div class=\"clear\">\\n                                        </div>\\n                                        <div class=\"btnComentario\">\\n                                            <a class=\"linkComentario\" id=\"btnComment0779207000111\">Comentario</a></div>\\n                                    \\n\\t</div>\\n                                    <div class=\"pnlItem\">\\n\\t\\t\\n                                        <div class=\"boton\">\\n                                            <div class=\"AgregarCarrito\">\\n                                                \\n                                                <div style=\"padding: 5px\">\\n                                                    <b>Cantidad</b>\\xa0\\xa0\\xa0\\n                                                    <input onkeypress=\"return soloNumeros(event)\" title=\"Ajusta la cantidad que deseas agregar a tu carrito\" maxlength=\"4\" size=\"2\" value=\"1\" id=\"in0779207000111\" style=\"height: 14px\" name=\"in0779207000111\" />\\n                                                    <a onclick=\"agregaServer(\\'$9.30\\',\\'0779207000111\\',document.getElementById(\\'in0779207000111\\').value,document.getElementById(\\'txtCom0779207000111\\').value);$(\\'#comment0779207000111\\').hide()\" style=\"cursor: pointer;\" class=\"agregaCarrito\">\\n                                                        <img style=\"border-style: none; height: 23px;\" alt=\"Agrega \\u201cAceitunas verdes nucete 180 gr\\u201d a tu carrito\" src=\"https://www.walmartonline.com.ar/images/cart/car.gif\" />\\n                                                    </a>\\n                                                    <div class=\"agregado\">\\n                                                    </div>\\n                                                </div>\\n                                            </div>\\n                                        </div>\\n                                        <div style=\"white-space: nowrap\">\\n                                            <div style=\"padding: 5px;\">\\n                                                <span class=\"totalItem\">$9.30</span>\\n                                                <div class=\"precioUN\">\\n                                                    Precio por:KG\\n                                                    <br />\\n                                                    $51.66</div>\\n                                            </div>\\n                                        </div>\\n                                        <div class=\"clear\">\\n                                        </div>\\n                                        <div class=\"cajaComentario\" id=\"comment0779207000111\">\\n                                            <div>\\n                                                Ingresa aqu\\xed cualquier comentario o sugerencia.</div>\\n                                            <p>\\n                                                <input style=\"height: 20px; width: 150px\" maxlength=\"50\" size=\"30\" onkeypress=\"return soloCaracteresValidosParaBuscqueda(event)\" id=\"txtCom0779207000111\" /></p>\\n                                            <div class=\"btnCerrar\">\\n                                                <a onclick=\"$(this).parent().parent().fadeOut()\">Cerrar</a></div>\\n                                        </div>\\n                                    \\n\\t</div>\\n                                \\n</div>\\n                            </div><div class=\"pnlGrid pnlGridItem\">\\n                                <div>\\n\\t\\n                                    <div class=\"pnlInfo\">\\n\\t\\t\\n                                        <div style=\"height: 80px\">\\n                                            <div style=\"float: left; padding: 5px; padding-top: 10px\">\\n                                                <a title=\"Aceitunas verdes clasicas castell 180 gr\" href=\"https://www.walmartonline.com.ar/images/products/img_large/0779167500050L.jpg\" class=\"single_image\">\\n                                                    <img border=\"0\" name=\"imAceitunas verdes clasicas castell 180 gr\" src=\"https://www.walmartonline.com.ar/images/Products/img_small/0779167500050s.jpg\" id=\"im0779167500050\" alt=\"Aceitunas verdes clasicas castell 180 gr\" class=\"imagenArticulo\" />\\n                                                </a>\\n                                            </div>\\n                                            <div>\\n                                                <div class=\"detalle\" style=\"padding: 10px\">\\n                                                    <a title=\"Aceitunas verdes clasicas castell 180 gr\" href=\"Detalle-de-articulo.aspx?upc=0779167500050\">\\n                                                        Aceitunas verdes clasicas castell 180 gr</a>\\n                                                </div>\\n                                                <div style=\"height: 20px\">\\n                                                </div>\\n                                            </div>\\n                                        </div>\\n                                        <div class=\"clear\">\\n                                        </div>\\n                                        <div class=\"btnComentario\">\\n                                            <a class=\"linkComentario\" id=\"btnComment0779167500050\">Comentario</a></div>\\n                                    \\n\\t</div>\\n                                    <div class=\"pnlItem\">\\n\\t\\t\\n                                        <div class=\"boton\">\\n                                            <div class=\"AgregarCarrito\">\\n                                                \\n                                                <div style=\"padding: 5px\">\\n                                                    <b>Cantidad</b>\\xa0\\xa0\\xa0\\n                                                    <input onkeypress=\"return soloNumeros(event)\" title=\"Ajusta la cantidad que deseas agregar a tu carrito\" maxlength=\"4\" size=\"2\" value=\"1\" id=\"in0779167500050\" style=\"height: 14px\" name=\"in0779167500050\" />\\n                                                    <a onclick=\"agregaServer(\\'$10.80\\',\\'0779167500050\\',document.getElementById(\\'in0779167500050\\').value,document.getElementById(\\'txtCom0779167500050\\').value);$(\\'#comment0779167500050\\').hide()\" style=\"cursor: pointer;\" class=\"agregaCarrito\">\\n                                                        <img style=\"border-style: none; height: 23px;\" alt=\"Agrega \\u201cAceitunas verdes clasicas castell 180 gr\\u201d a tu carrito\" src=\"https://www.walmartonline.com.ar/images/cart/car.gif\" />\\n                                                    </a>\\n                                                    <div class=\"agregado\">\\n                                                    </div>\\n                                                </div>\\n                                            </div>\\n                                        </div>\\n                                        <div style=\"white-space: nowrap\">\\n                                            <div style=\"padding: 5px;\">\\n                                                <span class=\"totalItem\">$10.80</span>\\n                                                <div class=\"precioUN\">\\n                                                    Precio por:KG\\n                                                    <br />\\n                                                    $60.00</div>\\n                                            </div>\\n                                        </div>\\n                                        <div class=\"clear\">\\n                                        </div>\\n                                        <div class=\"cajaComentario\" id=\"comment0779167500050\">\\n                                            <div>\\n                                                Ingresa aqu\\xed cualquier comentario o sugerencia.</div>\\n                                            <p>\\n                                                <input style=\"height: 20px; width: 150px\" maxlength=\"50\" size=\"30\" onkeypress=\"return soloCaracteresValidosParaBuscqueda(event)\" id=\"txtCom0779167500050\" /></p>\\n                                            <div class=\"btnCerrar\">\\n                                                <a onclick=\"$(this).parent().parent().fadeOut()\">Cerrar</a></div>\\n                                        </div>\\n                                    \\n\\t</div>\\n                                \\n</div>\\n                            </div><div class=\"pnlGrid pnlGridItem\">\\n                                <div>\\n\\t\\n                                    <div class=\"pnlInfo\">\\n\\t\\t\\n                                        <div style=\"height: 80px\">\\n                                            <div style=\"float: left; padding: 5px; padding-top: 10px\">\\n                                                <a title=\"Aceitunas verdes descarozadas nucete 150gr\" href=\"https://www.walmartonline.com.ar/images/products/img_large/0779207000110L.jpg\" class=\"single_image\">\\n                                                    <img border=\"0\" name=\"imAceitunas verdes descarozadas nucete 150gr\" src=\"https://www.walmartonline.com.ar/images/Products/img_small/0779207000110s.jpg\" id=\"im0779207000110\" alt=\"Aceitunas verdes descarozadas nucete 150gr\" class=\"imagenArticulo\" />\\n                                                </a>\\n                                            </div>\\n                                            <div>\\n                                                <div class=\"detalle\" style=\"padding: 10px\">\\n                                                    <a title=\"Aceitunas verdes descarozadas nucete 150gr\" href=\"Detalle-de-articulo.aspx?upc=0779207000110\">\\n                                                        Aceitunas verdes descarozadas nucete 150gr</a>\\n                                                </div>\\n                                                <div style=\"height: 20px\">\\n                                                </div>\\n                                            </div>\\n                                        </div>\\n                                        <div class=\"clear\">\\n                                        </div>\\n                                        <div class=\"btnComentario\">\\n                                            <a class=\"linkComentario\" id=\"btnComment0779207000110\">Comentario</a></div>\\n                                    \\n\\t</div>\\n                                    <div class=\"pnlItem\">\\n\\t\\t\\n                                        <div class=\"boton\">\\n                                            <div class=\"AgregarCarrito\">\\n                                                \\n                                                <div style=\"padding: 5px\">\\n                                                    <b>Cantidad</b>\\xa0\\xa0\\xa0\\n                                                    <input onkeypress=\"return soloNumeros(event)\" title=\"Ajusta la cantidad que deseas agregar a tu carrito\" maxlength=\"4\" size=\"2\" value=\"1\" id=\"in0779207000110\" style=\"height: 14px\" name=\"in0779207000110\" />\\n                                                    <a onclick=\"agregaServer(\\'$12.90\\',\\'0779207000110\\',document.getElementById(\\'in0779207000110\\').value,document.getElementById(\\'txtCom0779207000110\\').value);$(\\'#comment0779207000110\\').hide()\" style=\"cursor: pointer;\" class=\"agregaCarrito\">\\n                                                        <img style=\"border-style: none; height: 23px;\" alt=\"Agrega \\u201cAceitunas verdes descarozadas nucete 150gr\\u201d a tu carrito\" src=\"https://www.walmartonline.com.ar/images/cart/car.gif\" />\\n                                                    </a>\\n                                                    <div class=\"agregado\">\\n                                                    </div>\\n                                                </div>\\n                                            </div>\\n                                        </div>\\n                                        <div style=\"white-space: nowrap\">\\n                                            <div style=\"padding: 5px;\">\\n                                                <span class=\"totalItem\">$12.90</span>\\n                                                <div class=\"precioUN\">\\n                                                    Precio por:KG\\n                                                    <br />\\n                                                    $86.00</div>\\n                                            </div>\\n                                        </div>\\n                                        <div class=\"clear\">\\n                                        </div>\\n                                        <div class=\"cajaComentario\" id=\"comment0779207000110\">\\n                                            <div>\\n                                                Ingresa aqu\\xed cualquier comentario o sugerencia.</div>\\n                                            <p>\\n                                                <input style=\"height: 20px; width: 150px\" maxlength=\"50\" size=\"30\" onkeypress=\"return soloCaracteresValidosParaBuscqueda(event)\" id=\"txtCom0779207000110\" /></p>\\n                                            <div class=\"btnCerrar\">\\n                                                <a onclick=\"$(this).parent().parent().fadeOut()\">Cerrar</a></div>\\n                                        </div>\\n                                    \\n\\t</div>\\n                                \\n</div>\\n                            </div><div class=\"pnlGrid pnlGridItem\">\\n                                <div>\\n\\t\\n                                    <div class=\"pnlInfo\">\\n\\t\\t\\n                                        <div style=\"height: 80px\">\\n                                            <div style=\"float: left; padding: 5px; padding-top: 10px\">\\n                                                <a title=\"Aceitunas verdes salmuera nucete 100gr\" href=\"https://www.walmartonline.com.ar/images/products/img_large/0779207000104L.jpg\" class=\"single_image\">\\n                                                    <img border=\"0\" name=\"imAceitunas verdes salmuera nucete 100gr\" src=\"https://www.walmartonline.com.ar/images/Products/img_small/0779207000104s.jpg\" id=\"im0779207000104\" alt=\"Aceitunas verdes salmuera nucete 100gr\" class=\"imagenArticulo\" />\\n                                                </a>\\n                                            </div>\\n                                            <div>\\n                                                <div class=\"detalle\" style=\"padding: 10px\">\\n                                                    <a title=\"Aceitunas verdes salmuera nucete 100gr\" href=\"Detalle-de-articulo.aspx?upc=0779207000104\">\\n                                                        Aceitunas verdes salmuera nucete 100gr</a>\\n                                                </div>\\n                                                <div style=\"height: 20px\">\\n                                                </div>\\n                                            </div>\\n                                        </div>\\n                                        <div class=\"clear\">\\n                                        </div>\\n                                        <div class=\"btnComentario\">\\n                                            <a class=\"linkComentario\" id=\"btnComment0779207000104\">Comentario</a></div>\\n                                    \\n\\t</div>\\n                                    <div class=\"pnlItem\">\\n\\t\\t\\n                                        <div class=\"boton\">\\n                                            <div class=\"AgregarCarrito\">\\n                                                \\n                                                <div style=\"padding: 5px\">\\n                                                    <b>Cantidad</b>\\xa0\\xa0\\xa0\\n                                                    <input onkeypress=\"return soloNumeros(event)\" title=\"Ajusta la cantidad que deseas agregar a tu carrito\" maxlength=\"4\" size=\"2\" value=\"1\" id=\"in0779207000104\" style=\"height: 14px\" name=\"in0779207000104\" />\\n                                                    <a onclick=\"agregaServer(\\'$7.60\\',\\'0779207000104\\',document.getElementById(\\'in0779207000104\\').value,document.getElementById(\\'txtCom0779207000104\\').value);$(\\'#comment0779207000104\\').hide()\" style=\"cursor: pointer;\" class=\"agregaCarrito\">\\n                                                        <img style=\"border-style: none; height: 23px;\" alt=\"Agrega \\u201cAceitunas verdes salmuera nucete 100gr\\u201d a tu carrito\" src=\"https://www.walmartonline.com.ar/images/cart/car.gif\" />\\n                                                    </a>\\n                                                    <div class=\"agregado\">\\n                                                    </div>\\n                                                </div>\\n                                            </div>\\n                                        </div>\\n                                        <div style=\"white-space: nowrap\">\\n                                            <div style=\"padding: 5px;\">\\n                                                <span class=\"totalItem\">$7.60</span>\\n                                                <div class=\"precioUN\">\\n                                                    Precio por:KG\\n                                                    <br />\\n                                                    $76.00</div>\\n                                            </div>\\n                                        </div>\\n                                        <div class=\"clear\">\\n                                        </div>\\n                                        <div class=\"cajaComentario\" id=\"comment0779207000104\">\\n                                            <div>\\n                                                Ingresa aqu\\xed cualquier comentario o sugerencia.</div>\\n                                            <p>\\n                                                <input style=\"height: 20px; width: 150px\" maxlength=\"50\" size=\"30\" onkeypress=\"return soloCaracteresValidosParaBuscqueda(event)\" id=\"txtCom0779207000104\" /></p>\\n                                            <div class=\"btnCerrar\">\\n                                                <a onclick=\"$(this).parent().parent().fadeOut()\">Cerrar</a></div>\\n                                        </div>\\n                                    \\n\\t</div>\\n                                \\n</div>\\n                            </div><div class=\"pnlGrid pnlGridItem\">\\n                                <div>\\n\\t\\n                                    <div class=\"pnlInfo\">\\n\\t\\t\\n                                        <div style=\"height: 80px\">\\n                                            <div style=\"float: left; padding: 5px; padding-top: 10px\">\\n                                                <a title=\"Aceitunas verdes descarozadas nucete 80 gr\" href=\"https://www.walmartonline.com.ar/images/products/img_large/0779207000106L.jpg\" class=\"single_image\">\\n                                                    <img border=\"0\" name=\"imAceitunas verdes descarozadas nucete 80 gr\" src=\"https://www.walmartonline.com.ar/images/Products/img_small/0779207000106s.jpg\" id=\"im0779207000106\" alt=\"Aceitunas verdes descarozadas nucete 80 gr\" class=\"imagenArticulo\" />\\n                                                </a>\\n                                            </div>\\n                                            <div>\\n                                                <div class=\"detalle\" style=\"padding: 10px\">\\n                                                    <a title=\"Aceitunas verdes descarozadas nucete 80 gr\" href=\"Detalle-de-articulo.aspx?upc=0779207000106\">\\n                                                        Aceitunas verdes descarozadas nucete 80 gr</a>\\n                                                </div>\\n                                                <div style=\"height: 20px\">\\n                                                </div>\\n                                            </div>\\n                                        </div>\\n                                        <div class=\"clear\">\\n                                        </div>\\n                                        <div class=\"btnComentario\">\\n                                            <a class=\"linkComentario\" id=\"btnComment0779207000106\">Comentario</a></div>\\n                                    \\n\\t</div>\\n                                    <div class=\"pnlItem\">\\n\\t\\t\\n                                        <div class=\"boton\">\\n                                            <div class=\"AgregarCarrito\">\\n                                                \\n                                                <div style=\"padding: 5px\">\\n                                                    <b>Cantidad</b>\\xa0\\xa0\\xa0\\n                                                    <input onkeypress=\"return soloNumeros(event)\" title=\"Ajusta la cantidad que deseas agregar a tu carrito\" maxlength=\"4\" size=\"2\" value=\"1\" id=\"in0779207000106\" style=\"height: 14px\" name=\"in0779207000106\" />\\n                                                    <a onclick=\"agregaServer(\\'$8.00\\',\\'0779207000106\\',document.getElementById(\\'in0779207000106\\').value,document.getElementById(\\'txtCom0779207000106\\').value);$(\\'#comment0779207000106\\').hide()\" style=\"cursor: pointer;\" class=\"agregaCarrito\">\\n                                                        <img style=\"border-style: none; height: 23px;\" alt=\"Agrega \\u201cAceitunas verdes descarozadas nucete 80 gr\\u201d a tu carrito\" src=\"https://www.walmartonline.com.ar/images/cart/car.gif\" />\\n                                                    </a>\\n                                                    <div class=\"agregado\">\\n                                                    </div>\\n                                                </div>\\n                                            </div>\\n                                        </div>\\n                                        <div style=\"white-space: nowrap\">\\n                                            <div style=\"padding: 5px;\">\\n                                                <span class=\"totalItem\">$8.00</span>\\n                                                <div class=\"precioUN\">\\n                                                    Precio por:KG\\n                                                    <br />\\n                                                    $100.00</div>\\n                                            </div>\\n                                        </div>\\n                                        <div class=\"clear\">\\n                                        </div>\\n                                        <div class=\"cajaComentario\" id=\"comment0779207000106\">\\n                                            <div>\\n                                                Ingresa aqu\\xed cualquier comentario o sugerencia.</div>\\n                                            <p>\\n                                                <input style=\"height: 20px; width: 150px\" maxlength=\"50\" size=\"30\" onkeypress=\"return soloCaracteresValidosParaBuscqueda(event)\" id=\"txtCom0779207000106\" /></p>\\n                                            <div class=\"btnCerrar\">\\n                                                <a onclick=\"$(this).parent().parent().fadeOut()\">Cerrar</a></div>\\n                                        </div>\\n                                    \\n\\t</div>\\n                                \\n</div>\\n                            </div><div class=\"pnlGrid pnlGridItem\">\\n                                <div>\\n\\t\\n                                    <div class=\"pnlInfo\">\\n\\t\\t\\n                                        <div style=\"height: 80px\">\\n                                            <div style=\"float: left; padding: 5px; padding-top: 10px\">\\n                                                <a title=\"Aceitunas verdes descar light nucete 160gr\" href=\"https://www.walmartonline.com.ar/images/products/img_large/0779207000460L.jpg\" class=\"single_image\">\\n                                                    <img border=\"0\" name=\"imAceitunas verdes descar light nucete 160gr\" src=\"https://www.walmartonline.com.ar/images/Products/img_small/0779207000460s.jpg\" id=\"im0779207000460\" alt=\"Aceitunas verdes descar light nucete 160gr\" class=\"imagenArticulo\" />\\n                                                </a>\\n                                            </div>\\n                                            <div>\\n                                                <div class=\"detalle\" style=\"padding: 10px\">\\n                                                    <a title=\"Aceitunas verdes descar light nucete 160gr\" href=\"Detalle-de-articulo.aspx?upc=0779207000460\">\\n                                                        Aceitunas verdes descar light nucete 160gr</a>\\n                                                </div>\\n                                                <div style=\"height: 20px\">\\n                                                </div>\\n                                            </div>\\n                                        </div>\\n                                        <div class=\"clear\">\\n                                        </div>\\n                                        <div class=\"btnComentario\">\\n                                            <a class=\"linkComentario\" id=\"btnComment0779207000460\">Comentario</a></div>\\n                                    \\n\\t</div>\\n                                    <div class=\"pnlItem\">\\n\\t\\t\\n                                        <div class=\"boton\">\\n                                            <div class=\"AgregarCarrito\">\\n                                                \\n                                                <div style=\"padding: 5px\">\\n                                                    <b>Cantidad</b>\\xa0\\xa0\\xa0\\n                                                    <input onkeypress=\"return soloNumeros(event)\" title=\"Ajusta la cantidad que deseas agregar a tu carrito\" maxlength=\"4\" size=\"2\" value=\"1\" id=\"in0779207000460\" style=\"height: 14px\" name=\"in0779207000460\" />\\n                                                    <a onclick=\"agregaServer(\\'$26.70\\',\\'0779207000460\\',document.getElementById(\\'in0779207000460\\').value,document.getElementById(\\'txtCom0779207000460\\').value);$(\\'#comment0779207000460\\').hide()\" style=\"cursor: pointer;\" class=\"agregaCarrito\">\\n                                                        <img style=\"border-style: none; height: 23px;\" alt=\"Agrega \\u201cAceitunas verdes descar light nucete 160gr\\u201d a tu carrito\" src=\"https://www.walmartonline.com.ar/images/cart/car.gif\" />\\n                                                    </a>\\n                                                    <div class=\"agregado\">\\n                                                    </div>\\n                                                </div>\\n                                            </div>\\n                                        </div>\\n                                        <div style=\"white-space: nowrap\">\\n                                            <div style=\"padding: 5px;\">\\n                                                <span class=\"totalItem\">$26.70</span>\\n                                                <div class=\"precioUN\">\\n                                                    Precio por:KG\\n                                                    <br />\\n                                                    $166.87</div>\\n                                            </div>\\n                                        </div>\\n                                        <div class=\"clear\">\\n                                        </div>\\n                                        <div class=\"cajaComentario\" id=\"comment0779207000460\">\\n                                            <div>\\n                                                Ingresa aqu\\xed cualquier comentario o sugerencia.</div>\\n                                            <p>\\n                                                <input style=\"height: 20px; width: 150px\" maxlength=\"50\" size=\"30\" onkeypress=\"return soloCaracteresValidosParaBuscqueda(event)\" id=\"txtCom0779207000460\" /></p>\\n                                            <div class=\"btnCerrar\">\\n                                                <a onclick=\"$(this).parent().parent().fadeOut()\">Cerrar</a></div>\\n                                        </div>\\n                                    \\n\\t</div>\\n                                \\n</div>\\n                            </div><div class=\"pnlGrid pnlGridItem\">\\n                                <div>\\n\\t\\n                                    <div class=\"pnlInfo\">\\n\\t\\t\\n                                        <div style=\"height: 80px\">\\n                                            <div style=\"float: left; padding: 5px; padding-top: 10px\">\\n                                                <a title=\"Aceitunas verdes descarozada nucete 150gr\" href=\"https://www.walmartonline.com.ar/images/products/img_large/0779207000055L.jpg\" class=\"single_image\">\\n                                                    <img border=\"0\" name=\"imAceitunas verdes descarozada nucete 150gr\" src=\"https://www.walmartonline.com.ar/images/Products/img_small/0779207000055s.jpg\" id=\"im0779207000055\" alt=\"Aceitunas verdes descarozada nucete 150gr\" class=\"imagenArticulo\" />\\n                                                </a>\\n                                            </div>\\n                                            <div>\\n                                                <div class=\"detalle\" style=\"padding: 10px\">\\n                                                    <a title=\"Aceitunas verdes descarozada nucete 150gr\" href=\"Detalle-de-articulo.aspx?upc=0779207000055\">\\n                                                        Aceitunas verdes descarozada nucete 150gr</a>\\n                                                </div>\\n                                                <div style=\"height: 20px\">\\n                                                </div>\\n                                            </div>\\n                                        </div>\\n                                        <div class=\"clear\">\\n                                        </div>\\n                                        <div class=\"btnComentario\">\\n                                            <a class=\"linkComentario\" id=\"btnComment0779207000055\">Comentario</a></div>\\n                                    \\n\\t</div>\\n                                    <div class=\"pnlItem\">\\n\\t\\t\\n                                        <div class=\"boton\">\\n                                            <div class=\"AgregarCarrito\">\\n                                                \\n                                                <div style=\"padding: 5px\">\\n                                                    <b>Cantidad</b>\\xa0\\xa0\\xa0\\n                                                    <input onkeypress=\"return soloNumeros(event)\" title=\"Ajusta la cantidad que deseas agregar a tu carrito\" maxlength=\"4\" size=\"2\" value=\"1\" id=\"in0779207000055\" style=\"height: 14px\" name=\"in0779207000055\" />\\n                                                    <a onclick=\"agregaServer(\\'$22.90\\',\\'0779207000055\\',document.getElementById(\\'in0779207000055\\').value,document.getElementById(\\'txtCom0779207000055\\').value);$(\\'#comment0779207000055\\').hide()\" style=\"cursor: pointer;\" class=\"agregaCarrito\">\\n                                                        <img style=\"border-style: none; height: 23px;\" alt=\"Agrega \\u201cAceitunas verdes descarozada nucete 150gr\\u201d a tu carrito\" src=\"https://www.walmartonline.com.ar/images/cart/car.gif\" />\\n                                                    </a>\\n                                                    <div class=\"agregado\">\\n                                                    </div>\\n                                                </div>\\n                                            </div>\\n                                        </div>\\n                                        <div style=\"white-space: nowrap\">\\n                                            <div style=\"padding: 5px;\">\\n                                                <span class=\"totalItem\">$22.90</span>\\n                                                <div class=\"precioUN\">\\n                                                    Precio por:KG\\n                                                    <br />\\n                                                    $152.66</div>\\n                                            </div>\\n                                        </div>\\n                                        <div class=\"clear\">\\n                                        </div>\\n                                        <div class=\"cajaComentario\" id=\"comment0779207000055\">\\n                                            <div>\\n                                                Ingresa aqu\\xed cualquier comentario o sugerencia.</div>\\n                                            <p>\\n                                                <input style=\"height: 20px; width: 150px\" maxlength=\"50\" size=\"30\" onkeypress=\"return soloCaracteresValidosParaBuscqueda(event)\" id=\"txtCom0779207000055\" /></p>\\n                                            <div class=\"btnCerrar\">\\n                                                <a onclick=\"$(this).parent().parent().fadeOut()\">Cerrar</a></div>\\n                                        </div>\\n                                    \\n\\t</div>\\n                                \\n</div>\\n                            </div><div class=\"pnlGrid pnlGridItem\">\\n                                <div>\\n\\t\\n                                    <div class=\"pnlInfo\">\\n\\t\\t\\n                                        <div style=\"height: 80px\">\\n                                            <div style=\"float: left; padding: 5px; padding-top: 10px\">\\n                                                <a title=\"Aceitunas verdes salmuera nucete 500gr\" href=\"https://www.walmartonline.com.ar/images/products/img_large/0779207000113L.jpg\" class=\"single_image\">\\n                                                    <img border=\"0\" name=\"imAceitunas verdes salmuera nucete 500gr\" src=\"https://www.walmartonline.com.ar/images/Products/img_small/0779207000113s.jpg\" id=\"im0779207000113\" alt=\"Aceitunas verdes salmuera nucete 500gr\" class=\"imagenArticulo\" />\\n                                                </a>\\n                                            </div>\\n                                            <div>\\n                                                <div class=\"detalle\" style=\"padding: 10px\">\\n                                                    <a title=\"Aceitunas verdes salmuera nucete 500gr\" href=\"Detalle-de-articulo.aspx?upc=0779207000113\">\\n                                                        Aceitunas verdes salmuera nucete 500gr</a>\\n                                                </div>\\n                                                <div style=\"height: 20px\">\\n                                                </div>\\n                                            </div>\\n                                        </div>\\n                                        <div class=\"clear\">\\n                                        </div>\\n                                        <div class=\"btnComentario\">\\n                                            <a class=\"linkComentario\" id=\"btnComment0779207000113\">Comentario</a></div>\\n                                    \\n\\t</div>\\n                                    <div class=\"pnlItem\">\\n\\t\\t\\n                                        <div class=\"boton\">\\n                                            <div class=\"AgregarCarrito\">\\n                                                \\n                                                <div style=\"padding: 5px\">\\n                                                    <b>Cantidad</b>\\xa0\\xa0\\xa0\\n                                                    <input onkeypress=\"return soloNumeros(event)\" title=\"Ajusta la cantidad que deseas agregar a tu carrito\" maxlength=\"4\" size=\"2\" value=\"1\" id=\"in0779207000113\" style=\"height: 14px\" name=\"in0779207000113\" />\\n                                                    <a onclick=\"agregaServer(\\'$32.40\\',\\'0779207000113\\',document.getElementById(\\'in0779207000113\\').value,document.getElementById(\\'txtCom0779207000113\\').value);$(\\'#comment0779207000113\\').hide()\" style=\"cursor: pointer;\" class=\"agregaCarrito\">\\n                                                        <img style=\"border-style: none; height: 23px;\" alt=\"Agrega \\u201cAceitunas verdes salmuera nucete 500gr\\u201d a tu carrito\" src=\"https://www.walmartonline.com.ar/images/cart/car.gif\" />\\n                                                    </a>\\n                                                    <div class=\"agregado\">\\n                                                    </div>\\n                                                </div>\\n                                            </div>\\n                                        </div>\\n                                        <div style=\"white-space: nowrap\">\\n                                            <div style=\"padding: 5px;\">\\n                                                <span class=\"totalItem\">$32.40</span>\\n                                                <div class=\"precioUN\">\\n                                                    Precio por:KG\\n                                                    <br />\\n                                                    $64.80</div>\\n                                            </div>\\n                                        </div>\\n                                        <div class=\"clear\">\\n                                        </div>\\n                                        <div class=\"cajaComentario\" id=\"comment0779207000113\">\\n                                            <div>\\n                                                Ingresa aqu\\xed cualquier comentario o sugerencia.</div>\\n                                            <p>\\n                                                <input style=\"height: 20px; width: 150px\" maxlength=\"50\" size=\"30\" onkeypress=\"return soloCaracteresValidosParaBuscqueda(event)\" id=\"txtCom0779207000113\" /></p>\\n                                            <div class=\"btnCerrar\">\\n                                                <a onclick=\"$(this).parent().parent().fadeOut()\">Cerrar</a></div>\\n                                        </div>\\n                                    \\n\\t</div>\\n                                \\n</div>\\n                            </div><div class=\"pnlGrid pnlGridItem\">\\n                                <div>\\n\\t\\n                                    <div class=\"pnlInfo\">\\n\\t\\t\\n                                        <div style=\"height: 80px\">\\n                                            <div style=\"float: left; padding: 5px; padding-top: 10px\">\\n                                                <a title=\"Aceitunas verdes salmuera nucete 200gr\" href=\"https://www.walmartonline.com.ar/images/products/img_large/0779207000452L.jpg\" class=\"single_image\">\\n                                                    <img border=\"0\" name=\"imAceitunas verdes salmuera nucete 200gr\" src=\"https://www.walmartonline.com.ar/images/no_product_thumbnail.jpg\" id=\"im0779207000452\" alt=\"Aceitunas verdes salmuera nucete 200gr\" class=\"imagenArticulo\" />\\n                                                </a>\\n                                            </div>\\n                                            <div>\\n                                                <div class=\"detalle\" style=\"padding: 10px\">\\n                                                    <a title=\"Aceitunas verdes salmuera nucete 200gr\" href=\"Detalle-de-articulo.aspx?upc=0779207000452\">\\n                                                        Aceitunas verdes salmuera nucete 200gr</a>\\n                                                </div>\\n                                                <div style=\"height: 20px\">\\n                                                </div>\\n                                            </div>\\n                                        </div>\\n                                        <div class=\"clear\">\\n                                        </div>\\n                                        <div class=\"btnComentario\">\\n                                            <a class=\"linkComentario\" id=\"btnComment0779207000452\">Comentario</a></div>\\n                                    \\n\\t</div>\\n                                    <div class=\"pnlItem\">\\n\\t\\t\\n                                        <div class=\"boton\">\\n                                            <div class=\"AgregarCarrito\">\\n                                                \\n                                                <div style=\"padding: 5px\">\\n                                                    <b>Cantidad</b>\\xa0\\xa0\\xa0\\n                                                    <input onkeypress=\"return soloNumeros(event)\" title=\"Ajusta la cantidad que deseas agregar a tu carrito\" maxlength=\"4\" size=\"2\" value=\"1\" id=\"in0779207000452\" style=\"height: 14px\" name=\"in0779207000452\" />\\n                                                    <a onclick=\"agregaServer(\\'$23.50\\',\\'0779207000452\\',document.getElementById(\\'in0779207000452\\').value,document.getElementById(\\'txtCom0779207000452\\').value);$(\\'#comment0779207000452\\').hide()\" style=\"cursor: pointer;\" class=\"agregaCarrito\">\\n                                                        <img style=\"border-style: none; height: 23px;\" alt=\"Agrega \\u201cAceitunas verdes salmuera nucete 200gr\\u201d a tu carrito\" src=\"https://www.walmartonline.com.ar/images/cart/car.gif\" />\\n                                                    </a>\\n                                                    <div class=\"agregado\">\\n                                                    </div>\\n                                                </div>\\n                                            </div>\\n                                        </div>\\n                                        <div style=\"white-space: nowrap\">\\n                                            <div style=\"padding: 5px;\">\\n                                                <span class=\"totalItem\">$23.50</span>\\n                                                <div class=\"precioUN\">\\n                                                    Precio por:KG\\n                                                    <br />\\n                                                    $117.50</div>\\n                                            </div>\\n                                        </div>\\n                                        <div class=\"clear\">\\n                                        </div>\\n                                        <div class=\"cajaComentario\" id=\"comment0779207000452\">\\n                                            <div>\\n                                                Ingresa aqu\\xed cualquier comentario o sugerencia.</div>\\n                                            <p>\\n                                                <input style=\"height: 20px; width: 150px\" maxlength=\"50\" size=\"30\" onkeypress=\"return soloCaracteresValidosParaBuscqueda(event)\" id=\"txtCom0779207000452\" /></p>\\n                                            <div class=\"btnCerrar\">\\n                                                <a onclick=\"$(this).parent().parent().fadeOut()\">Cerrar</a></div>\\n                                        </div>\\n                                    \\n\\t</div>\\n                                \\n</div>\\n                            </div><div class=\"pnlGrid pnlGridItem\">\\n                                <div>\\n\\t\\n                                    <div class=\"pnlInfo\">\\n\\t\\t\\n                                        <div style=\"height: 80px\">\\n                                            <div style=\"float: left; padding: 5px; padding-top: 10px\">\\n                                                <a title=\"Aceitunas verdes en salm yovinessa 250gr\" href=\"https://www.walmartonline.com.ar/images/products/img_large/0779477010060L.jpg\" class=\"single_image\">\\n                                                    <img border=\"0\" name=\"imAceitunas verdes en salm yovinessa 250gr\" src=\"https://www.walmartonline.com.ar/images/Products/img_small/0779477010060s.jpg\" id=\"im0779477010060\" alt=\"Aceitunas verdes en salm yovinessa 250gr\" class=\"imagenArticulo\" />\\n                                                </a>\\n                                            </div>\\n                                            <div>\\n                                                <div class=\"detalle\" style=\"padding: 10px\">\\n                                                    <a title=\"Aceitunas verdes en salm yovinessa 250gr\" href=\"Detalle-de-articulo.aspx?upc=0779477010060\">\\n                                                        Aceitunas verdes en salm yovinessa 250gr</a>\\n                                                </div>\\n                                                <div style=\"height: 20px\">\\n                                                </div>\\n                                            </div>\\n                                        </div>\\n                                        <div class=\"clear\">\\n                                        </div>\\n                                        <div class=\"btnComentario\">\\n                                            <a class=\"linkComentario\" id=\"btnComment0779477010060\">Comentario</a></div>\\n                                    \\n\\t</div>\\n                                    <div class=\"pnlItem\">\\n\\t\\t\\n                                        <div class=\"boton\">\\n                                            <div class=\"AgregarCarrito\">\\n                                                \\n                                                <div style=\"padding: 5px\">\\n                                                    <b>Cantidad</b>\\xa0\\xa0\\xa0\\n                                                    <input onkeypress=\"return soloNumeros(event)\" title=\"Ajusta la cantidad que deseas agregar a tu carrito\" maxlength=\"4\" size=\"2\" value=\"1\" id=\"in0779477010060\" style=\"height: 14px\" name=\"in0779477010060\" />\\n                                                    <a onclick=\"agregaServer(\\'$10.80\\',\\'0779477010060\\',document.getElementById(\\'in0779477010060\\').value,document.getElementById(\\'txtCom0779477010060\\').value);$(\\'#comment0779477010060\\').hide()\" style=\"cursor: pointer;\" class=\"agregaCarrito\">\\n                                                        <img style=\"border-style: none; height: 23px;\" alt=\"Agrega \\u201cAceitunas verdes en salm yovinessa 250gr\\u201d a tu carrito\" src=\"https://www.walmartonline.com.ar/images/cart/car.gif\" />\\n                                                    </a>\\n                                                    <div class=\"agregado\">\\n                                                    </div>\\n                                                </div>\\n                                            </div>\\n                                        </div>\\n                                        <div style=\"white-space: nowrap\">\\n                                            <div style=\"padding: 5px;\">\\n                                                <span class=\"totalItem\">$10.80</span>\\n                                                <div class=\"precioUN\">\\n                                                    Precio por:KG\\n                                                    <br />\\n                                                    $60.00</div>\\n                                            </div>\\n                                        </div>\\n                                        <div class=\"clear\">\\n                                        </div>\\n                                        <div class=\"cajaComentario\" id=\"comment0779477010060\">\\n                                            <div>\\n                                                Ingresa aqu\\xed cualquier comentario o sugerencia.</div>\\n                                            <p>\\n                                                <input style=\"height: 20px; width: 150px\" maxlength=\"50\" size=\"30\" onkeypress=\"return soloCaracteresValidosParaBuscqueda(event)\" id=\"txtCom0779477010060\" /></p>\\n                                            <div class=\"btnCerrar\">\\n                                                <a onclick=\"$(this).parent().parent().fadeOut()\">Cerrar</a></div>\\n                                        </div>\\n                                    \\n\\t</div>\\n                                \\n</div>\\n                            </div><div class=\"pnlGrid pnlGridItem\">\\n                                <div>\\n\\t\\n                                    <div class=\"pnlInfo\">\\n\\t\\t\\n                                        <div style=\"height: 80px\">\\n                                            <div style=\"float: left; padding: 5px; padding-top: 10px\">\\n                                                <a title=\"Aceitunas verdes premium nucete 400 gr\" href=\"https://www.walmartonline.com.ar/images/products/img_large/0779207000006L.jpg\" class=\"single_image\">\\n                                                    <img border=\"0\" name=\"imAceitunas verdes premium nucete 400 gr\" src=\"https://www.walmartonline.com.ar/images/Products/img_small/0779207000006s.jpg\" id=\"im0779207000006\" alt=\"Aceitunas verdes premium nucete 400 gr\" class=\"imagenArticulo\" />\\n                                                </a>\\n                                            </div>\\n                                            <div>\\n                                                <div class=\"detalle\" style=\"padding: 10px\">\\n                                                    <a title=\"Aceitunas verdes premium nucete 400 gr\" href=\"Detalle-de-articulo.aspx?upc=0779207000006\">\\n                                                        Aceitunas verdes premium nucete 400 gr</a>\\n                                                </div>\\n                                                <div style=\"height: 20px\">\\n                                                </div>\\n                                            </div>\\n                                        </div>\\n                                        <div class=\"clear\">\\n                                        </div>\\n                                        <div class=\"btnComentario\">\\n                                            <a class=\"linkComentario\" id=\"btnComment0779207000006\">Comentario</a></div>\\n                                    \\n\\t</div>\\n                                    <div class=\"pnlItem\">\\n\\t\\t\\n                                        <div class=\"boton\">\\n                                            <div class=\"AgregarCarrito\">\\n                                                \\n                                                <div style=\"padding: 5px\">\\n                                                    <b>Cantidad</b>\\xa0\\xa0\\xa0\\n                                                    <input onkeypress=\"return soloNumeros(event)\" title=\"Ajusta la cantidad que deseas agregar a tu carrito\" maxlength=\"4\" size=\"2\" value=\"1\" id=\"in0779207000006\" style=\"height: 14px\" name=\"in0779207000006\" />\\n                                                    <a onclick=\"agregaServer(\\'$47.40\\',\\'0779207000006\\',document.getElementById(\\'in0779207000006\\').value,document.getElementById(\\'txtCom0779207000006\\').value);$(\\'#comment0779207000006\\').hide()\" style=\"cursor: pointer;\" class=\"agregaCarrito\">\\n                                                        <img style=\"border-style: none; height: 23px;\" alt=\"Agrega \\u201cAceitunas verdes premium nucete 400 gr\\u201d a tu carrito\" src=\"https://www.walmartonline.com.ar/images/cart/car.gif\" />\\n                                                    </a>\\n                                                    <div class=\"agregado\">\\n                                                    </div>\\n                                                </div>\\n                                            </div>\\n                                        </div>\\n                                        <div style=\"white-space: nowrap\">\\n                                            <div style=\"padding: 5px;\">\\n                                                <span class=\"totalItem\">$47.40</span>\\n                                                <div class=\"precioUN\">\\n                                                    Precio por:KG\\n                                                    <br />\\n                                                    $118.50</div>\\n                                            </div>\\n                                        </div>\\n                                        <div class=\"clear\">\\n                                        </div>\\n                                        <div class=\"cajaComentario\" id=\"comment0779207000006\">\\n                                            <div>\\n                                                Ingresa aqu\\xed cualquier comentario o sugerencia.</div>\\n                                            <p>\\n                                                <input style=\"height: 20px; width: 150px\" maxlength=\"50\" size=\"30\" onkeypress=\"return soloCaracteresValidosParaBuscqueda(event)\" id=\"txtCom0779207000006\" /></p>\\n                                            <div class=\"btnCerrar\">\\n                                                <a onclick=\"$(this).parent().parent().fadeOut()\">Cerrar</a></div>\\n                                        </div>\\n                                    \\n\\t</div>\\n                                \\n</div>\\n                            </div><div class=\"pnlGrid pnlGridItem\">\\n                                <div>\\n\\t\\n                                    <div class=\"pnlInfo\">\\n\\t\\t\\n                                        <div style=\"height: 80px\">\\n                                            <div style=\"float: left; padding: 5px; padding-top: 10px\">\\n                                                <a title=\"Aceitunas verdes descarozadas castell 80gr\" href=\"https://www.walmartonline.com.ar/images/products/img_large/0779167590261L.jpg\" class=\"single_image\">\\n                                                    <img border=\"0\" name=\"imAceitunas verdes descarozadas castell 80gr\" src=\"https://www.walmartonline.com.ar/images/Products/img_small/0779167590261s.jpg\" id=\"im0779167590261\" alt=\"Aceitunas verdes descarozadas castell 80gr\" class=\"imagenArticulo\" />\\n                                                </a>\\n                                            </div>\\n                                            <div>\\n                                                <div class=\"detalle\" style=\"padding: 10px\">\\n                                                    <a title=\"Aceitunas verdes descarozadas castell 80gr\" href=\"Detalle-de-articulo.aspx?upc=0779167590261\">\\n                                                        Aceitunas verdes descarozadas castell 80gr</a>\\n                                                </div>\\n                                                <div style=\"height: 20px\">\\n                                                </div>\\n                                            </div>\\n                                        </div>\\n                                        <div class=\"clear\">\\n                                        </div>\\n                                        <div class=\"btnComentario\">\\n                                            <a class=\"linkComentario\" id=\"btnComment0779167590261\">Comentario</a></div>\\n                                    \\n\\t</div>\\n                                    <div class=\"pnlItem\">\\n\\t\\t\\n                                        <div class=\"boton\">\\n                                            <div class=\"AgregarCarrito\">\\n                                                \\n                                                <div style=\"padding: 5px\">\\n                                                    <b>Cantidad</b>\\xa0\\xa0\\xa0\\n                                                    <input onkeypress=\"return soloNumeros(event)\" title=\"Ajusta la cantidad que deseas agregar a tu carrito\" maxlength=\"4\" size=\"2\" value=\"1\" id=\"in0779167590261\" style=\"height: 14px\" name=\"in0779167590261\" />\\n                                                    <a onclick=\"agregaServer(\\'$6.20\\',\\'0779167590261\\',document.getElementById(\\'in0779167590261\\').value,document.getElementById(\\'txtCom0779167590261\\').value);$(\\'#comment0779167590261\\').hide()\" style=\"cursor: pointer;\" class=\"agregaCarrito\">\\n                                                        <img style=\"border-style: none; height: 23px;\" alt=\"Agrega \\u201cAceitunas verdes descarozadas castell 80gr\\u201d a tu carrito\" src=\"https://www.walmartonline.com.ar/images/cart/car.gif\" />\\n                                                    </a>\\n                                                    <div class=\"agregado\">\\n                                                    </div>\\n                                                </div>\\n                                            </div>\\n                                        </div>\\n                                        <div style=\"white-space: nowrap\">\\n                                            <div style=\"padding: 5px;\">\\n                                                <span class=\"totalItem\">$6.20</span>\\n                                                <div class=\"precioUN\">\\n                                                    Precio por:KG\\n                                                    <br />\\n                                                    $77.50</div>\\n                                            </div>\\n                                        </div>\\n                                        <div class=\"clear\">\\n                                        </div>\\n                                        <div class=\"cajaComentario\" id=\"comment0779167590261\">\\n                                            <div>\\n                                                Ingresa aqu\\xed cualquier comentario o sugerencia.</div>\\n                                            <p>\\n                                                <input style=\"height: 20px; width: 150px\" maxlength=\"50\" size=\"30\" onkeypress=\"return soloCaracteresValidosParaBuscqueda(event)\" id=\"txtCom0779167590261\" /></p>\\n                                            <div class=\"btnCerrar\">\\n                                                <a onclick=\"$(this).parent().parent().fadeOut()\">Cerrar</a></div>\\n                                        </div>\\n                                    \\n\\t</div>\\n                                \\n</div>\\n                            </div><div class=\"pnlGrid pnlGridItem\">\\n                                <div>\\n\\t\\n                                    <div class=\"pnlInfo\">\\n\\t\\t\\n                                        <div style=\"height: 80px\">\\n                                            <div style=\"float: left; padding: 5px; padding-top: 10px\">\\n                                                <a title=\"Aceitunas verdes rodajas nucete 150gr\" href=\"https://www.walmartonline.com.ar/images/products/img_large/0779207000128L.jpg\" class=\"single_image\">\\n                                                    <img border=\"0\" name=\"imAceitunas verdes rodajas nucete 150gr\" src=\"https://www.walmartonline.com.ar/images/Products/img_small/0779207000128s.jpg\" id=\"im0779207000128\" alt=\"Aceitunas verdes rodajas nucete 150gr\" class=\"imagenArticulo\" />\\n                                                </a>\\n                                            </div>\\n                                            <div>\\n                                                <div class=\"detalle\" style=\"padding: 10px\">\\n                                                    <a title=\"Aceitunas verdes rodajas nucete 150gr\" href=\"Detalle-de-articulo.aspx?upc=0779207000128\">\\n                                                        Aceitunas verdes rodajas nucete 150gr</a>\\n                                                </div>\\n                                                <div style=\"height: 20px\">\\n                                                </div>\\n                                            </div>\\n                                        </div>\\n                                        <div class=\"clear\">\\n                                        </div>\\n                                        <div class=\"btnComentario\">\\n                                            <a class=\"linkComentario\" id=\"btnComment0779207000128\">Comentario</a></div>\\n                                    \\n\\t</div>\\n                                    <div class=\"pnlItem\">\\n\\t\\t\\n                                        <div class=\"boton\">\\n                                            <div class=\"AgregarCarrito\">\\n                                                \\n                                                <div style=\"padding: 5px\">\\n                                                    <b>Cantidad</b>\\xa0\\xa0\\xa0\\n                                                    <input onkeypress=\"return soloNumeros(event)\" title=\"Ajusta la cantidad que deseas agregar a tu carrito\" maxlength=\"4\" size=\"2\" value=\"1\" id=\"in0779207000128\" style=\"height: 14px\" name=\"in0779207000128\" />\\n                                                    <a onclick=\"agregaServer(\\'$13.00\\',\\'0779207000128\\',document.getElementById(\\'in0779207000128\\').value,document.getElementById(\\'txtCom0779207000128\\').value);$(\\'#comment0779207000128\\').hide()\" style=\"cursor: pointer;\" class=\"agregaCarrito\">\\n                                                        <img style=\"border-style: none; height: 23px;\" alt=\"Agrega \\u201cAceitunas verdes rodajas nucete 150gr\\u201d a tu carrito\" src=\"https://www.walmartonline.com.ar/images/cart/car.gif\" />\\n                                                    </a>\\n                                                    <div class=\"agregado\">\\n                                                    </div>\\n                                                </div>\\n                                            </div>\\n                                        </div>\\n                                        <div style=\"white-space: nowrap\">\\n                                            <div style=\"padding: 5px;\">\\n                                                <span class=\"totalItem\">$13.00</span>\\n                                                <div class=\"precioUN\">\\n                                                    Precio por:KG\\n                                                    <br />\\n                                                    $86.66</div>\\n                                            </div>\\n                                        </div>\\n                                        <div class=\"clear\">\\n                                        </div>\\n                                        <div class=\"cajaComentario\" id=\"comment0779207000128\">\\n                                            <div>\\n                                                Ingresa aqu\\xed cualquier comentario o sugerencia.</div>\\n                                            <p>\\n                                                <input style=\"height: 20px; width: 150px\" maxlength=\"50\" size=\"30\" onkeypress=\"return soloCaracteresValidosParaBuscqueda(event)\" id=\"txtCom0779207000128\" /></p>\\n                                            <div class=\"btnCerrar\">\\n                                                <a onclick=\"$(this).parent().parent().fadeOut()\">Cerrar</a></div>\\n                                        </div>\\n                                    \\n\\t</div>\\n                                \\n</div>\\n                            </div><div class=\"pnlGrid pnlGridItem\">\\n                                <div>\\n\\t\\n                                    <div class=\"pnlInfo\">\\n\\t\\t\\n                                        <div style=\"height: 80px\">\\n                                            <div style=\"float: left; padding: 5px; padding-top: 10px\">\\n                                                <a title=\"Aceitunas verdes rodajas castell 80 gr\" href=\"https://www.walmartonline.com.ar/images/products/img_large/0779167500016L.jpg\" class=\"single_image\">\\n                                                    <img border=\"0\" name=\"imAceitunas verdes rodajas castell 80 gr\" src=\"https://www.walmartonline.com.ar/images/Products/img_small/0779167500016s.jpg\" id=\"im0779167500016\" alt=\"Aceitunas verdes rodajas castell 80 gr\" class=\"imagenArticulo\" />\\n                                                </a>\\n                                            </div>\\n                                            <div>\\n                                                <div class=\"detalle\" style=\"padding: 10px\">\\n                                                    <a title=\"Aceitunas verdes rodajas castell 80 gr\" href=\"Detalle-de-articulo.aspx?upc=0779167500016\">\\n                                                        Aceitunas verdes rodajas castell 80 gr</a>\\n                                                </div>\\n                                                <div style=\"height: 20px\">\\n                                                </div>\\n                                            </div>\\n                                        </div>\\n                                        <div class=\"clear\">\\n                                        </div>\\n                                        <div class=\"btnComentario\">\\n                                            <a class=\"linkComentario\" id=\"btnComment0779167500016\">Comentario</a></div>\\n                                    \\n\\t</div>\\n                                    <div class=\"pnlItem\">\\n\\t\\t\\n                                        <div class=\"boton\">\\n                                            <div class=\"AgregarCarrito\">\\n                                                \\n                                                <div style=\"padding: 5px\">\\n                                                    <b>Cantidad</b>\\xa0\\xa0\\xa0\\n                                                    <input onkeypress=\"return soloNumeros(event)\" title=\"Ajusta la cantidad que deseas agregar a tu carrito\" maxlength=\"4\" size=\"2\" value=\"1\" id=\"in0779167500016\" style=\"height: 14px\" name=\"in0779167500016\" />\\n                                                    <a onclick=\"agregaServer(\\'$7.10\\',\\'0779167500016\\',document.getElementById(\\'in0779167500016\\').value,document.getElementById(\\'txtCom0779167500016\\').value);$(\\'#comment0779167500016\\').hide()\" style=\"cursor: pointer;\" class=\"agregaCarrito\">\\n                                                        <img style=\"border-style: none; height: 23px;\" alt=\"Agrega \\u201cAceitunas verdes rodajas castell 80 gr\\u201d a tu carrito\" src=\"https://www.walmartonline.com.ar/images/cart/car.gif\" />\\n                                                    </a>\\n                                                    <div class=\"agregado\">\\n                                                    </div>\\n                                                </div>\\n                                            </div>\\n                                        </div>\\n                                        <div style=\"white-space: nowrap\">\\n                                            <div style=\"padding: 5px;\">\\n                                                <span class=\"totalItem\">$7.10</span>\\n                                                <div class=\"precioUN\">\\n                                                    Precio por:KG\\n                                                    <br />\\n                                                    $88.75</div>\\n                                            </div>\\n                                        </div>\\n                                        <div class=\"clear\">\\n                                        </div>\\n                                        <div class=\"cajaComentario\" id=\"comment0779167500016\">\\n                                            <div>\\n                                                Ingresa aqu\\xed cualquier comentario o sugerencia.</div>\\n                                            <p>\\n                                                <input style=\"height: 20px; width: 150px\" maxlength=\"50\" size=\"30\" onkeypress=\"return soloCaracteresValidosParaBuscqueda(event)\" id=\"txtCom0779167500016\" /></p>\\n                                            <div class=\"btnCerrar\">\\n                                                <a onclick=\"$(this).parent().parent().fadeOut()\">Cerrar</a></div>\\n                                        </div>\\n                                    \\n\\t</div>\\n                                \\n</div>\\n                            </div><div class=\"pnlGrid pnlGridItem\">\\n                                <div>\\n\\t\\n                                    <div class=\"pnlInfo\">\\n\\t\\t\\n                                        <div style=\"height: 80px\">\\n                                            <div style=\"float: left; padding: 5px; padding-top: 10px\">\\n                                                <a title=\"Aceitunas verdes descarozada nucete 180gr\" href=\"https://www.walmartonline.com.ar/images/products/img_large/0779207003435L.jpg\" class=\"single_image\">\\n                                                    <img border=\"0\" name=\"imAceitunas verdes descarozada nucete 180gr\" src=\"https://www.walmartonline.com.ar/images/Products/img_small/0779207003435s.jpg\" id=\"im0779207003435\" alt=\"Aceitunas verdes descarozada nucete 180gr\" class=\"imagenArticulo\" />\\n                                                </a>\\n                                            </div>\\n                                            <div>\\n                                                <div class=\"detalle\" style=\"padding: 10px\">\\n                                                    <a title=\"Aceitunas verdes descarozada nucete 180gr\" href=\"Detalle-de-articulo.aspx?upc=0779207003435\">\\n                                                        Aceitunas verdes descarozada nucete 180gr</a>\\n                                                </div>\\n                                                <div style=\"height: 20px\">\\n                                                </div>\\n                                            </div>\\n                                        </div>\\n                                        <div class=\"clear\">\\n                                        </div>\\n                                        <div class=\"btnComentario\">\\n                                            <a class=\"linkComentario\" id=\"btnComment0779207003435\">Comentario</a></div>\\n                                    \\n\\t</div>\\n                                    <div class=\"pnlItem\">\\n\\t\\t\\n                                        <div class=\"boton\">\\n                                            <div class=\"AgregarCarrito\">\\n                                                \\n                                                <div style=\"padding: 5px\">\\n                                                    <b>Cantidad</b>\\xa0\\xa0\\xa0\\n                                                    <input onkeypress=\"return soloNumeros(event)\" title=\"Ajusta la cantidad que deseas agregar a tu carrito\" maxlength=\"4\" size=\"2\" value=\"1\" id=\"in0779207003435\" style=\"height: 14px\" name=\"in0779207003435\" />\\n                                                    <a onclick=\"agregaServer(\\'$26.10\\',\\'0779207003435\\',document.getElementById(\\'in0779207003435\\').value,document.getElementById(\\'txtCom0779207003435\\').value);$(\\'#comment0779207003435\\').hide()\" style=\"cursor: pointer;\" class=\"agregaCarrito\">\\n                                                        <img style=\"border-style: none; height: 23px;\" alt=\"Agrega \\u201cAceitunas verdes descarozada nucete 180gr\\u201d a tu carrito\" src=\"https://www.walmartonline.com.ar/images/cart/car.gif\" />\\n                                                    </a>\\n                                                    <div class=\"agregado\">\\n                                                    </div>\\n                                                </div>\\n                                            </div>\\n                                        </div>\\n                                        <div style=\"white-space: nowrap\">\\n                                            <div style=\"padding: 5px;\">\\n                                                <span class=\"totalItem\">$26.10</span>\\n                                                <div class=\"precioUN\">\\n                                                    Precio por:KG\\n                                                    <br />\\n                                                    $145.00</div>\\n                                            </div>\\n                                        </div>\\n                                        <div class=\"clear\">\\n                                        </div>\\n                                        <div class=\"cajaComentario\" id=\"comment0779207003435\">\\n                                            <div>\\n                                                Ingresa aqu\\xed cualquier comentario o sugerencia.</div>\\n                                            <p>\\n                                                <input style=\"height: 20px; width: 150px\" maxlength=\"50\" size=\"30\" onkeypress=\"return soloCaracteresValidosParaBuscqueda(event)\" id=\"txtCom0779207003435\" /></p>\\n                                            <div class=\"btnCerrar\">\\n                                                <a onclick=\"$(this).parent().parent().fadeOut()\">Cerrar</a></div>\\n                                        </div>\\n                                    \\n\\t</div>\\n                                \\n</div>\\n                            </div><div class=\"pnlGrid pnlGridItem\">\\n                                <div>\\n\\t\\n                                    <div class=\"pnlInfo\">\\n\\t\\t\\n                                        <div style=\"height: 80px\">\\n                                            <div style=\"float: left; padding: 5px; padding-top: 10px\">\\n                                                <a title=\"Aceitunas verdes descarozada castell 160gr\" href=\"https://www.walmartonline.com.ar/images/products/img_large/0779167590436L.jpg\" class=\"single_image\">\\n                                                    <img border=\"0\" name=\"imAceitunas verdes descarozada castell 160gr\" src=\"https://www.walmartonline.com.ar/images/Products/img_small/0779167590436s.jpg\" id=\"im0779167590436\" alt=\"Aceitunas verdes descarozada castell 160gr\" class=\"imagenArticulo\" />\\n                                                </a>\\n                                            </div>\\n                                            <div>\\n                                                <div class=\"detalle\" style=\"padding: 10px\">\\n                                                    <a title=\"Aceitunas verdes descarozada castell 160gr\" href=\"Detalle-de-articulo.aspx?upc=0779167590436\">\\n                                                        Aceitunas verdes descarozada castell 160gr</a>\\n                                                </div>\\n                                                <div style=\"height: 20px\">\\n                                                </div>\\n                                            </div>\\n                                        </div>\\n                                        <div class=\"clear\">\\n                                        </div>\\n                                        <div class=\"btnComentario\">\\n                                            <a class=\"linkComentario\" id=\"btnComment0779167590436\">Comentario</a></div>\\n                                    \\n\\t</div>\\n                                    <div class=\"pnlItem\">\\n\\t\\t\\n                                        <div class=\"boton\">\\n                                            <div class=\"AgregarCarrito\">\\n                                                \\n                                                <div style=\"padding: 5px\">\\n                                                    <b>Cantidad</b>\\xa0\\xa0\\xa0\\n                                                    <input onkeypress=\"return soloNumeros(event)\" title=\"Ajusta la cantidad que deseas agregar a tu carrito\" maxlength=\"4\" size=\"2\" value=\"1\" id=\"in0779167590436\" style=\"height: 14px\" name=\"in0779167590436\" />\\n                                                    <a onclick=\"agregaServer(\\'$15.50\\',\\'0779167590436\\',document.getElementById(\\'in0779167590436\\').value,document.getElementById(\\'txtCom0779167590436\\').value);$(\\'#comment0779167590436\\').hide()\" style=\"cursor: pointer;\" class=\"agregaCarrito\">\\n                                                        <img style=\"border-style: none; height: 23px;\" alt=\"Agrega \\u201cAceitunas verdes descarozada castell 160gr\\u201d a tu carrito\" src=\"https://www.walmartonline.com.ar/images/cart/car.gif\" />\\n                                                    </a>\\n                                                    <div class=\"agregado\">\\n                                                    </div>\\n                                                </div>\\n                                            </div>\\n                                        </div>\\n                                        <div style=\"white-space: nowrap\">\\n                                            <div style=\"padding: 5px;\">\\n                                                <span class=\"totalItem\">$15.50</span>\\n                                                <div class=\"precioUN\">\\n                                                    Precio por:KG\\n                                                    <br />\\n                                                    $96.87</div>\\n                                            </div>\\n                                        </div>\\n                                        <div class=\"clear\">\\n                                        </div>\\n                                        <div class=\"cajaComentario\" id=\"comment0779167590436\">\\n                                            <div>\\n                                                Ingresa aqu\\xed cualquier comentario o sugerencia.</div>\\n                                            <p>\\n                                                <input style=\"height: 20px; width: 150px\" maxlength=\"50\" size=\"30\" onkeypress=\"return soloCaracteresValidosParaBuscqueda(event)\" id=\"txtCom0779167590436\" /></p>\\n                                            <div class=\"btnCerrar\">\\n                                                <a onclick=\"$(this).parent().parent().fadeOut()\">Cerrar</a></div>\\n                                        </div>\\n                                    \\n\\t</div>\\n                                \\n</div>\\n                            </div><div class=\"pnlGrid pnlGridItem\">\\n                                <div>\\n\\t\\n                                    <div class=\"pnlInfo\">\\n\\t\\t\\n                                        <div style=\"height: 80px\">\\n                                            <div style=\"float: left; padding: 5px; padding-top: 10px\">\\n                                                <a title=\"Aceitunas verdes descarozada castell 150 gr\" href=\"https://www.walmartonline.com.ar/images/products/img_large/0779167530300L.jpg\" class=\"single_image\">\\n                                                    <img border=\"0\" name=\"imAceitunas verdes descarozada castell 150 gr\" src=\"https://www.walmartonline.com.ar/images/Products/img_small/0779167530300s.jpg\" id=\"im0779167530300\" alt=\"Aceitunas verdes descarozada castell 150 gr\" class=\"imagenArticulo\" />\\n                                                </a>\\n                                            </div>\\n                                            <div>\\n                                                <div class=\"detalle\" style=\"padding: 10px\">\\n                                                    <a title=\"Aceitunas verdes descarozada castell 150 gr\" href=\"Detalle-de-articulo.aspx?upc=0779167530300\">\\n                                                        Aceitunas verdes descarozada castell 150 gr</a>\\n                                                </div>\\n                                                <div style=\"height: 20px\">\\n                                                </div>\\n                                            </div>\\n                                        </div>\\n                                        <div class=\"clear\">\\n                                        </div>\\n                                        <div class=\"btnComentario\">\\n                                            <a class=\"linkComentario\" id=\"btnComment0779167530300\">Comentario</a></div>\\n                                    \\n\\t</div>\\n                                    <div class=\"pnlItem\">\\n\\t\\t\\n                                        <div class=\"boton\">\\n                                            <div class=\"AgregarCarrito\">\\n                                                \\n                                                <div style=\"padding: 5px\">\\n                                                    <b>Cantidad</b>\\xa0\\xa0\\xa0\\n                                                    <input onkeypress=\"return soloNumeros(event)\" title=\"Ajusta la cantidad que deseas agregar a tu carrito\" maxlength=\"4\" size=\"2\" value=\"1\" id=\"in0779167530300\" style=\"height: 14px\" name=\"in0779167530300\" />\\n                                                    <a onclick=\"agregaServer(\\'$11.70\\',\\'0779167530300\\',document.getElementById(\\'in0779167530300\\').value,document.getElementById(\\'txtCom0779167530300\\').value);$(\\'#comment0779167530300\\').hide()\" style=\"cursor: pointer;\" class=\"agregaCarrito\">\\n                                                        <img style=\"border-style: none; height: 23px;\" alt=\"Agrega \\u201cAceitunas verdes descarozada castell 150 gr\\u201d a tu carrito\" src=\"https://www.walmartonline.com.ar/images/cart/car.gif\" />\\n                                                    </a>\\n                                                    <div class=\"agregado\">\\n                                                    </div>\\n                                                </div>\\n                                            </div>\\n                                        </div>\\n                                        <div style=\"white-space: nowrap\">\\n                                            <div style=\"padding: 5px;\">\\n                                                <span class=\"totalItem\">$11.70</span>\\n                                                <div class=\"precioUN\">\\n                                                    Precio por:KG\\n                                                    <br />\\n                                                    $78.00</div>\\n                                            </div>\\n                                        </div>\\n                                        <div class=\"clear\">\\n                                        </div>\\n                                        <div class=\"cajaComentario\" id=\"comment0779167530300\">\\n                                            <div>\\n                                                Ingresa aqu\\xed cualquier comentario o sugerencia.</div>\\n                                            <p>\\n                                                <input style=\"height: 20px; width: 150px\" maxlength=\"50\" size=\"30\" onkeypress=\"return soloCaracteresValidosParaBuscqueda(event)\" id=\"txtCom0779167530300\" /></p>\\n                                            <div class=\"btnCerrar\">\\n                                                <a onclick=\"$(this).parent().parent().fadeOut()\">Cerrar</a></div>\\n                                        </div>\\n                                    \\n\\t</div>\\n                                \\n</div>\\n                            </div><div class=\"pnlGrid pnlGridItem\">\\n                                <div>\\n\\t\\n                                    <div class=\"pnlInfo\">\\n\\t\\t\\n                                        <div style=\"height: 80px\">\\n                                            <div style=\"float: left; padding: 5px; padding-top: 10px\">\\n                                                <a title=\"Aceitunas verdes rodajas castell 150gr\" href=\"https://www.walmartonline.com.ar/images/products/img_large/0779167590635L.jpg\" class=\"single_image\">\\n                                                    <img border=\"0\" name=\"imAceitunas verdes rodajas castell 150gr\" src=\"https://www.walmartonline.com.ar/images/Products/img_small/0779167590635s.jpg\" id=\"im0779167590635\" alt=\"Aceitunas verdes rodajas castell 150gr\" class=\"imagenArticulo\" />\\n                                                </a>\\n                                            </div>\\n                                            <div>\\n                                                <div class=\"detalle\" style=\"padding: 10px\">\\n                                                    <a title=\"Aceitunas verdes rodajas castell 150gr\" href=\"Detalle-de-articulo.aspx?upc=0779167590635\">\\n                                                        Aceitunas verdes rodajas castell 150gr</a>\\n                                                </div>\\n                                                <div style=\"height: 20px\">\\n                                                </div>\\n                                            </div>\\n                                        </div>\\n                                        <div class=\"clear\">\\n                                        </div>\\n                                        <div class=\"btnComentario\">\\n                                            <a class=\"linkComentario\" id=\"btnComment0779167590635\">Comentario</a></div>\\n                                    \\n\\t</div>\\n                                    <div class=\"pnlItem\">\\n\\t\\t\\n                                        <div class=\"boton\">\\n                                            <div class=\"AgregarCarrito\">\\n                                                \\n                                                <div style=\"padding: 5px\">\\n                                                    <b>Cantidad</b>\\xa0\\xa0\\xa0\\n                                                    <input onkeypress=\"return soloNumeros(event)\" title=\"Ajusta la cantidad que deseas agregar a tu carrito\" maxlength=\"4\" size=\"2\" value=\"1\" id=\"in0779167590635\" style=\"height: 14px\" name=\"in0779167590635\" />\\n                                                    <a onclick=\"agregaServer(\\'$12.40\\',\\'0779167590635\\',document.getElementById(\\'in0779167590635\\').value,document.getElementById(\\'txtCom0779167590635\\').value);$(\\'#comment0779167590635\\').hide()\" style=\"cursor: pointer;\" class=\"agregaCarrito\">\\n                                                        <img style=\"border-style: none; height: 23px;\" alt=\"Agrega \\u201cAceitunas verdes rodajas castell 150gr\\u201d a tu carrito\" src=\"https://www.walmartonline.com.ar/images/cart/car.gif\" />\\n                                                    </a>\\n                                                    <div class=\"agregado\">\\n                                                    </div>\\n                                                </div>\\n                                            </div>\\n                                        </div>\\n                                        <div style=\"white-space: nowrap\">\\n                                            <div style=\"padding: 5px;\">\\n                                                <span class=\"totalItem\">$12.40</span>\\n                                                <div class=\"precioUN\">\\n                                                    Precio por:KG\\n                                                    <br />\\n                                                    $82.66</div>\\n                                            </div>\\n                                        </div>\\n                                        <div class=\"clear\">\\n                                        </div>\\n                                        <div class=\"cajaComentario\" id=\"comment0779167590635\">\\n                                            <div>\\n                                                Ingresa aqu\\xed cualquier comentario o sugerencia.</div>\\n                                            <p>\\n                                                <input style=\"height: 20px; width: 150px\" maxlength=\"50\" size=\"30\" onkeypress=\"return soloCaracteresValidosParaBuscqueda(event)\" id=\"txtCom0779167590635\" /></p>\\n                                            <div class=\"btnCerrar\">\\n                                                <a onclick=\"$(this).parent().parent().fadeOut()\">Cerrar</a></div>\\n                                        </div>\\n                                    \\n\\t</div>\\n                                \\n</div>\\n                            </div><div class=\"pnlGrid pnlGridItem\">\\n                                <div>\\n\\t\\n                                    <div class=\"pnlInfo\">\\n\\t\\t\\n                                        <div style=\"height: 80px\">\\n                                            <div style=\"float: left; padding: 5px; padding-top: 10px\">\\n                                                <a title=\"Aceitunas verdes clasica castell 180gr\" href=\"https://www.walmartonline.com.ar/images/products/img_large/0779167590645L.jpg\" class=\"single_image\">\\n                                                    <img border=\"0\" name=\"imAceitunas verdes clasica castell 180gr\" src=\"https://www.walmartonline.com.ar/images/Products/img_small/0779167590645s.jpg\" id=\"im0779167590645\" alt=\"Aceitunas verdes clasica castell 180gr\" class=\"imagenArticulo\" />\\n                                                </a>\\n                                            </div>\\n                                            <div>\\n                                                <div class=\"detalle\" style=\"padding: 10px\">\\n                                                    <a title=\"Aceitunas verdes clasica castell 180gr\" href=\"Detalle-de-articulo.aspx?upc=0779167590645\">\\n                                                        Aceitunas verdes clasica castell 180gr</a>\\n                                                </div>\\n                                                <div style=\"height: 20px\">\\n                                                </div>\\n                                            </div>\\n                                        </div>\\n                                        <div class=\"clear\">\\n                                        </div>\\n                                        <div class=\"btnComentario\">\\n                                            <a class=\"linkComentario\" id=\"btnComment0779167590645\">Comentario</a></div>\\n                                    \\n\\t</div>\\n                                    <div class=\"pnlItem\">\\n\\t\\t\\n                                        <div class=\"boton\">\\n                                            <div class=\"AgregarCarrito\">\\n                                                \\n                                                <div style=\"padding: 5px\">\\n                                                    <b>Cantidad</b>\\xa0\\xa0\\xa0\\n                                                    <input onkeypress=\"return soloNumeros(event)\" title=\"Ajusta la cantidad que deseas agregar a tu carrito\" maxlength=\"4\" size=\"2\" value=\"1\" id=\"in0779167590645\" style=\"height: 14px\" name=\"in0779167590645\" />\\n                                                    <a onclick=\"agregaServer(\\'$13.00\\',\\'0779167590645\\',document.getElementById(\\'in0779167590645\\').value,document.getElementById(\\'txtCom0779167590645\\').value);$(\\'#comment0779167590645\\').hide()\" style=\"cursor: pointer;\" class=\"agregaCarrito\">\\n                                                        <img style=\"border-style: none; height: 23px;\" alt=\"Agrega \\u201cAceitunas verdes clasica castell 180gr\\u201d a tu carrito\" src=\"https://www.walmartonline.com.ar/images/cart/car.gif\" />\\n                                                    </a>\\n                                                    <div class=\"agregado\">\\n                                                    </div>\\n                                                </div>\\n                                            </div>\\n                                        </div>\\n                                        <div style=\"white-space: nowrap\">\\n                                            <div style=\"padding: 5px;\">\\n                                                <span class=\"totalItem\">$13.00</span>\\n                                                <div class=\"precioUN\">\\n                                                    Precio por:KG\\n                                                    <br />\\n                                                    $72.22</div>\\n                                            </div>\\n                                        </div>\\n                                        <div class=\"clear\">\\n                                        </div>\\n                                        <div class=\"cajaComentario\" id=\"comment0779167590645\">\\n                                            <div>\\n                                                Ingresa aqu\\xed cualquier comentario o sugerencia.</div>\\n                                            <p>\\n                                                <input style=\"height: 20px; width: 150px\" maxlength=\"50\" size=\"30\" onkeypress=\"return soloCaracteresValidosParaBuscqueda(event)\" id=\"txtCom0779167590645\" /></p>\\n                                            <div class=\"btnCerrar\">\\n                                                <a onclick=\"$(this).parent().parent().fadeOut()\">Cerrar</a></div>\\n                                        </div>\\n                                    \\n\\t</div>\\n                                \\n</div>\\n                            </div><div class=\"pnlGrid pnlGridItem\">\\n                                <div>\\n\\t\\n                                    <div class=\"pnlInfo\">\\n\\t\\t\\n                                        <div style=\"height: 80px\">\\n                                            <div style=\"float: left; padding: 5px; padding-top: 10px\">\\n                                                <a title=\"Aceitunas verdes desca castell 150gr\" href=\"https://www.walmartonline.com.ar/images/products/img_large/0779167590641L.jpg\" class=\"single_image\">\\n                                                    <img border=\"0\" name=\"imAceitunas verdes desca castell 150gr\" src=\"https://www.walmartonline.com.ar/images/Products/img_small/0779167590641s.jpg\" id=\"im0779167590641\" alt=\"Aceitunas verdes desca castell 150gr\" class=\"imagenArticulo\" />\\n                                                </a>\\n                                            </div>\\n                                            <div>\\n                                                <div class=\"detalle\" style=\"padding: 10px\">\\n                                                    <a title=\"Aceitunas verdes desca castell 150gr\" href=\"Detalle-de-articulo.aspx?upc=0779167590641\">\\n                                                        Aceitunas verdes desca castell 150gr</a>\\n                                                </div>\\n                                                <div style=\"height: 20px\">\\n                                                </div>\\n                                            </div>\\n                                        </div>\\n                                        <div class=\"clear\">\\n                                        </div>\\n                                        <div class=\"btnComentario\">\\n                                            <a class=\"linkComentario\" id=\"btnComment0779167590641\">Comentario</a></div>\\n                                    \\n\\t</div>\\n                                    <div class=\"pnlItem\">\\n\\t\\t\\n                                        <div class=\"boton\">\\n                                            <div class=\"AgregarCarrito\">\\n                                                \\n                                                <div style=\"padding: 5px\">\\n                                                    <b>Cantidad</b>\\xa0\\xa0\\xa0\\n                                                    <input onkeypress=\"return soloNumeros(event)\" title=\"Ajusta la cantidad que deseas agregar a tu carrito\" maxlength=\"4\" size=\"2\" value=\"1\" id=\"in0779167590641\" style=\"height: 14px\" name=\"in0779167590641\" />\\n                                                    <a onclick=\"agregaServer(\\'$13.00\\',\\'0779167590641\\',document.getElementById(\\'in0779167590641\\').value,document.getElementById(\\'txtCom0779167590641\\').value);$(\\'#comment0779167590641\\').hide()\" style=\"cursor: pointer;\" class=\"agregaCarrito\">\\n                                                        <img style=\"border-style: none; height: 23px;\" alt=\"Agrega \\u201cAceitunas verdes desca castell 150gr\\u201d a tu carrito\" src=\"https://www.walmartonline.com.ar/images/cart/car.gif\" />\\n                                                    </a>\\n                                                    <div class=\"agregado\">\\n                                                    </div>\\n                                                </div>\\n                                            </div>\\n                                        </div>\\n                                        <div style=\"white-space: nowrap\">\\n                                            <div style=\"padding: 5px;\">\\n                                                <span class=\"totalItem\">$13.00</span>\\n                                                <div class=\"precioUN\">\\n                                                    Precio por:KG\\n                                                    <br />\\n                                                    $86.66</div>\\n                                            </div>\\n                                        </div>\\n                                        <div class=\"clear\">\\n                                        </div>\\n                                        <div class=\"cajaComentario\" id=\"comment0779167590641\">\\n                                            <div>\\n                                                Ingresa aqu\\xed cualquier comentario o sugerencia.</div>\\n                                            <p>\\n                                                <input style=\"height: 20px; width: 150px\" maxlength=\"50\" size=\"30\" onkeypress=\"return soloCaracteresValidosParaBuscqueda(event)\" id=\"txtCom0779167590641\" /></p>\\n                                            <div class=\"btnCerrar\">\\n                                                <a onclick=\"$(this).parent().parent().fadeOut()\">Cerrar</a></div>\\n                                        </div>\\n                                    \\n\\t</div>\\n                                \\n</div>\\n                            </div><div class=\"pnlGrid pnlGridItem\">\\n                                <div>\\n\\t\\n                                    <div class=\"pnlInfo\">\\n\\t\\t\\n                                        <div style=\"height: 80px\">\\n                                            <div style=\"float: left; padding: 5px; padding-top: 10px\">\\n                                                <a title=\"Aceitunas verdes vanoli 160gr\" href=\"https://www.walmartonline.com.ar/images/products/img_large/0779012773052L.jpg\" class=\"single_image\">\\n                                                    <img border=\"0\" name=\"imAceitunas verdes vanoli 160gr\" src=\"https://www.walmartonline.com.ar/images/Products/img_small/0779012773052s.jpg\" id=\"im0779012773052\" alt=\"Aceitunas verdes vanoli 160gr\" class=\"imagenArticulo\" />\\n                                                </a>\\n                                            </div>\\n                                            <div>\\n                                                <div class=\"detalle\" style=\"padding: 10px\">\\n                                                    <a title=\"Aceitunas verdes vanoli 160gr\" href=\"Detalle-de-articulo.aspx?upc=0779012773052\">\\n                                                        Aceitunas verdes vanoli 160gr</a>\\n                                                </div>\\n                                                <div style=\"height: 20px\">\\n                                                </div>\\n                                            </div>\\n                                        </div>\\n                                        <div class=\"clear\">\\n                                        </div>\\n                                        <div class=\"btnComentario\">\\n                                            <a class=\"linkComentario\" id=\"btnComment0779012773052\">Comentario</a></div>\\n                                    \\n\\t</div>\\n                                    <div class=\"pnlItem\">\\n\\t\\t\\n                                        <div class=\"boton\">\\n                                            <div class=\"AgregarCarrito\">\\n                                                \\n                                                <div style=\"padding: 5px\">\\n                                                    <b>Cantidad</b>\\xa0\\xa0\\xa0\\n                                                    <input onkeypress=\"return soloNumeros(event)\" title=\"Ajusta la cantidad que deseas agregar a tu carrito\" maxlength=\"4\" size=\"2\" value=\"1\" id=\"in0779012773052\" style=\"height: 14px\" name=\"in0779012773052\" />\\n                                                    <a onclick=\"agregaServer(\\'$6.90\\',\\'0779012773052\\',document.getElementById(\\'in0779012773052\\').value,document.getElementById(\\'txtCom0779012773052\\').value);$(\\'#comment0779012773052\\').hide()\" style=\"cursor: pointer;\" class=\"agregaCarrito\">\\n                                                        <img style=\"border-style: none; height: 23px;\" alt=\"Agrega \\u201cAceitunas verdes vanoli 160gr\\u201d a tu carrito\" src=\"https://www.walmartonline.com.ar/images/cart/car.gif\" />\\n                                                    </a>\\n                                                    <div class=\"agregado\">\\n                                                    </div>\\n                                                </div>\\n                                            </div>\\n                                        </div>\\n                                        <div style=\"white-space: nowrap\">\\n                                            <div style=\"padding: 5px;\">\\n                                                <span class=\"totalItem\">$6.90</span>\\n                                                <div class=\"precioUN\">\\n                                                    Precio por:KG\\n                                                    <br />\\n                                                    $43.12</div>\\n                                            </div>\\n                                        </div>\\n                                        <div class=\"clear\">\\n                                        </div>\\n                                        <div class=\"cajaComentario\" id=\"comment0779012773052\">\\n                                            <div>\\n                                                Ingresa aqu\\xed cualquier comentario o sugerencia.</div>\\n                                            <p>\\n                                                <input style=\"height: 20px; width: 150px\" maxlength=\"50\" size=\"30\" onkeypress=\"return soloCaracteresValidosParaBuscqueda(event)\" id=\"txtCom0779012773052\" /></p>\\n                                            <div class=\"btnCerrar\">\\n                                                <a onclick=\"$(this).parent().parent().fadeOut()\">Cerrar</a></div>\\n                                        </div>\\n                                    \\n\\t</div>\\n                                \\n</div>\\n                            </div><div class=\"pnlGrid pnlGridItem\">\\n                                <div>\\n\\t\\n                                    <div class=\"pnlInfo\">\\n\\t\\t\\n                                        <div style=\"height: 80px\">\\n                                            <div style=\"float: left; padding: 5px; padding-top: 10px\">\\n                                                <a title=\"Aceitunas verdes rellenas vanoli 160gr\" href=\"https://www.walmartonline.com.ar/images/products/img_large/0779012773303L.jpg\" class=\"single_image\">\\n                                                    <img border=\"0\" name=\"imAceitunas verdes rellenas vanoli 160gr\" src=\"https://www.walmartonline.com.ar/images/Products/img_small/0779012773303s.jpg\" id=\"im0779012773303\" alt=\"Aceitunas verdes rellenas vanoli 160gr\" class=\"imagenArticulo\" />\\n                                                </a>\\n                                            </div>\\n                                            <div>\\n                                                <div class=\"detalle\" style=\"padding: 10px\">\\n                                                    <a title=\"Aceitunas verdes rellenas vanoli 160gr\" href=\"Detalle-de-articulo.aspx?upc=0779012773303\">\\n                                                        Aceitunas verdes rellenas vanoli 160gr</a>\\n                                                </div>\\n                                                <div style=\"height: 20px\">\\n                                                </div>\\n                                            </div>\\n                                        </div>\\n                                        <div class=\"clear\">\\n                                        </div>\\n                                        <div class=\"btnComentario\">\\n                                            <a class=\"linkComentario\" id=\"btnComment0779012773303\">Comentario</a></div>\\n                                    \\n\\t</div>\\n                                    <div class=\"pnlItem\">\\n\\t\\t\\n                                        <div class=\"boton\">\\n                                            <div class=\"AgregarCarrito\">\\n                                                \\n                                                <div style=\"padding: 5px\">\\n                                                    <b>Cantidad</b>\\xa0\\xa0\\xa0\\n                                                    <input onkeypress=\"return soloNumeros(event)\" title=\"Ajusta la cantidad que deseas agregar a tu carrito\" maxlength=\"4\" size=\"2\" value=\"1\" id=\"in0779012773303\" style=\"height: 14px\" name=\"in0779012773303\" />\\n                                                    <a onclick=\"agregaServer(\\'$6.90\\',\\'0779012773303\\',document.getElementById(\\'in0779012773303\\').value,document.getElementById(\\'txtCom0779012773303\\').value);$(\\'#comment0779012773303\\').hide()\" style=\"cursor: pointer;\" class=\"agregaCarrito\">\\n                                                        <img style=\"border-style: none; height: 23px;\" alt=\"Agrega \\u201cAceitunas verdes rellenas vanoli 160gr\\u201d a tu carrito\" src=\"https://www.walmartonline.com.ar/images/cart/car.gif\" />\\n                                                    </a>\\n                                                    <div class=\"agregado\">\\n                                                    </div>\\n                                                </div>\\n                                            </div>\\n                                        </div>\\n                                        <div style=\"white-space: nowrap\">\\n                                            <div style=\"padding: 5px;\">\\n                                                <span class=\"totalItem\">$6.90</span>\\n                                                <div class=\"precioUN\">\\n                                                    Precio por:KG\\n                                                    <br />\\n                                                    $43.12</div>\\n                                            </div>\\n                                        </div>\\n                                        <div class=\"clear\">\\n                                        </div>\\n                                        <div class=\"cajaComentario\" id=\"comment0779012773303\">\\n                                            <div>\\n                                                Ingresa aqu\\xed cualquier comentario o sugerencia.</div>\\n                                            <p>\\n                                                <input style=\"height: 20px; width: 150px\" maxlength=\"50\" size=\"30\" onkeypress=\"return soloCaracteresValidosParaBuscqueda(event)\" id=\"txtCom0779012773303\" /></p>\\n                                            <div class=\"btnCerrar\">\\n                                                <a onclick=\"$(this).parent().parent().fadeOut()\">Cerrar</a></div>\\n                                        </div>\\n                                    \\n\\t</div>\\n                                \\n</div>\\n                            </div><div class=\"pnlGrid pnlGridItem\">\\n                                <div>\\n\\t\\n                                    <div class=\"pnlInfo\">\\n\\t\\t\\n                                        <div style=\"height: 80px\">\\n                                            <div style=\"float: left; padding: 5px; padding-top: 10px\">\\n                                                <a title=\"Aceitunas verdes desc dp yovinessa 300gr\" href=\"https://www.walmartonline.com.ar/images/products/img_large/0779477010007L.jpg\" class=\"single_image\">\\n                                                    <img border=\"0\" name=\"imAceitunas verdes desc dp yovinessa 300gr\" src=\"https://www.walmartonline.com.ar/images/Products/img_small/0779477010007s.jpg\" id=\"im0779477010007\" alt=\"Aceitunas verdes desc dp yovinessa 300gr\" class=\"imagenArticulo\" />\\n                                                </a>\\n                                            </div>\\n                                            <div>\\n                                                <div class=\"detalle\" style=\"padding: 10px\">\\n                                                    <a title=\"Aceitunas verdes desc dp yovinessa 300gr\" href=\"Detalle-de-articulo.aspx?upc=0779477010007\">\\n                                                        Aceitunas verdes desc dp yovinessa 300gr</a>\\n                                                </div>\\n                                                <div style=\"height: 20px\">\\n                                                </div>\\n                                            </div>\\n                                        </div>\\n                                        <div class=\"clear\">\\n                                        </div>\\n                                        <div class=\"btnComentario\">\\n                                            <a class=\"linkComentario\" id=\"btnComment0779477010007\">Comentario</a></div>\\n                                    \\n\\t</div>\\n                                    <div class=\"pnlItem\">\\n\\t\\t\\n                                        <div class=\"boton\">\\n                                            <div class=\"AgregarCarrito\">\\n                                                \\n                                                <div style=\"padding: 5px\">\\n                                                    <b>Cantidad</b>\\xa0\\xa0\\xa0\\n                                                    <input onkeypress=\"return soloNumeros(event)\" title=\"Ajusta la cantidad que deseas agregar a tu carrito\" maxlength=\"4\" size=\"2\" value=\"1\" id=\"in0779477010007\" style=\"height: 14px\" name=\"in0779477010007\" />\\n                                                    <a onclick=\"agregaServer(\\'$21.60\\',\\'0779477010007\\',document.getElementById(\\'in0779477010007\\').value,document.getElementById(\\'txtCom0779477010007\\').value);$(\\'#comment0779477010007\\').hide()\" style=\"cursor: pointer;\" class=\"agregaCarrito\">\\n                                                        <img style=\"border-style: none; height: 23px;\" alt=\"Agrega \\u201cAceitunas verdes desc dp yovinessa 300gr\\u201d a tu carrito\" src=\"https://www.walmartonline.com.ar/images/cart/car.gif\" />\\n                                                    </a>\\n                                                    <div class=\"agregado\">\\n                                                    </div>\\n                                                </div>\\n                                            </div>\\n                                        </div>\\n                                        <div style=\"white-space: nowrap\">\\n                                            <div style=\"padding: 5px;\">\\n                                                <span class=\"totalItem\">$21.60</span>\\n                                                <div class=\"precioUN\">\\n                                                    Precio por:KG\\n                                                    <br />\\n                                                    $72.00</div>\\n                                            </div>\\n                                        </div>\\n                                        <div class=\"clear\">\\n                                        </div>\\n                                        <div class=\"cajaComentario\" id=\"comment0779477010007\">\\n                                            <div>\\n                                                Ingresa aqu\\xed cualquier comentario o sugerencia.</div>\\n                                            <p>\\n                                                <input style=\"height: 20px; width: 150px\" maxlength=\"50\" size=\"30\" onkeypress=\"return soloCaracteresValidosParaBuscqueda(event)\" id=\"txtCom0779477010007\" /></p>\\n                                            <div class=\"btnCerrar\">\\n                                                <a onclick=\"$(this).parent().parent().fadeOut()\">Cerrar</a></div>\\n                                        </div>\\n                                    \\n\\t</div>\\n                                \\n</div>\\n                            </div><div class=\"pnlGrid pnlGridItem\">\\n                                <div>\\n\\t\\n                                    <div class=\"pnlInfo\">\\n\\t\\t\\n                                        <div style=\"height: 80px\">\\n                                            <div style=\"float: left; padding: 5px; padding-top: 10px\">\\n                                                <a title=\"Aceitunas verdes desc dp yovinessa 150gr\" href=\"https://www.walmartonline.com.ar/images/products/img_large/0779477010075L.jpg\" class=\"single_image\">\\n                                                    <img border=\"0\" name=\"imAceitunas verdes desc dp yovinessa 150gr\" src=\"https://www.walmartonline.com.ar/images/Products/img_small/0779477010075s.jpg\" id=\"im0779477010075\" alt=\"Aceitunas verdes desc dp yovinessa 150gr\" class=\"imagenArticulo\" />\\n                                                </a>\\n                                            </div>\\n                                            <div>\\n                                                <div class=\"detalle\" style=\"padding: 10px\">\\n                                                    <a title=\"Aceitunas verdes desc dp yovinessa 150gr\" href=\"Detalle-de-articulo.aspx?upc=0779477010075\">\\n                                                        Aceitunas verdes desc dp yovinessa 150gr</a>\\n                                                </div>\\n                                                <div style=\"height: 20px\">\\n                                                </div>\\n                                            </div>\\n                                        </div>\\n                                        <div class=\"clear\">\\n                                        </div>\\n                                        <div class=\"btnComentario\">\\n                                            <a class=\"linkComentario\" id=\"btnComment0779477010075\">Comentario</a></div>\\n                                    \\n\\t</div>\\n                                    <div class=\"pnlItem\">\\n\\t\\t\\n                                        <div class=\"boton\">\\n                                            <div class=\"AgregarCarrito\">\\n                                                \\n                                                <div style=\"padding: 5px\">\\n                                                    <b>Cantidad</b>\\xa0\\xa0\\xa0\\n                                                    <input onkeypress=\"return soloNumeros(event)\" title=\"Ajusta la cantidad que deseas agregar a tu carrito\" maxlength=\"4\" size=\"2\" value=\"1\" id=\"in0779477010075\" style=\"height: 14px\" name=\"in0779477010075\" />\\n                                                    <a onclick=\"agregaServer(\\'$11.00\\',\\'0779477010075\\',document.getElementById(\\'in0779477010075\\').value,document.getElementById(\\'txtCom0779477010075\\').value);$(\\'#comment0779477010075\\').hide()\" style=\"cursor: pointer;\" class=\"agregaCarrito\">\\n                                                        <img style=\"border-style: none; height: 23px;\" alt=\"Agrega \\u201cAceitunas verdes desc dp yovinessa 150gr\\u201d a tu carrito\" src=\"https://www.walmartonline.com.ar/images/cart/car.gif\" />\\n                                                    </a>\\n                                                    <div class=\"agregado\">\\n                                                    </div>\\n                                                </div>\\n                                            </div>\\n                                        </div>\\n                                        <div style=\"white-space: nowrap\">\\n                                            <div style=\"padding: 5px;\">\\n                                                <span class=\"totalItem\">$11.00</span>\\n                                                <div class=\"precioUN\">\\n                                                    Precio por:KG\\n                                                    <br />\\n                                                    $73.33</div>\\n                                            </div>\\n                                        </div>\\n                                        <div class=\"clear\">\\n                                        </div>\\n                                        <div class=\"cajaComentario\" id=\"comment0779477010075\">\\n                                            <div>\\n                                                Ingresa aqu\\xed cualquier comentario o sugerencia.</div>\\n                                            <p>\\n                                                <input style=\"height: 20px; width: 150px\" maxlength=\"50\" size=\"30\" onkeypress=\"return soloCaracteresValidosParaBuscqueda(event)\" id=\"txtCom0779477010075\" /></p>\\n                                            <div class=\"btnCerrar\">\\n                                                <a onclick=\"$(this).parent().parent().fadeOut()\">Cerrar</a></div>\\n                                        </div>\\n                                    \\n\\t</div>\\n                                \\n</div>\\n                            </div><div class=\"pnlGrid pnlGridItem\">\\n                                <div>\\n\\t\\n                                    <div class=\"pnlInfo\">\\n\\t\\t\\n                                        <div style=\"height: 80px\">\\n                                            <div style=\"float: left; padding: 5px; padding-top: 10px\">\\n                                                <a title=\"Aceitunas verdes rodajas yovinessa 150gr\" href=\"https://www.walmartonline.com.ar/images/products/img_large/0779477010074L.jpg\" class=\"single_image\">\\n                                                    <img border=\"0\" name=\"imAceitunas verdes rodajas yovinessa 150gr\" src=\"https://www.walmartonline.com.ar/images/Products/img_small/0779477010074s.jpg\" id=\"im0779477010074\" alt=\"Aceitunas verdes rodajas yovinessa 150gr\" class=\"imagenArticulo\" />\\n                                                </a>\\n                                            </div>\\n                                            <div>\\n                                                <div class=\"detalle\" style=\"padding: 10px\">\\n                                                    <a title=\"Aceitunas verdes rodajas yovinessa 150gr\" href=\"Detalle-de-articulo.aspx?upc=0779477010074\">\\n                                                        Aceitunas verdes rodajas yovinessa 150gr</a>\\n                                                </div>\\n                                                <div style=\"height: 20px\">\\n                                                </div>\\n                                            </div>\\n                                        </div>\\n                                        <div class=\"clear\">\\n                                        </div>\\n                                        <div class=\"btnComentario\">\\n                                            <a class=\"linkComentario\" id=\"btnComment0779477010074\">Comentario</a></div>\\n                                    \\n\\t</div>\\n                                    <div class=\"pnlItem\">\\n\\t\\t\\n                                        <div class=\"boton\">\\n                                            <div class=\"AgregarCarrito\">\\n                                                \\n                                                <div style=\"padding: 5px\">\\n                                                    <b>Cantidad</b>\\xa0\\xa0\\xa0\\n                                                    <input onkeypress=\"return soloNumeros(event)\" title=\"Ajusta la cantidad que deseas agregar a tu carrito\" maxlength=\"4\" size=\"2\" value=\"1\" id=\"in0779477010074\" style=\"height: 14px\" name=\"in0779477010074\" />\\n                                                    <a onclick=\"agregaServer(\\'$11.20\\',\\'0779477010074\\',document.getElementById(\\'in0779477010074\\').value,document.getElementById(\\'txtCom0779477010074\\').value);$(\\'#comment0779477010074\\').hide()\" style=\"cursor: pointer;\" class=\"agregaCarrito\">\\n                                                        <img style=\"border-style: none; height: 23px;\" alt=\"Agrega \\u201cAceitunas verdes rodajas yovinessa 150gr\\u201d a tu carrito\" src=\"https://www.walmartonline.com.ar/images/cart/car.gif\" />\\n                                                    </a>\\n                                                    <div class=\"agregado\">\\n                                                    </div>\\n                                                </div>\\n                                            </div>\\n                                        </div>\\n                                        <div style=\"white-space: nowrap\">\\n                                            <div style=\"padding: 5px;\">\\n                                                <span class=\"totalItem\">$11.20</span>\\n                                                <div class=\"precioUN\">\\n                                                    Precio por:KG\\n                                                    <br />\\n                                                    $74.66</div>\\n                                            </div>\\n                                        </div>\\n                                        <div class=\"clear\">\\n                                        </div>\\n                                        <div class=\"cajaComentario\" id=\"comment0779477010074\">\\n                                            <div>\\n                                                Ingresa aqu\\xed cualquier comentario o sugerencia.</div>\\n                                            <p>\\n                                                <input style=\"height: 20px; width: 150px\" maxlength=\"50\" size=\"30\" onkeypress=\"return soloCaracteresValidosParaBuscqueda(event)\" id=\"txtCom0779477010074\" /></p>\\n                                            <div class=\"btnCerrar\">\\n                                                <a onclick=\"$(this).parent().parent().fadeOut()\">Cerrar</a></div>\\n                                        </div>\\n                                    \\n\\t</div>\\n                                \\n</div>\\n                            </div><div class=\"pnlGrid pnlGridItem\">\\n                                <div>\\n\\t\\n                                    <div class=\"pnlInfo\">\\n\\t\\t\\n                                        <div style=\"height: 80px\">\\n                                            <div style=\"float: left; padding: 5px; padding-top: 10px\">\\n                                                <a title=\"Aceitunas verdes rell dp yovinessa 160gr\" href=\"https://www.walmartonline.com.ar/images/products/img_large/0779477010045L.jpg\" class=\"single_image\">\\n                                                    <img border=\"0\" name=\"imAceitunas verdes rell dp yovinessa 160gr\" src=\"https://www.walmartonline.com.ar/images/Products/img_small/0779477010045s.jpg\" id=\"im0779477010045\" alt=\"Aceitunas verdes rell dp yovinessa 160gr\" class=\"imagenArticulo\" />\\n                                                </a>\\n                                            </div>\\n                                            <div>\\n                                                <div class=\"detalle\" style=\"padding: 10px\">\\n                                                    <a title=\"Aceitunas verdes rell dp yovinessa 160gr\" href=\"Detalle-de-articulo.aspx?upc=0779477010045\">\\n                                                        Aceitunas verdes rell dp yovinessa 160gr</a>\\n                                                </div>\\n                                                <div style=\"height: 20px\">\\n                                                </div>\\n                                            </div>\\n                                        </div>\\n                                        <div class=\"clear\">\\n                                        </div>\\n                                        <div class=\"btnComentario\">\\n                                            <a class=\"linkComentario\" id=\"btnComment0779477010045\">Comentario</a></div>\\n                                    \\n\\t</div>\\n                                    <div class=\"pnlItem\">\\n\\t\\t\\n                                        <div class=\"boton\">\\n                                            <div class=\"AgregarCarrito\">\\n                                                \\n                                                <div style=\"padding: 5px\">\\n                                                    <b>Cantidad</b>\\xa0\\xa0\\xa0\\n                                                    <input onkeypress=\"return soloNumeros(event)\" title=\"Ajusta la cantidad que deseas agregar a tu carrito\" maxlength=\"4\" size=\"2\" value=\"1\" id=\"in0779477010045\" style=\"height: 14px\" name=\"in0779477010045\" />\\n                                                    <a onclick=\"agregaServer(\\'$12.20\\',\\'0779477010045\\',document.getElementById(\\'in0779477010045\\').value,document.getElementById(\\'txtCom0779477010045\\').value);$(\\'#comment0779477010045\\').hide()\" style=\"cursor: pointer;\" class=\"agregaCarrito\">\\n                                                        <img style=\"border-style: none; height: 23px;\" alt=\"Agrega \\u201cAceitunas verdes rell dp yovinessa 160gr\\u201d a tu carrito\" src=\"https://www.walmartonline.com.ar/images/cart/car.gif\" />\\n                                                    </a>\\n                                                    <div class=\"agregado\">\\n                                                    </div>\\n                                                </div>\\n                                            </div>\\n                                        </div>\\n                                        <div style=\"white-space: nowrap\">\\n                                            <div style=\"padding: 5px;\">\\n                                                <span class=\"totalItem\">$12.20</span>\\n                                                <div class=\"precioUN\">\\n                                                    Precio por:KG\\n                                                    <br />\\n                                                    $76.25</div>\\n                                            </div>\\n                                        </div>\\n                                        <div class=\"clear\">\\n                                        </div>\\n                                        <div class=\"cajaComentario\" id=\"comment0779477010045\">\\n                                            <div>\\n                                                Ingresa aqu\\xed cualquier comentario o sugerencia.</div>\\n                                            <p>\\n                                                <input style=\"height: 20px; width: 150px\" maxlength=\"50\" size=\"30\" onkeypress=\"return soloCaracteresValidosParaBuscqueda(event)\" id=\"txtCom0779477010045\" /></p>\\n                                            <div class=\"btnCerrar\">\\n                                                <a onclick=\"$(this).parent().parent().fadeOut()\">Cerrar</a></div>\\n                                        </div>\\n                                    \\n\\t</div>\\n                                \\n</div>\\n                            </div><div class=\"pnlGrid pnlGridItem\">\\n                                <div>\\n\\t\\n                                    <div class=\"pnlInfo\">\\n\\t\\t\\n                                        <div style=\"height: 80px\">\\n                                            <div style=\"float: left; padding: 5px; padding-top: 10px\">\\n                                                <a title=\"Aceitunas verdes doypack yovinesa 500gr\" href=\"https://www.walmartonline.com.ar/images/products/img_large/0779477010090L.jpg\" class=\"single_image\">\\n                                                    <img border=\"0\" name=\"imAceitunas verdes doypack yovinesa 500gr\" src=\"https://www.walmartonline.com.ar/images/Products/img_small/0779477010090s.jpg\" id=\"im0779477010090\" alt=\"Aceitunas verdes doypack yovinesa 500gr\" class=\"imagenArticulo\" />\\n                                                </a>\\n                                            </div>\\n                                            <div>\\n                                                <div class=\"detalle\" style=\"padding: 10px\">\\n                                                    <a title=\"Aceitunas verdes doypack yovinesa 500gr\" href=\"Detalle-de-articulo.aspx?upc=0779477010090\">\\n                                                        Aceitunas verdes doypack yovinesa 500gr</a>\\n                                                </div>\\n                                                <div style=\"height: 20px\">\\n                                                </div>\\n                                            </div>\\n                                        </div>\\n                                        <div class=\"clear\">\\n                                        </div>\\n                                        <div class=\"btnComentario\">\\n                                            <a class=\"linkComentario\" id=\"btnComment0779477010090\">Comentario</a></div>\\n                                    \\n\\t</div>\\n                                    <div class=\"pnlItem\">\\n\\t\\t\\n                                        <div class=\"boton\">\\n                                            <div class=\"AgregarCarrito\">\\n                                                \\n                                                <div style=\"padding: 5px\">\\n                                                    <b>Cantidad</b>\\xa0\\xa0\\xa0\\n                                                    <input onkeypress=\"return soloNumeros(event)\" title=\"Ajusta la cantidad que deseas agregar a tu carrito\" maxlength=\"4\" size=\"2\" value=\"1\" id=\"in0779477010090\" style=\"height: 14px\" name=\"in0779477010090\" />\\n                                                    <a onclick=\"agregaServer(\\'$30.70\\',\\'0779477010090\\',document.getElementById(\\'in0779477010090\\').value,document.getElementById(\\'txtCom0779477010090\\').value);$(\\'#comment0779477010090\\').hide()\" style=\"cursor: pointer;\" class=\"agregaCarrito\">\\n                                                        <img style=\"border-style: none; height: 23px;\" alt=\"Agrega \\u201cAceitunas verdes doypack yovinesa 500gr\\u201d a tu carrito\" src=\"https://www.walmartonline.com.ar/images/cart/car.gif\" />\\n                                                    </a>\\n                                                    <div class=\"agregado\">\\n                                                    </div>\\n                                                </div>\\n                                            </div>\\n                                        </div>\\n                                        <div style=\"white-space: nowrap\">\\n                                            <div style=\"padding: 5px;\">\\n                                                <span class=\"totalItem\">$30.70</span>\\n                                                <div class=\"precioUN\">\\n                                                    Precio por:KG\\n                                                    <br />\\n                                                    $61.40</div>\\n                                            </div>\\n                                        </div>\\n                                        <div class=\"clear\">\\n                                        </div>\\n                                        <div class=\"cajaComentario\" id=\"comment0779477010090\">\\n                                            <div>\\n                                                Ingresa aqu\\xed cualquier comentario o sugerencia.</div>\\n                                            <p>\\n                                                <input style=\"height: 20px; width: 150px\" maxlength=\"50\" size=\"30\" onkeypress=\"return soloCaracteresValidosParaBuscqueda(event)\" id=\"txtCom0779477010090\" /></p>\\n                                            <div class=\"btnCerrar\">\\n                                                <a onclick=\"$(this).parent().parent().fadeOut()\">Cerrar</a></div>\\n                                        </div>\\n                                    \\n\\t</div>\\n                                \\n</div>\\n                            </div>\\n                        </div>\\n\\n                         <div id=\"headerResultadosFooter\" style=\"display: block;\">\\n                                <div class=\"navegacion detalle\">\\n                                    <table cellspacing=\"0\" cellpadding=\"0\" style=\"width: 100%; height: 25px;\">\\n                                        <tbody><tr>\\n                                            <td>\\n                                            </td>\\n                                            <td style=\"text-align: center;\">\\n                                                <div style=\"float: left\">\\n                                                    <table cellspacing=\"2\" cellpadding=\"3\">\\n                                                        <tbody><tr>\\n                                                            <td align=\"left\" style=\"width: 50%\" colspan=\"2\">\\n                                                                <div id=\"spryregion3\" class=\"\">\\n                                                                    <span>1 - 27\\n                                                                        de 27 productos</span> \\n                                                                </div>\\n                                                            </td>\\n                                                        </tr>\\n                                                    </tbody></table>\\n                                                </div>\\n                                                <div style=\"float: right\">\\n                                                    <table>\\n                                                        <tbody><tr>\\n                                                            <td width=\"65px\">\\n                                                                <a onclick=\"pvItems.previousPage();MosaicoOn();\">\\n                                                                    <div class=\"flechaAnterior\">\\n                                                                    </div>\\n                                                                    Anterior</a>\\n                                                            </td>\\n                                                            <td>\\n                                                                <span style=\"text-align: center\" id=\"spryregion4\" class=\"\">\\n                                                                    \\n                                                                     <span class=\"currentPage\">\\n                                                                            1</span> </span>\\n                                                            </td>\\n                                                            <td width=\"80px\">\\n                                                                <div class=\"clear\">\\n                                                                </div>\\n                                                                <a onclick=\"pvItems.nextPage();MosaicoOn();\">\\n                                                                    <div class=\"flechaSiguiente\">\\n                                                                    </div>\\n                                                                    Siguiente</a>\\n                                                                <div class=\"clear\">\\n                                                                </div>\\n                                                            </td>\\n                                                        </tr>\\n                                                    </tbody></table>\\n                                                </div>\\n                                            </td>\\n                                            <td style=\"text-align: right;\">\\n                                            \\n                                            </td>\\n                                        </tr>\\n                                    </tbody></table>\\n                                    <div class=\"clear\">\\n                                    </div>\\n                                </div>\\n                            </div>\\n                    </div>\\n                </div>\\n            </div>\\n        </div>\\n        <div class=\"FooterContainer HomePage\">\\n            \\n\\n<div style=\"clear: both;\">\\n    <div class=\"GlobalFooter\" id=\"footerBox\">\\n        <div id=\"gFooterLeft\">\\n            <div class=\"gFooterColumn\">\\n                <ul class=\"NoBullet\">\\n                    <li class=\"footerSubtitle\">\\n                        Walmart\\n                    </li>\\n                    <li>\\n                        <a target=\"_blank\" href=\"http://www.wal-mart.com.ar/articulo/33/walmart_argentina\" title=\"Quienes Somos\" id=\"wcFooter1_HyperLink1\">Quienes Somos</a>\\n                    </li>\\n                    <li>\\n                        <a title=\"Pol\\xedticas de Privacidad\" href=\"Politicas-de-privacidad.aspx\">Pol\\xedticas de Privacidad</a>\\n                    </li>\\n           \\n                </ul>\\n                <div>\\n                <img style=\"height: 80px; width: 52px\" src=\"images/QR%20AFIP.jpg\" alt=\"\" />\\n                </div>\\n            </div>\\n        </div>\\n        <div class=\"gFooterColumn\">\\n            <ul class=\"NoBullet\">\\n                <li class=\"footerSubtitle\">\\n                    Walmart on line\\n                </li>\\n                <li>\\n                    <a title=\"Preguntas Frecuentes\" href=\"Preguntas-frecuentes.aspx\">Preguntas Frecuentes</a>\\n                </li>\\n                <li>\\n                    <a title=\"Formas de Pago\" href=\"Metodos-de-pago.aspx\">Formas de Pago</a>\\n                </li>\\n                \\n                <li>\\n                    <a title=\"Modalidades de Entrega\" href=\"Modalidades-de-entrega.aspx\">Modalidades de Entrega</a>\\n                </li>\\n                \\n                <li>\\n                    <a title=\"T\\xe9rminos y Condiciones\" href=\"Terminos-y-condiciones.aspx\">T\\xe9rminos y Condiciones</a>\\n                </li>\\n                <li>\\n                    <a title=\"Beneficios Bancarios\" href=\"Beneficios_bancarios.aspx\">Beneficios Bancarios</a>\\n                </li>\\n            </ul>\\n        </div>\\n        <div class=\"gFooterColumn\">\\n            <ul class=\"NoBullet\">\\n                <li class=\"footerSubtitle\">\\n                    Seguimiento de pedidos \\n                </li>\\n                <li>\\n                    <a style=\"color:Black\" title=\"Mapa del Sitio\" href=\"Mapa-del-sitio.aspx\">Mapa del Sitio</a>\\n                </li>\\n                <li>\\n                    <a title=\"Cont\\xe1ctenos\" href=\"Contacto.aspx\">Cont\\xe1ctenos</a>\\n                </li>\\n                <li>\\n                    <a href=\"Mis-pedidos.aspx\" title=\"Estado de la entrega\" id=\"wcFooter1_LinkButton111\">Estado de la entrega</a>\\n                </li>\\n                <li>\\n                    <a title=\"Garant\\xeda de 200%\" href=\"Garantia.aspx\">Garant\\xeda de 200%</a>\\n                </li>\\n                <li>\\n                    \\n                    <a href=\"Cancelar-mi-pedido.aspx\" id=\"wcFooter1_LinkButton1\">Cancelaci\\xf3n de Pedidos</a>\\n                </li>\\n                <li>\\n                    <a title=\"Areas de Cobertura\" href=\"Areas-de-cobertura.aspx\">Areas de Cobertura</a>\\n                </li>\\n            </ul>\\n        </div>\\n        <div class=\"gFooterColumn\">\\n            <ul class=\"NoBullet\">\\n                <li class=\"footerSubtitle\">\\n                    Informaci\\xf3n corporativa\\n                </li>\\n                <li>\\n                    <a target=\"_blank\" title=\"Walmart Argentina\" href=\"http://www.wal-mart.com.ar\">Walmart Argentina</a>\\n                </li>\\n                <li>\\n                    <a target=\"_blank\" title=\"Walmart Autocenter\" href=\"http://www.wal-mart.com.ar/autocenter/walmart_autocenter.php\">Walmart Autocenter</a>\\n                </li>\\n                <li>\\n                    <a target=\"_blank\" title=\"Walmart Fotocenter\" href=\"http://www.wal-mart.com.ar/centro_fotografico/walmart_centro_fotografico.php\">Walmart Fotocenter</a>\\n                </li>\\n                <li>\\n                    <a target=\"_blank\" title=\"Walmart \\xd3ptica\" href=\"http://www.wal-mart.com.ar/optica/walmart_optica.php\">Walmart \\xd3ptica</a>\\n                </li>\\n                <li>\\n                    <a target=\"_blank\" title=\"Walmart Farmacia\" href=\"http://www.wal-mart.com.ar/farmacia/walmart_farmacia.php\">Walmart Farmacia</a>\\n                </li>\\n            </ul>\\n            <div>\\n            </div>\\n        </div>\\n    </div>\\n    <div class=\"clear\">\\n    </div>\\n    <div id=\"footerSubtitle FormasDePago\">\\n       \\n    </div>\\n    <div class=\"FooterTrademark\">\\n        Walmart Argentina S.R.L\\n    </div>\\n    <div class=\"legalNotice\">\\n        Los precios y el surtido, expuestos sin registraci\\xf3n corresponden a la tienda #2997 - Constituyentes C.A.B.A - Una vez realizado el registro, acceder\\xe1 al surtido correspondiente a su tienda m\\xe1s cercana.\\nTodas las promociones y precios promocionales se ver\\xe1n reflejados en su ticket y el pago se realizara al momento de la entrega.\\n    </div>\\n</div>\\n\\n        </div>\\n    \\n\\n<script type=\"text/javascript\">\\n//&lt;![CDATA[\\n\\ntheForm.oldSubmit = theForm.submit;\\ntheForm.submit = WebForm_SaveScrollPositionSubmit;\\n\\ntheForm.oldOnSubmit = theForm.onsubmit;\\ntheForm.onsubmit = WebForm_SaveScrollPositionOnSubmit;\\n//]]&gt;\\n</script>\\n\\n\\n    <script src=\"js/jquery.fancybox-1.3.4.js\" type=\"text/javascript\"></script>\\n\\n    <script type=\"text/javascript\" src=\"js/jquery.cookie.js\"></script>\\n\\n    <script src=\"js/jquery.easing-1.3.pack.js\" type=\"text/javascript\"></script>\\n\\n    <script type=\"text/javascript\">\\n        myObserver = new Object;\\n        myObserver.onPostUpdate = function(notifier, data) {\\n            $(\\'#loader\\').hide();\\n            $(\\'#NavLink\\').show();\\n            $(\\'#regionpvItems\\').show();\\n            $(\\'#headerResultados\\').show();\\n            $(\\'#headerResultadosFooter\\').show();\\n            $(\\'#summary\\').show();\\n            $(\\'#counterPrice\\').show();\\n            $(\\'img.imagenArticulo\\').error(function() {\\n                $(this).attr(\\'src\\', \\'https://www.walmartonline.com.ar/images/no_product_thumbnail.jpg\\');\\n            });\\n\\n            $(\".single_image\").fancybox({\\n                \\'titleShow\\': true,\\n                \\'transitionIn\\': \\'elastic\\',\\n                \\'transitionOut\\': \\'elastic\\',\\n                \\'easingIn\\': \\'easeOutBack\\',\\n                \\'easingOut\\': \\'easeInBack\\',\\n                \\'overlayShow\\': true\\n            });\\n\\n            $(\".linkComentario\").click(function(e) {\\n                $(\\'#comment\\' + $(this).attr(\\'id\\').substring(10)).fadeToggle();\\n            });\\n\\n        };\\n        Spry.Data.Region.addObserver(\"regionpvItems\", myObserver);\\n\\n        //        if (busqueda != undefined &amp;&amp; busqueda != \"\")\\n        //            $(\"#tituloBusqueda\").html(\"Tu B&amp;uacute;squeda fue: \" + busqueda);\\n    </script>\\n\\n\\n\\n</div></div></form><div style=\"display: none; position: absolute; overflow: hidden; z-index: 1000; outline: 0px none;\" class=\"ui-dialog ui-widget ui-widget-content ui-corner-all  ui-draggable\" tabindex=\"-1\" role=\"dialog\" aria-labelledby=\"ui-dialog-title-dialog-conviertecarrito\"><div class=\"ui-dialog-titlebar ui-widget-header ui-corner-all ui-helper-clearfix\" unselectable=\"on\" style=\"-moz-user-select: none;\"><span class=\"ui-dialog-title\" id=\"ui-dialog-title-dialog-conviertecarrito\" unselectable=\"on\" style=\"-moz-user-select: none;\">Convertir carrito en lista</span><a href=\"#\" class=\"ui-dialog-titlebar-close ui-corner-all\" role=\"button\" unselectable=\"on\" style=\"-moz-user-select: none;\"><span class=\"ui-icon ui-icon-closethick\" unselectable=\"on\" style=\"-moz-user-select: none;\">close</span></a></div><div style=\"\" id=\"dialog-conviertecarrito\" class=\"ui-dialog-content ui-widget-content\">\\n    <label for=\"name\">\\n        Nombre de la lista</label>\\n    <input type=\"text\" class=\"text ui-widget-content ui-corner-all\" id=\"nombrelista\" name=\"nombrelista\" />\\n</div><div class=\"ui-dialog-buttonpane ui-widget-content ui-helper-clearfix\"><button type=\"button\" class=\"ui-state-default ui-corner-all\">Cancelar</button><button type=\"button\" class=\"ui-state-default ui-corner-all\">Aceptar</button></div></div><div style=\"display: none; position: absolute; overflow: hidden; z-index: 1000; outline: 0px none;\" class=\"ui-dialog ui-widget ui-widget-content ui-corner-all  ui-draggable\" tabindex=\"-1\" role=\"dialog\" aria-labelledby=\"ui-dialog-title-dialog-confirm\"><div class=\"ui-dialog-titlebar ui-widget-header ui-corner-all ui-helper-clearfix\" unselectable=\"on\" style=\"-moz-user-select: none;\"><span class=\"ui-dialog-title\" id=\"ui-dialog-title-dialog-confirm\" unselectable=\"on\" style=\"-moz-user-select: none;\">\\xbfBorrar carrito?</span><a href=\"#\" class=\"ui-dialog-titlebar-close ui-corner-all\" role=\"button\" unselectable=\"on\" style=\"-moz-user-select: none;\"><span class=\"ui-icon ui-icon-closethick\" unselectable=\"on\" style=\"-moz-user-select: none;\">close</span></a></div><div style=\"\" id=\"dialog-confirm\" class=\"ui-dialog-content ui-widget-content\">\\n    <p>\\n        <span style=\"float: left; margin: 0 7px 20px 0;\" class=\"ui-icon ui-icon-alert\"></span>\\n        Los art\\xedculos ser\\xe1n borrados del carrito y no podr\\xe1n ser recuperados.\\n        \\xbfDesea continuar?</p>\\n</div><div class=\"ui-dialog-buttonpane ui-widget-content ui-helper-clearfix\"><button type=\"button\" class=\"ui-state-default ui-corner-all\">Cancelar</button><button type=\"button\" class=\"ui-state-default ui-corner-all\">Borrar art\\xedculos</button></div></div><div style=\"display: none; position: absolute; overflow: hidden; z-index: 1000; outline: 0px none;\" class=\"ui-dialog ui-widget ui-widget-content ui-corner-all  ui-draggable\" tabindex=\"-1\" role=\"dialog\" aria-labelledby=\"ui-dialog-title-dialog-nofirmado\"><div class=\"ui-dialog-titlebar ui-widget-header ui-corner-all ui-helper-clearfix\" unselectable=\"on\" style=\"-moz-user-select: none;\"><span class=\"ui-dialog-title\" id=\"ui-dialog-title-dialog-nofirmado\" unselectable=\"on\" style=\"-moz-user-select: none;\">Crear lista</span><a href=\"#\" class=\"ui-dialog-titlebar-close ui-corner-all\" role=\"button\" unselectable=\"on\" style=\"-moz-user-select: none;\"><span class=\"ui-icon ui-icon-closethick\" unselectable=\"on\" style=\"-moz-user-select: none;\">close</span></a></div><div style=\"\" id=\"dialog-nofirmado\" class=\"ui-dialog-content ui-widget-content\">\\n    <p>\\n        <span style=\"float: left; margin: 0 7px 20px 0;\" class=\"ui-icon ui-icon-alert\"></span>\\n        Para poder crear listas es necesario tener una sesi\\xf3n abierta.</p>\\n</div><div class=\"ui-dialog-buttonpane ui-widget-content ui-helper-clearfix\"><button type=\"button\" class=\"ui-state-default ui-corner-all\">Aceptar</button></div></div><div id=\"fancybox-tmp\"></div><div id=\"fancybox-loading\"><div></div></div><div id=\"fancybox-overlay\"></div><div id=\"fancybox-wrap\"><div id=\"fancybox-outer\"><div id=\"fancybox-bg-n\" class=\"fancybox-bg\"></div><div id=\"fancybox-bg-ne\" class=\"fancybox-bg\"></div><div id=\"fancybox-bg-e\" class=\"fancybox-bg\"></div><div id=\"fancybox-bg-se\" class=\"fancybox-bg\"></div><div id=\"fancybox-bg-s\" class=\"fancybox-bg\"></div><div id=\"fancybox-bg-sw\" class=\"fancybox-bg\"></div><div id=\"fancybox-bg-w\" class=\"fancybox-bg\"></div><div id=\"fancybox-bg-nw\" class=\"fancybox-bg\"></div><div id=\"fancybox-content\"></div><a id=\"fancybox-close\"></a><div id=\"fancybox-title\"></div><a id=\"fancybox-left\" href=\"javascript:;\"><span id=\"fancybox-left-ico\" class=\"fancy-ico\"></span></a><a id=\"fancybox-right\" href=\"javascript:;\"><span id=\"fancybox-right-ico\" class=\"fancy-ico\"></span></a></div></div></body></html>'"
       ]
      }
     ],
     "prompt_number": 122
    },
    {
     "cell_type": "code",
     "collapsed": false,
     "input": [
      "from preciosa.precios.models import Categoria"
     ],
     "language": "python",
     "metadata": {},
     "outputs": [],
     "prompt_number": 6
    },
    {
     "cell_type": "code",
     "collapsed": false,
     "input": [
      "arbol[0]['Description']"
     ],
     "language": "python",
     "metadata": {},
     "outputs": [
      {
       "output_type": "pyout",
       "prompt_number": 129,
       "text": [
        "u'Electro y tecnologia'"
       ]
      }
     ],
     "prompt_number": 129
    },
    {
     "cell_type": "code",
     "collapsed": false,
     "input": [
      "electro = arbol.pop(0)"
     ],
     "language": "python",
     "metadata": {},
     "outputs": [],
     "prompt_number": 130
    },
    {
     "cell_type": "code",
     "collapsed": false,
     "input": [
      "electro"
     ],
     "language": "python",
     "metadata": {},
     "outputs": [
      {
       "output_type": "pyout",
       "prompt_number": 131,
       "text": [
        "{u'Description': u'Electro y tecnologia',\n",
        " u'Elements': [{u'Description': u'Accesorios',\n",
        "   u'Elements': None,\n",
        "   u'Id': 0,\n",
        "   u'departmentName': u'f_ACCESORIOS ELECTRO'},\n",
        "  {u'Description': u'Audio',\n",
        "   u'Elements': None,\n",
        "   u'Id': 0,\n",
        "   u'departmentName': u'f_AUDIO'},\n",
        "  {u'Description': u'Celulares',\n",
        "   u'Elements': None,\n",
        "   u'Id': 0,\n",
        "   u'departmentName': u'f_CELULARES'},\n",
        "  {u'Description': u'Cuidado personal',\n",
        "   u'Elements': None,\n",
        "   u'Id': 0,\n",
        "   u'departmentName': u'f_ELECTRO CUIDADO PERSONAL'},\n",
        "  {u'Description': u'Dvd y home theater',\n",
        "   u'Elements': None,\n",
        "   u'Id': 0,\n",
        "   u'departmentName': u'f_TV Y DVD'},\n",
        "  {u'Description': u'Fotografia',\n",
        "   u'Elements': None,\n",
        "   u'Id': 0,\n",
        "   u'departmentName': u'f_CAMARAS'},\n",
        "  {u'Description': u'Frio- calor',\n",
        "   u'Elements': None,\n",
        "   u'Id': 0,\n",
        "   u'departmentName': u'f_FRIO- CALOR'},\n",
        "  {u'Description': u'Gps',\n",
        "   u'Elements': None,\n",
        "   u'Id': 0,\n",
        "   u'departmentName': u'f_GPS'},\n",
        "  {u'Description': u'Inform\\xe1tica',\n",
        "   u'Elements': None,\n",
        "   u'Id': 0,\n",
        "   u'departmentName': u'f_INFORMATICA'},\n",
        "  {u'Description': u'Led y lcd',\n",
        "   u'Elements': None,\n",
        "   u'Id': 0,\n",
        "   u'departmentName': u'f_LED'},\n",
        "  {u'Description': u'Linea blanca',\n",
        "   u'Elements': None,\n",
        "   u'Id': 0,\n",
        "   u'departmentName': u'f_LINEA BLANCA'},\n",
        "  {u'Description': u'Peque\\xf1os cocina',\n",
        "   u'Elements': None,\n",
        "   u'Id': 0,\n",
        "   u'departmentName': u'f_PEQUE\\xd1OS'},\n",
        "  {u'Description': u'Peque\\xf1os hogar',\n",
        "   u'Elements': None,\n",
        "   u'Id': 0,\n",
        "   u'departmentName': u'f_PEQUE\\xd1OS ELECTRO HOGAR'},\n",
        "  {u'Description': u'Video juegos',\n",
        "   u'Elements': None,\n",
        "   u'Id': 0,\n",
        "   u'departmentName': u'f_VIDEO JUEGOS'}],\n",
        " u'Id': 0,\n",
        " u'departmentName': u'D_electrodomesticos'}"
       ]
      }
     ],
     "prompt_number": 131
    },
    {
     "cell_type": "code",
     "collapsed": false,
     "input": [
      "arbol.append(electro)"
     ],
     "language": "python",
     "metadata": {},
     "outputs": [],
     "prompt_number": 132
    },
    {
     "cell_type": "code",
     "collapsed": false,
     "input": [
      "arbol[0]"
     ],
     "language": "python",
     "metadata": {},
     "outputs": [
      {
       "output_type": "pyout",
       "prompt_number": 133,
       "text": [
        "{u'Description': u'Almacen',\n",
        " u'Elements': [{u'Description': u'Aceites',\n",
        "   u'Elements': None,\n",
        "   u'Id': 0,\n",
        "   u'departmentName': u'f_ALMACEN ACEITES'},\n",
        "  {u'Description': u'Aceitunas y encurtidos',\n",
        "   u'Elements': None,\n",
        "   u'Id': 0,\n",
        "   u'departmentName': u'f_ACEITUNAS Y ENCURTIDOS'},\n",
        "  {u'Description': u'Arroz',\n",
        "   u'Elements': None,\n",
        "   u'Id': 0,\n",
        "   u'departmentName': u'f_ARROZ'},\n",
        "  {u'Description': u'Azucar y edulcorante',\n",
        "   u'Elements': None,\n",
        "   u'Id': 0,\n",
        "   u'departmentName': u'f_AZUCAR Y EDULCORANTE'},\n",
        "  {u'Description': u'Cereales',\n",
        "   u'Elements': None,\n",
        "   u'Id': 0,\n",
        "   u'departmentName': u'f_CEREALES'},\n",
        "  {u'Description': u'Condimentos',\n",
        "   u'Elements': None,\n",
        "   u'Id': 0,\n",
        "   u'departmentName': u'f_CONDIMENTOS'},\n",
        "  {u'Description': u'Conservas',\n",
        "   u'Elements': None,\n",
        "   u'Id': 0,\n",
        "   u'departmentName': u'f_CONSERVAS'},\n",
        "  {u'Description': u'Dulces',\n",
        "   u'Elements': None,\n",
        "   u'Id': 0,\n",
        "   u'departmentName': u'f_ALMACEN DULCES'},\n",
        "  {u'Description': u'Frutas secas',\n",
        "   u'Elements': None,\n",
        "   u'Id': 0,\n",
        "   u'departmentName': u'f_FRUTAS SECAS'},\n",
        "  {u'Description': u'Harinas',\n",
        "   u'Elements': None,\n",
        "   u'Id': 0,\n",
        "   u'departmentName': u'f_HARINAS'},\n",
        "  {u'Description': u'Huevos',\n",
        "   u'Elements': None,\n",
        "   u'Id': 0,\n",
        "   u'departmentName': u'f_ALMACEN HUEVOS'},\n",
        "  {u'Description': u'Infusiones',\n",
        "   u'Elements': None,\n",
        "   u'Id': 0,\n",
        "   u'departmentName': u'f_INFUSIONES'},\n",
        "  {u'Description': u'Leche en polvo',\n",
        "   u'Elements': None,\n",
        "   u'Id': 0,\n",
        "   u'departmentName': u'f_LECHE EN POLVO'},\n",
        "  {u'Description': u'Legumbres',\n",
        "   u'Elements': None,\n",
        "   u'Id': 0,\n",
        "   u'departmentName': u'f_LEGUMBRES'},\n",
        "  {u'Description': u'Panificados',\n",
        "   u'Elements': None,\n",
        "   u'Id': 0,\n",
        "   u'departmentName': u'f_PANIFICADOS'},\n",
        "  {u'Description': u'Pastas',\n",
        "   u'Elements': None,\n",
        "   u'Id': 0,\n",
        "   u'departmentName': u'f_ALMACEN PASTAS'},\n",
        "  {u'Description': u'Postres',\n",
        "   u'Elements': None,\n",
        "   u'Id': 0,\n",
        "   u'departmentName': u'f_POSTRES'},\n",
        "  {u'Description': u'Pure instantaneo',\n",
        "   u'Elements': None,\n",
        "   u'Id': 0,\n",
        "   u'departmentName': u'f_PURE INSTANTANEO'},\n",
        "  {u'Description': u'Reposteria',\n",
        "   u'Elements': None,\n",
        "   u'Id': 0,\n",
        "   u'departmentName': u'f_REPOSTERIA'},\n",
        "  {u'Description': u'Semillas',\n",
        "   u'Elements': None,\n",
        "   u'Id': 0,\n",
        "   u'departmentName': u'f_SEMILLAS'},\n",
        "  {u'Description': u'Snacks',\n",
        "   u'Elements': None,\n",
        "   u'Id': 0,\n",
        "   u'departmentName': u'f_SNACKS'},\n",
        "  {u'Description': u'Sopas y caldos',\n",
        "   u'Elements': None,\n",
        "   u'Id': 0,\n",
        "   u'departmentName': u'f_SOPAS Y CALDOS'},\n",
        "  {u'Description': u'Tomates y salsas',\n",
        "   u'Elements': None,\n",
        "   u'Id': 0,\n",
        "   u'departmentName': u'f_TOMATES Y SALSAS'}],\n",
        " u'Id': 0,\n",
        " u'departmentName': u'D_almacen'}"
       ]
      }
     ],
     "prompt_number": 133
    },
    {
     "cell_type": "code",
     "collapsed": false,
     "input": [
      "get = lambda node_id: Categoria.objects.get(pk=node_id)\n",
      "for r in arbol:\n",
      "    root = Categoria.add_root(nombre=r['Description'])\n",
      "    for sr in r['Elements']:\n",
      "        get(root.id).add_child(nombre=sr['Description'])"
     ],
     "language": "python",
     "metadata": {},
     "outputs": [],
     "prompt_number": 142
    },
    {
     "cell_type": "code",
     "collapsed": false,
     "input": [
      "Categoria.get_root_nodes()"
     ],
     "language": "python",
     "metadata": {},
     "outputs": [
      {
       "output_type": "pyout",
       "prompt_number": 155,
       "text": [
        "[<Categoria: Almacen>, <Categoria: Almacen>, <Categoria: Automotor>, <Categoria: Bazar>, <Categoria: Bebidas con alcohol>, <Categoria: Bebidas sin alcohol>, <Categoria: Calzado>, <Categoria: Carniceria>, <Categoria: Congelados>, <Categoria: Electro y tecnologia>, <Categoria: Farmacia>, <Categoria: Ferreteria>, <Categoria: Fiambreria>, <Categoria: Frutas y verduras>, <Categoria: Golosinas y galletitas>, <Categoria: Jardin>, <Categoria: Juguetes>, <Categoria: Lacteos>, <Categoria: Libreria>, <Categoria: Libros, musica y peliculas>, '...(remaining elements truncated)...']"
       ]
      }
     ],
     "prompt_number": 155
    },
    {
     "cell_type": "code",
     "collapsed": false,
     "input": [
      "import time\n",
      "import re\n",
      "backup = copy(arbol)\n",
      "get = lambda node_id: Categoria.objects.get(pk=node_id)\n",
      "def get_n(nombre, depth, p_nombre=''):\n",
      "\n",
      "    f = Categoria.objects.filter(nombre=nombre, depth=depth)\n",
      "    if len(f) == 1:\n",
      "        return f[0]\n",
      "    elif depth>1:\n",
      "        for child in f:\n",
      "            if child.get_parent().nombre == p_nombre:\n",
      "                return child\n",
      "    \n",
      "    \n",
      "for rd in arbol:\n",
      "    \n",
      "    root = get_n(nombre=rd['Description'], depth=1)\n",
      "    \n",
      "    \n",
      "    for sr in rd['Elements']:\n",
      "        child = get_n(nombre=sr['Description'], depth=2, p_nombre=rd['departmentName'])\n",
      "        if not child:\n",
      "            continue\n",
      "        f = sr['departmentName']\n",
      "        url = 'https://www.walmartonline.com.ar/Busqueda.aspx?Departamento=%s&Familia=%s'% (d, f)\n",
      "        browser.get(url)\n",
      "        \n",
      "        r = []\n",
      "        while not r:\n",
      "            time.sleep(1)\n",
      "            t = browser.find_elements_by_id('summary')[0].text\n",
      "            r = [s.strip() for s in re.findall('\\n?(.*)\\(', t)]\n",
      "            \n",
      "        for nieto in r:\n",
      "            \n",
      "            print child.add_child(nombre=nieto)\n",
      "        \n",
      "    "
     ],
     "language": "python",
     "metadata": {},
     "outputs": [
      {
       "output_type": "stream",
       "stream": "stdout",
       "text": [
        "Almacen > Aceites > Aerosol\n",
        "Almacen > Aceites > Canola- otros"
       ]
      },
      {
       "output_type": "stream",
       "stream": "stdout",
       "text": [
        "\n",
        "Almacen > Aceites > Girasol"
       ]
      },
      {
       "output_type": "stream",
       "stream": "stdout",
       "text": [
        "\n",
        "Almacen > Aceites > Maiz"
       ]
      },
      {
       "output_type": "stream",
       "stream": "stdout",
       "text": [
        "\n",
        "Almacen > Aceites > Mezcla"
       ]
      },
      {
       "output_type": "stream",
       "stream": "stdout",
       "text": [
        "\n",
        "Almacen > Aceites > Oliva"
       ]
      },
      {
       "output_type": "stream",
       "stream": "stdout",
       "text": [
        "\n",
        "Almacen > Aceitunas y encurtidos > Aceitunas negras"
       ]
      },
      {
       "output_type": "stream",
       "stream": "stdout",
       "text": [
        "\n",
        "Almacen > Aceitunas y encurtidos > Aceitunas rellenas"
       ]
      },
      {
       "output_type": "stream",
       "stream": "stdout",
       "text": [
        "\n",
        "Almacen > Aceitunas y encurtidos > Aceitunas verdes"
       ]
      },
      {
       "output_type": "stream",
       "stream": "stdout",
       "text": [
        "\n",
        "Almacen > Aceitunas y encurtidos > Encurtidos"
       ]
      },
      {
       "output_type": "stream",
       "stream": "stdout",
       "text": [
        "\n",
        "Almacen > Arroz > Doble"
       ]
      },
      {
       "output_type": "stream",
       "stream": "stdout",
       "text": [
        "\n",
        "Almacen > Arroz > Especiales"
       ]
      },
      {
       "output_type": "stream",
       "stream": "stdout",
       "text": [
        "\n",
        "Almacen > Arroz > Grano largo"
       ]
      },
      {
       "output_type": "stream",
       "stream": "stdout",
       "text": [
        "\n",
        "Almacen > Arroz > Integral"
       ]
      },
      {
       "output_type": "stream",
       "stream": "stdout",
       "text": [
        "\n",
        "Almacen > Arroz > Parboil"
       ]
      },
      {
       "output_type": "stream",
       "stream": "stdout",
       "text": [
        "\n",
        "Almacen > Arroz > Preparados"
       ]
      },
      {
       "output_type": "stream",
       "stream": "stdout",
       "text": [
        "\n",
        "Almacen > Azucar y edulcorante > Azucar"
       ]
      },
      {
       "output_type": "stream",
       "stream": "stdout",
       "text": [
        "\n",
        "Almacen > Azucar y edulcorante > Edulcorante"
       ]
      },
      {
       "output_type": "stream",
       "stream": "stdout",
       "text": [
        "\n",
        "Almacen > Cereales > Avena"
       ]
      },
      {
       "output_type": "stream",
       "stream": "stdout",
       "text": [
        "\n",
        "Almacen > Cereales > Azucarados"
       ]
      },
      {
       "output_type": "stream",
       "stream": "stdout",
       "text": [
        "\n",
        "Almacen > Cereales > Barras"
       ]
      },
      {
       "output_type": "stream",
       "stream": "stdout",
       "text": [
        "\n",
        "Almacen > Cereales > Chocolate"
       ]
      },
      {
       "output_type": "stream",
       "stream": "stdout",
       "text": [
        "\n",
        "Almacen > Cereales > Frutal"
       ]
      },
      {
       "output_type": "stream",
       "stream": "stdout",
       "text": [
        "\n",
        "Almacen > Cereales > Maiz"
       ]
      },
      {
       "output_type": "stream",
       "stream": "stdout",
       "text": [
        "\n",
        "Almacen > Cereales > Miel"
       ]
      },
      {
       "output_type": "stream",
       "stream": "stdout",
       "text": [
        "\n",
        "Almacen > Cereales > Multicereal"
       ]
      },
      {
       "output_type": "stream",
       "stream": "stdout",
       "text": [
        "\n",
        "Almacen > Condimentos > Aceto"
       ]
      },
      {
       "output_type": "stream",
       "stream": "stdout",
       "text": [
        "\n",
        "Almacen > Condimentos > Especias"
       ]
      },
      {
       "output_type": "stream",
       "stream": "stdout",
       "text": [
        "\n",
        "Almacen > Condimentos > Jugo de limon"
       ]
      },
      {
       "output_type": "stream",
       "stream": "stdout",
       "text": [
        "\n",
        "Almacen > Condimentos > Mayonesa"
       ]
      },
      {
       "output_type": "stream",
       "stream": "stdout",
       "text": [
        "\n",
        "Almacen > Condimentos > Mostaza"
       ]
      },
      {
       "output_type": "stream",
       "stream": "stdout",
       "text": [
        "\n",
        "Almacen > Condimentos > Saborizadores"
       ]
      },
      {
       "output_type": "stream",
       "stream": "stdout",
       "text": [
        "\n",
        "Almacen > Condimentos > Sal"
       ]
      },
      {
       "output_type": "stream",
       "stream": "stdout",
       "text": [
        "\n",
        "Almacen > Condimentos > Salsa golf/ ketchup"
       ]
      },
      {
       "output_type": "stream",
       "stream": "stdout",
       "text": [
        "\n",
        "Almacen > Condimentos > Salsas"
       ]
      },
      {
       "output_type": "stream",
       "stream": "stdout",
       "text": [
        "\n",
        "Almacen > Condimentos > Vinagre"
       ]
      },
      {
       "output_type": "stream",
       "stream": "stdout",
       "text": [
        "\n",
        "Almacen > Conservas > Carnes"
       ]
      },
      {
       "output_type": "stream",
       "stream": "stdout",
       "text": [
        "\n",
        "Almacen > Conservas > Frutas"
       ]
      },
      {
       "output_type": "stream",
       "stream": "stdout",
       "text": [
        "\n",
        "Almacen > Conservas > Pescados"
       ]
      },
      {
       "output_type": "stream",
       "stream": "stdout",
       "text": [
        "\n",
        "Almacen > Conservas > Tomates/ salsas"
       ]
      },
      {
       "output_type": "stream",
       "stream": "stdout",
       "text": [
        "\n",
        "Almacen > Conservas > Vegetales"
       ]
      },
      {
       "ename": "AttributeError",
       "evalue": "'NoneType' object has no attribute 'add_child'",
       "output_type": "pyerr",
       "traceback": [
        "\u001b[1;31m---------------------------------------------------------------------------\u001b[0m\n\u001b[1;31mAttributeError\u001b[0m                            Traceback (most recent call last)",
        "\u001b[1;32m<ipython-input-20-602b84cb67a5>\u001b[0m in \u001b[0;36m<module>\u001b[1;34m()\u001b[0m\n\u001b[0;32m     32\u001b[0m \u001b[1;33m\u001b[0m\u001b[0m\n\u001b[0;32m     33\u001b[0m         \u001b[1;32mfor\u001b[0m \u001b[0mnieto\u001b[0m \u001b[1;32min\u001b[0m \u001b[0mr\u001b[0m\u001b[1;33m:\u001b[0m\u001b[1;33m\u001b[0m\u001b[0m\n\u001b[1;32m---> 34\u001b[1;33m             \u001b[1;32mprint\u001b[0m \u001b[0mchild\u001b[0m\u001b[1;33m.\u001b[0m\u001b[0madd_child\u001b[0m\u001b[1;33m(\u001b[0m\u001b[0mnombre\u001b[0m\u001b[1;33m=\u001b[0m\u001b[0mnieto\u001b[0m\u001b[1;33m)\u001b[0m\u001b[1;33m\u001b[0m\u001b[0m\n\u001b[0m\u001b[0;32m     35\u001b[0m \u001b[1;33m\u001b[0m\u001b[0m\n\u001b[0;32m     36\u001b[0m \u001b[1;33m\u001b[0m\u001b[0m\n",
        "\u001b[1;31mAttributeError\u001b[0m: 'NoneType' object has no attribute 'add_child'"
       ]
      },
      {
       "output_type": "stream",
       "stream": "stdout",
       "text": [
        "\n"
       ]
      }
     ],
     "prompt_number": 20
    },
    {
     "cell_type": "code",
     "collapsed": false,
     "input": [
      "Categoria.objects.filter(depth=3).delete()"
     ],
     "language": "python",
     "metadata": {},
     "outputs": [],
     "prompt_number": 21
    },
    {
     "cell_type": "code",
     "collapsed": false,
     "input": [
      "from copy import copy"
     ],
     "language": "python",
     "metadata": {},
     "outputs": [],
     "prompt_number": 8
    },
    {
     "cell_type": "code",
     "collapsed": false,
     "input": [
      "copy(arbol)"
     ],
     "language": "python",
     "metadata": {},
     "outputs": [
      {
       "output_type": "pyout",
       "prompt_number": 196,
       "text": [
        "[{u'Description': u'Almacen',\n",
        "  u'Elements': [{u'Description': u'Aceites',\n",
        "    u'Elements': None,\n",
        "    u'Id': 0,\n",
        "    u'departmentName': u'f_ALMACEN ACEITES'},\n",
        "   {u'Description': u'Aceitunas y encurtidos',\n",
        "    u'Elements': None,\n",
        "    u'Id': 0,\n",
        "    u'departmentName': u'f_ACEITUNAS Y ENCURTIDOS'},\n",
        "   {u'Description': u'Arroz',\n",
        "    u'Elements': None,\n",
        "    u'Id': 0,\n",
        "    u'departmentName': u'f_ARROZ'},\n",
        "   {u'Description': u'Azucar y edulcorante',\n",
        "    u'Elements': None,\n",
        "    u'Id': 0,\n",
        "    u'departmentName': u'f_AZUCAR Y EDULCORANTE'},\n",
        "   {u'Description': u'Cereales',\n",
        "    u'Elements': None,\n",
        "    u'Id': 0,\n",
        "    u'departmentName': u'f_CEREALES'},\n",
        "   {u'Description': u'Condimentos',\n",
        "    u'Elements': None,\n",
        "    u'Id': 0,\n",
        "    u'departmentName': u'f_CONDIMENTOS'},\n",
        "   {u'Description': u'Conservas',\n",
        "    u'Elements': None,\n",
        "    u'Id': 0,\n",
        "    u'departmentName': u'f_CONSERVAS'},\n",
        "   {u'Description': u'Dulces',\n",
        "    u'Elements': None,\n",
        "    u'Id': 0,\n",
        "    u'departmentName': u'f_ALMACEN DULCES'},\n",
        "   {u'Description': u'Frutas secas',\n",
        "    u'Elements': None,\n",
        "    u'Id': 0,\n",
        "    u'departmentName': u'f_FRUTAS SECAS'},\n",
        "   {u'Description': u'Harinas',\n",
        "    u'Elements': None,\n",
        "    u'Id': 0,\n",
        "    u'departmentName': u'f_HARINAS'},\n",
        "   {u'Description': u'Huevos',\n",
        "    u'Elements': None,\n",
        "    u'Id': 0,\n",
        "    u'departmentName': u'f_ALMACEN HUEVOS'},\n",
        "   {u'Description': u'Infusiones',\n",
        "    u'Elements': None,\n",
        "    u'Id': 0,\n",
        "    u'departmentName': u'f_INFUSIONES'},\n",
        "   {u'Description': u'Leche en polvo',\n",
        "    u'Elements': None,\n",
        "    u'Id': 0,\n",
        "    u'departmentName': u'f_LECHE EN POLVO'},\n",
        "   {u'Description': u'Legumbres',\n",
        "    u'Elements': None,\n",
        "    u'Id': 0,\n",
        "    u'departmentName': u'f_LEGUMBRES'},\n",
        "   {u'Description': u'Panificados',\n",
        "    u'Elements': None,\n",
        "    u'Id': 0,\n",
        "    u'departmentName': u'f_PANIFICADOS'},\n",
        "   {u'Description': u'Pastas',\n",
        "    u'Elements': None,\n",
        "    u'Id': 0,\n",
        "    u'departmentName': u'f_ALMACEN PASTAS'},\n",
        "   {u'Description': u'Postres',\n",
        "    u'Elements': None,\n",
        "    u'Id': 0,\n",
        "    u'departmentName': u'f_POSTRES'},\n",
        "   {u'Description': u'Pure instantaneo',\n",
        "    u'Elements': None,\n",
        "    u'Id': 0,\n",
        "    u'departmentName': u'f_PURE INSTANTANEO'},\n",
        "   {u'Description': u'Reposteria',\n",
        "    u'Elements': None,\n",
        "    u'Id': 0,\n",
        "    u'departmentName': u'f_REPOSTERIA'},\n",
        "   {u'Description': u'Semillas',\n",
        "    u'Elements': None,\n",
        "    u'Id': 0,\n",
        "    u'departmentName': u'f_SEMILLAS'},\n",
        "   {u'Description': u'Snacks',\n",
        "    u'Elements': None,\n",
        "    u'Id': 0,\n",
        "    u'departmentName': u'f_SNACKS'},\n",
        "   {u'Description': u'Sopas y caldos',\n",
        "    u'Elements': None,\n",
        "    u'Id': 0,\n",
        "    u'departmentName': u'f_SOPAS Y CALDOS'},\n",
        "   {u'Description': u'Tomates y salsas',\n",
        "    u'Elements': None,\n",
        "    u'Id': 0,\n",
        "    u'departmentName': u'f_TOMATES Y SALSAS'}],\n",
        "  u'Id': 0,\n",
        "  u'departmentName': u'D_almacen'},\n",
        " {u'Description': u'Automotor',\n",
        "  u'Elements': [{u'Description': u'Accesorios',\n",
        "    u'Elements': None,\n",
        "    u'Id': 0,\n",
        "    u'departmentName': u'f_AUTOMOTOR ACCESORIOS'},\n",
        "   {u'Description': u'Aromatizantes',\n",
        "    u'Elements': None,\n",
        "    u'Id': 0,\n",
        "    u'departmentName': u'f_AROMATIZANTES'},\n",
        "   {u'Description': u'Cubiertas',\n",
        "    u'Elements': None,\n",
        "    u'Id': 0,\n",
        "    u'departmentName': u'f_CUBIERTAS'},\n",
        "   {u'Description': u'Llantas',\n",
        "    u'Elements': None,\n",
        "    u'Id': 0,\n",
        "    u'departmentName': u'f_LLANTAS'}],\n",
        "  u'Id': 0,\n",
        "  u'departmentName': u'D_automotor'},\n",
        " {u'Description': u'Bazar',\n",
        "  u'Elements': [{u'Description': u'Aromatizadores',\n",
        "    u'Elements': None,\n",
        "    u'Id': 0,\n",
        "    u'departmentName': u'f_DDM BAZAR'},\n",
        "   {u'Description': u'Cajas',\n",
        "    u'Elements': None,\n",
        "    u'Id': 0,\n",
        "    u'departmentName': u'f_CAJAS'},\n",
        "   {u'Description': u'Carritos y bolsas',\n",
        "    u'Elements': None,\n",
        "    u'Id': 0,\n",
        "    u'departmentName': u'f_CARRITO DE COMPRAS'},\n",
        "   {u'Description': u'Coccion',\n",
        "    u'Elements': None,\n",
        "    u'Id': 0,\n",
        "    u'departmentName': u'f_COCCION PAVAS'},\n",
        "   {u'Description': u'Colchones y sommier',\n",
        "    u'Elements': None,\n",
        "    u'Id': 0,\n",
        "    u'departmentName': u'f_COLCHONES Y SOMMIER'},\n",
        "   {u'Description': u'Cristaleria',\n",
        "    u'Elements': None,\n",
        "    u'Id': 0,\n",
        "    u'departmentName': u'f_CRISTALERIA'},\n",
        "   {u'Description': u'Deco',\n",
        "    u'Elements': None,\n",
        "    u'Id': 0,\n",
        "    u'departmentName': u'f_DDM DECO'},\n",
        "   {u'Description': u'Hermeticos',\n",
        "    u'Elements': None,\n",
        "    u'Id': 0,\n",
        "    u'departmentName': u'f_HERMETICOS'},\n",
        "   {u'Description': u'Mates y termos',\n",
        "    u'Elements': None,\n",
        "    u'Id': 0,\n",
        "    u'departmentName': u'f_MATES Y TERMOS'},\n",
        "   {u'Description': u'Plasticos',\n",
        "    u'Elements': None,\n",
        "    u'Id': 0,\n",
        "    u'departmentName': u'f_PLASTICOS INFANTILES'},\n",
        "   {u'Description': u'Plasticos limpieza',\n",
        "    u'Elements': None,\n",
        "    u'Id': 0,\n",
        "    u'departmentName': u'f_PLASTICOS LIMPIEZA'},\n",
        "   {u'Description': u'Ropa',\n",
        "    u'Elements': None,\n",
        "    u'Id': 0,\n",
        "    u'departmentName': u'f_PERCHAS'},\n",
        "   {u'Description': u'Tablas de madera',\n",
        "    u'Elements': None,\n",
        "    u'Id': 0,\n",
        "    u'departmentName': u'f_TABLAS MADERA'},\n",
        "   {u'Description': u'Vajilla',\n",
        "    u'Elements': None,\n",
        "    u'Id': 0,\n",
        "    u'departmentName': u'f_BAZAR CUBIERTOS'},\n",
        "   {u'Description': u'Varios',\n",
        "    u'Elements': None,\n",
        "    u'Id': 0,\n",
        "    u'departmentName': u'f_VARIOS BAZAR'}],\n",
        "  u'Id': 0,\n",
        "  u'departmentName': u'D_bazar'},\n",
        " {u'Description': u'Bebidas con alcohol',\n",
        "  u'Elements': [{u'Description': u'Aperitivos',\n",
        "    u'Elements': None,\n",
        "    u'Id': 0,\n",
        "    u'departmentName': u'f_APERITIVOS'},\n",
        "   {u'Description': u'Blancas',\n",
        "    u'Elements': None,\n",
        "    u'Id': 0,\n",
        "    u'departmentName': u'f_BLANCAS'},\n",
        "   {u'Description': u'Cervezas',\n",
        "    u'Elements': None,\n",
        "    u'Id': 0,\n",
        "    u'departmentName': u'f_CERVEZAS'},\n",
        "   {u'Description': u'Espumantes',\n",
        "    u'Elements': None,\n",
        "    u'Id': 0,\n",
        "    u'departmentName': u'f_ESPUMANTES'},\n",
        "   {u'Description': u'Estuches',\n",
        "    u'Elements': None,\n",
        "    u'Id': 0,\n",
        "    u'departmentName': u'f_ESTUCHES'},\n",
        "   {u'Description': u'Licores',\n",
        "    u'Elements': None,\n",
        "    u'Id': 0,\n",
        "    u'departmentName': u'f_LICORES'},\n",
        "   {u'Description': u'Sidras- otros',\n",
        "    u'Elements': None,\n",
        "    u'Id': 0,\n",
        "    u'departmentName': u'f_SIDRAS'},\n",
        "   {u'Description': u'Vino blanco',\n",
        "    u'Elements': None,\n",
        "    u'Id': 0,\n",
        "    u'departmentName': u'f_VINO BLANCO'},\n",
        "   {u'Description': u'Vino rosado',\n",
        "    u'Elements': None,\n",
        "    u'Id': 0,\n",
        "    u'departmentName': u'f_VINO ROSADO'},\n",
        "   {u'Description': u'Vino tinto',\n",
        "    u'Elements': None,\n",
        "    u'Id': 0,\n",
        "    u'departmentName': u'f_VINO TINTO'}],\n",
        "  u'Id': 0,\n",
        "  u'departmentName': u'D_bebidas con alcohol'},\n",
        " {u'Description': u'Bebidas sin alcohol',\n",
        "  u'Elements': [{u'Description': u'Aguas',\n",
        "    u'Elements': None,\n",
        "    u'Id': 0,\n",
        "    u'departmentName': u'f_AGUAS'},\n",
        "   {u'Description': u'Energizantes',\n",
        "    u'Elements': None,\n",
        "    u'Id': 0,\n",
        "    u'departmentName': u'f_ENERGIZANTES'},\n",
        "   {u'Description': u'Gaseosas',\n",
        "    u'Elements': None,\n",
        "    u'Id': 0,\n",
        "    u'departmentName': u'f_GASEOSAS'},\n",
        "   {u'Description': u'Hierbas',\n",
        "    u'Elements': None,\n",
        "    u'Id': 0,\n",
        "    u'departmentName': u'f_HIERBAS'},\n",
        "   {u'Description': u'Isotonicas',\n",
        "    u'Elements': None,\n",
        "    u'Id': 0,\n",
        "    u'departmentName': u'f_ISOTONICAS'},\n",
        "   {u'Description': u'Jugos',\n",
        "    u'Elements': None,\n",
        "    u'Id': 0,\n",
        "    u'departmentName': u'f_JUGOS'}],\n",
        "  u'Id': 0,\n",
        "  u'departmentName': u'D_bebidas sin alcohol'},\n",
        " {u'Description': u'Calzado',\n",
        "  u'Elements': [{u'Description': u'Alpargatas rueda',\n",
        "    u'Elements': None,\n",
        "    u'Id': 0,\n",
        "    u'departmentName': u'f_ALPARGATAS RUEDA'}],\n",
        "  u'Id': 0,\n",
        "  u'departmentName': u'D_calzado'},\n",
        " {u'Description': u'Carniceria',\n",
        "  u'Elements': [{u'Description': u'Carbon',\n",
        "    u'Elements': None,\n",
        "    u'Id': 0,\n",
        "    u'departmentName': u'f_CARBON'},\n",
        "   {u'Description': u'Cerdo',\n",
        "    u'Elements': None,\n",
        "    u'Id': 0,\n",
        "    u'departmentName': u'f_CERDO'},\n",
        "   {u'Description': u'Embutidos',\n",
        "    u'Elements': None,\n",
        "    u'Id': 0,\n",
        "    u'departmentName': u'f_CARNICERIA EMBUTIDOS'},\n",
        "   {u'Description': u'Granja',\n",
        "    u'Elements': None,\n",
        "    u'Id': 0,\n",
        "    u'departmentName': u'f_GRANJA'},\n",
        "   {u'Description': u'Vacuna',\n",
        "    u'Elements': None,\n",
        "    u'Id': 0,\n",
        "    u'departmentName': u'f_VACUNA'}],\n",
        "  u'Id': 0,\n",
        "  u'departmentName': u'D_carniceria'},\n",
        " {u'Description': u'Congelados',\n",
        "  u'Elements': [{u'Description': u'Comidas',\n",
        "    u'Elements': None,\n",
        "    u'Id': 0,\n",
        "    u'departmentName': u'f_CONGE COMIDAS'},\n",
        "   {u'Description': u'Hamburguesas',\n",
        "    u'Elements': None,\n",
        "    u'Id': 0,\n",
        "    u'departmentName': u'f_HAMBURGUESAS'},\n",
        "   {u'Description': u'Helados',\n",
        "    u'Elements': None,\n",
        "    u'Id': 0,\n",
        "    u'departmentName': u'f_HELADO'},\n",
        "   {u'Description': u'Papas fritas',\n",
        "    u'Elements': None,\n",
        "    u'Id': 0,\n",
        "    u'departmentName': u'f_CONGE PAPAS FRITAS'},\n",
        "   {u'Description': u'Rebozados',\n",
        "    u'Elements': None,\n",
        "    u'Id': 0,\n",
        "    u'departmentName': u'f_CONG REBOZADOS'},\n",
        "   {u'Description': u'Vegetales',\n",
        "    u'Elements': None,\n",
        "    u'Id': 0,\n",
        "    u'departmentName': u'f_CONG VEGETALES'}],\n",
        "  u'Id': 0,\n",
        "  u'departmentName': u'D_congelados'},\n",
        " {u'Description': u'Farmacia',\n",
        "  u'Elements': [{u'Description': u'Cuidado personal',\n",
        "    u'Elements': None,\n",
        "    u'Id': 0,\n",
        "    u'departmentName': u'f_FARMACIA CUIDADO PERSONAL'},\n",
        "   {u'Description': u'Medicamentos',\n",
        "    u'Elements': None,\n",
        "    u'Id': 0,\n",
        "    u'departmentName': u'f_MEDICAMENTOS'},\n",
        "   {u'Description': u'Primeros auxilios',\n",
        "    u'Elements': None,\n",
        "    u'Id': 0,\n",
        "    u'departmentName': u'f_PRIMEROS AUXILIOS'}],\n",
        "  u'Id': 0,\n",
        "  u'departmentName': u'D_farmacia'},\n",
        " {u'Description': u'Ferreteria',\n",
        "  u'Elements': [{u'Description': u'Adhesivos',\n",
        "    u'Elements': None,\n",
        "    u'Id': 0,\n",
        "    u'departmentName': u'f_ADHESIVOS'},\n",
        "   {u'Description': u'Herramientas',\n",
        "    u'Elements': None,\n",
        "    u'Id': 0,\n",
        "    u'departmentName': u'l_HERRAMIENTAS'},\n",
        "   {u'Description': u'Lamparitas',\n",
        "    u'Elements': None,\n",
        "    u'Id': 0,\n",
        "    u'departmentName': u'f_LAMPARITAS'},\n",
        "   {u'Description': u'Pilas',\n",
        "    u'Elements': None,\n",
        "    u'Id': 0,\n",
        "    u'departmentName': u'f_PILAS'},\n",
        "   {u'Description': u'Pintureria',\n",
        "    u'Elements': None,\n",
        "    u'Id': 0,\n",
        "    u'departmentName': u'f_PINTURERIA'}],\n",
        "  u'Id': 0,\n",
        "  u'departmentName': u'D_ferreteria'},\n",
        " {u'Description': u'Fiambreria',\n",
        "  u'Elements': [{u'Description': u'Aceitunas/ encurtidos',\n",
        "    u'Elements': None,\n",
        "    u'Id': 0,\n",
        "    u'departmentName': u'f_ACEITUNAS/ ENCURTIDOS'},\n",
        "   {u'Description': u'Dulces',\n",
        "    u'Elements': None,\n",
        "    u'Id': 0,\n",
        "    u'departmentName': u'f_FIAMBRERIA DULCES'},\n",
        "   {u'Description': u'Embutidos',\n",
        "    u'Elements': None,\n",
        "    u'Id': 0,\n",
        "    u'departmentName': u'f_FIAMBRERIA EMBUTIDOS'},\n",
        "   {u'Description': u'Fiambres',\n",
        "    u'Elements': None,\n",
        "    u'Id': 0,\n",
        "    u'departmentName': u'f_FIAMBRES'},\n",
        "   {u'Description': u'Quesos',\n",
        "    u'Elements': None,\n",
        "    u'Id': 0,\n",
        "    u'departmentName': u'f_QUESOS'}],\n",
        "  u'Id': 0,\n",
        "  u'departmentName': u'D_fiambreria'},\n",
        " {u'Description': u'Frutas y verduras',\n",
        "  u'Elements': [{u'Description': u'Frutas',\n",
        "    u'Elements': None,\n",
        "    u'Id': 0,\n",
        "    u'departmentName': u'f_FRUTAS'},\n",
        "   {u'Description': u'Verduras',\n",
        "    u'Elements': None,\n",
        "    u'Id': 0,\n",
        "    u'departmentName': u'f_VERDURAS'}],\n",
        "  u'Id': 0,\n",
        "  u'departmentName': u'D_frutas y verduras'},\n",
        " {u'Description': u'Golosinas y galletitas',\n",
        "  u'Elements': [{u'Description': u'Barra de cereal',\n",
        "    u'Elements': None,\n",
        "    u'Id': 0,\n",
        "    u'departmentName': u'f_BARRA DE CEREAL'},\n",
        "   {u'Description': u'Bizcochos',\n",
        "    u'Elements': None,\n",
        "    u'Id': 0,\n",
        "    u'departmentName': u'f_BIZCOCHOS'},\n",
        "   {u'Description': u'Galletitas de arroz',\n",
        "    u'Elements': None,\n",
        "    u'Id': 0,\n",
        "    u'departmentName': u'f_GALLETITAS DE ARROZ'},\n",
        "   {u'Description': u'Galletitas dulces',\n",
        "    u'Elements': None,\n",
        "    u'Id': 0,\n",
        "    u'departmentName': u'f_GALLETITAS DULCES'},\n",
        "   {u'Description': u'Galletitas saladas',\n",
        "    u'Elements': None,\n",
        "    u'Id': 0,\n",
        "    u'departmentName': u'f_GALLETITAS SALADAS'},\n",
        "   {u'Description': u'Golosinas',\n",
        "    u'Elements': None,\n",
        "    u'Id': 0,\n",
        "    u'departmentName': u'f_GOLOSINAS'}],\n",
        "  u'Id': 0,\n",
        "  u'departmentName': u'D_golosinas y galletitas'},\n",
        " {u'Description': u'Jardin',\n",
        "  u'Elements': [{u'Description': u'Accesorios',\n",
        "    u'Elements': None,\n",
        "    u'Id': 0,\n",
        "    u'departmentName': u'f_JARDINERIA ACCESORIOS'},\n",
        "   {u'Description': u'Muebles',\n",
        "    u'Elements': None,\n",
        "    u'Id': 0,\n",
        "    u'departmentName': u'f_JARDINERIA MUEBLES'},\n",
        "   {u'Description': u'Piletas',\n",
        "    u'Elements': None,\n",
        "    u'Id': 0,\n",
        "    u'departmentName': u'f_PILETAS'}],\n",
        "  u'Id': 0,\n",
        "  u'departmentName': u'D_jardineria'},\n",
        " {u'Description': u'Juguetes',\n",
        "  u'Elements': [{u'Description': u'Accesorios',\n",
        "    u'Elements': None,\n",
        "    u'Id': 0,\n",
        "    u'departmentName': u'f_ACCESORIOS JUGUETERIA'},\n",
        "   {u'Description': u'Juegos de mesa',\n",
        "    u'Elements': None,\n",
        "    u'Id': 0,\n",
        "    u'departmentName': u'f_JUEGOS DE MESA'},\n",
        "   {u'Description': u'Juguetes',\n",
        "    u'Elements': None,\n",
        "    u'Id': 0,\n",
        "    u'departmentName': u'f_JUGUETES'},\n",
        "   {u'Description': u'Musica y peliculas',\n",
        "    u'Elements': None,\n",
        "    u'Id': 0,\n",
        "    u'departmentName': u'f_LIBROS Y DVD'},\n",
        "   {u'Description': u'Perfumes',\n",
        "    u'Elements': None,\n",
        "    u'Id': 0,\n",
        "    u'departmentName': u'f_PERFUMES'},\n",
        "   {u'Description': u'Rodados',\n",
        "    u'Elements': None,\n",
        "    u'Id': 0,\n",
        "    u'departmentName': u'f_RODADOS'}],\n",
        "  u'Id': 0,\n",
        "  u'departmentName': u'D_juguetes'},\n",
        " {u'Description': u'Lacteos',\n",
        "  u'Elements': [{u'Description': u'Cremas',\n",
        "    u'Elements': None,\n",
        "    u'Id': 0,\n",
        "    u'departmentName': u'f_CREMAS'},\n",
        "   {u'Description': u'Dulce de leche',\n",
        "    u'Elements': None,\n",
        "    u'Id': 0,\n",
        "    u'departmentName': u'f_DULCE DE LECHE'},\n",
        "   {u'Description': u'Leche',\n",
        "    u'Elements': None,\n",
        "    u'Id': 0,\n",
        "    u'departmentName': u'f_LECHE'},\n",
        "   {u'Description': u'Levaduras y grasas',\n",
        "    u'Elements': None,\n",
        "    u'Id': 0,\n",
        "    u'departmentName': u'f_LEVADURAS Y GRASAS'},\n",
        "   {u'Description': u'Manteca/ margarina',\n",
        "    u'Elements': None,\n",
        "    u'Id': 0,\n",
        "    u'departmentName': u'f_MANTECA/ MARGARINA'},\n",
        "   {u'Description': u'Postres y flanes',\n",
        "    u'Elements': None,\n",
        "    u'Id': 0,\n",
        "    u'departmentName': u'f_LACTEOS POSTRES Y FLANES'},\n",
        "   {u'Description': u'Quesos untables',\n",
        "    u'Elements': None,\n",
        "    u'Id': 0,\n",
        "    u'departmentName': u'f_QUESOS UNTABLES'},\n",
        "   {u'Description': u'Ricota',\n",
        "    u'Elements': None,\n",
        "    u'Id': 0,\n",
        "    u'departmentName': u'f_ROICOTA'},\n",
        "   {u'Description': u'Salud activa',\n",
        "    u'Elements': None,\n",
        "    u'Id': 0,\n",
        "    u'departmentName': u'f_SALUD ACTIVA'},\n",
        "   {u'Description': u'Yogur descremado',\n",
        "    u'Elements': None,\n",
        "    u'Id': 0,\n",
        "    u'departmentName': u'f_YOGUR DESCREMADO'},\n",
        "   {u'Description': u'Yogur entero',\n",
        "    u'Elements': None,\n",
        "    u'Id': 0,\n",
        "    u'departmentName': u'f_YOGUR ENTERO'}],\n",
        "  u'Id': 0,\n",
        "  u'departmentName': u'D_lacteos'},\n",
        " {u'Description': u'Libreria',\n",
        "  u'Elements': [{u'Description': u'Carpetas',\n",
        "    u'Elements': None,\n",
        "    u'Id': 0,\n",
        "    u'departmentName': u'f_CARPETAS'},\n",
        "   {u'Description': u'Escritura',\n",
        "    u'Elements': None,\n",
        "    u'Id': 0,\n",
        "    u'departmentName': u'f_ESCRITURA'},\n",
        "   {u'Description': u'Manualidades',\n",
        "    u'Elements': None,\n",
        "    u'Id': 0,\n",
        "    u'departmentName': u'f_MANUALIDADES'},\n",
        "   {u'Description': u'Mochilas y cartucheras',\n",
        "    u'Elements': None,\n",
        "    u'Id': 0,\n",
        "    u'departmentName': u'f_MOCHILAS Y CARTUCHERAS'},\n",
        "   {u'Description': u'Oficina',\n",
        "    u'Elements': None,\n",
        "    u'Id': 0,\n",
        "    u'departmentName': u'f_OFICINA'},\n",
        "   {u'Description': u'Repuestos y cuadernos',\n",
        "    u'Elements': None,\n",
        "    u'Id': 0,\n",
        "    u'departmentName': u'f_REPUESTOS Y CUADERNOS'}],\n",
        "  u'Id': 0,\n",
        "  u'departmentName': u'D_libreria'},\n",
        " {u'Description': u'Libros, musica y peliculas',\n",
        "  u'Elements': [{u'Description': u'Libros',\n",
        "    u'Elements': None,\n",
        "    u'Id': 0,\n",
        "    u'departmentName': u'f_LIBROS'},\n",
        "   {u'Description': u'Musica',\n",
        "    u'Elements': None,\n",
        "    u'Id': 0,\n",
        "    u'departmentName': u'f_MUSICA'},\n",
        "   {u'Description': u'Peliculas',\n",
        "    u'Elements': None,\n",
        "    u'Id': 0,\n",
        "    u'departmentName': u'f_PELICULAS'}],\n",
        "  u'Id': 0,\n",
        "  u'departmentName': u'D_libros, musica y peliculas'},\n",
        " {u'Description': u'Limpieza',\n",
        "  u'Elements': [{u'Description': u'Baldes',\n",
        "    u'Elements': None,\n",
        "    u'Id': 0,\n",
        "    u'departmentName': u'f_BALDES'},\n",
        "   {u'Description': u'Ba\\xf1o',\n",
        "    u'Elements': None,\n",
        "    u'Id': 0,\n",
        "    u'departmentName': u'f_BA\\xd1O'},\n",
        "   {u'Description': u'Calzado',\n",
        "    u'Elements': None,\n",
        "    u'Id': 0,\n",
        "    u'departmentName': u'f_CALZADO'},\n",
        "   {u'Description': u'Cocina',\n",
        "    u'Elements': None,\n",
        "    u'Id': 0,\n",
        "    u'departmentName': u'f_COCINA'},\n",
        "   {u'Description': u'Desinfectantes',\n",
        "    u'Elements': None,\n",
        "    u'Id': 0,\n",
        "    u'departmentName': u'f_DESINFECTANTES'},\n",
        "   {u'Description': u'Desodorante de ambiente',\n",
        "    u'Elements': None,\n",
        "    u'Id': 0,\n",
        "    u'departmentName': u'f_DESODORANTE DE AMBIENTE'},\n",
        "   {u'Description': u'Escobas y cabos',\n",
        "    u'Elements': None,\n",
        "    u'Id': 0,\n",
        "    u'departmentName': u'f_ESCOBAS Y CABOS'},\n",
        "   {u'Description': u'Esponjas',\n",
        "    u'Elements': None,\n",
        "    u'Id': 0,\n",
        "    u'departmentName': u'f_ESPONJAS'},\n",
        "   {u'Description': u'Guantes',\n",
        "    u'Elements': None,\n",
        "    u'Id': 0,\n",
        "    u'departmentName': u'f_GUANTES'},\n",
        "   {u'Description': u'Insecticidas',\n",
        "    u'Elements': None,\n",
        "    u'Id': 0,\n",
        "    u'departmentName': u'f_INSECTICIDAS'},\n",
        "   {u'Description': u'Limpiadores',\n",
        "    u'Elements': None,\n",
        "    u'Id': 0,\n",
        "    u'departmentName': u'f_LIMPIADORES'},\n",
        "   {u'Description': u'Muebles',\n",
        "    u'Elements': None,\n",
        "    u'Id': 0,\n",
        "    u'departmentName': u'f_LIMPIEZA MUEBLES'},\n",
        "   {u'Description': u'Multiuso',\n",
        "    u'Elements': None,\n",
        "    u'Id': 0,\n",
        "    u'departmentName': u'f_MULTIUSO'},\n",
        "   {u'Description': u'Pa\\xf1os',\n",
        "    u'Elements': None,\n",
        "    u'Id': 0,\n",
        "    u'departmentName': u'f_PA\\xd1OS'},\n",
        "   {u'Description': u'Papeles',\n",
        "    u'Elements': None,\n",
        "    u'Id': 0,\n",
        "    u'departmentName': u'f_LIMPIEZA PAPELES'},\n",
        "   {u'Description': u'Pisos',\n",
        "    u'Elements': None,\n",
        "    u'Id': 0,\n",
        "    u'departmentName': u'f_PISOS'},\n",
        "   {u'Description': u'Plumeros- limpiavidrios',\n",
        "    u'Elements': None,\n",
        "    u'Id': 0,\n",
        "    u'departmentName': u'f_PLUMEROS- LIMPIAVIDRIOS'},\n",
        "   {u'Description': u'Ropa',\n",
        "    u'Elements': None,\n",
        "    u'Id': 0,\n",
        "    u'departmentName': u'f_ROPA'},\n",
        "   {u'Description': u'Varios',\n",
        "    u'Elements': None,\n",
        "    u'Id': 0,\n",
        "    u'departmentName': u'f_VARIOS COCINA'}],\n",
        "  u'Id': 0,\n",
        "  u'departmentName': u'D_limpieza'},\n",
        " {u'Description': u'Mamas y bebes',\n",
        "  u'Elements': [{u'Description': u'Accesorios',\n",
        "    u'Elements': None,\n",
        "    u'Id': 0,\n",
        "    u'departmentName': u'f_MAMAS Y BEBES ACCESORIOS'},\n",
        "   {u'Description': u'Aceites y cremas',\n",
        "    u'Elements': None,\n",
        "    u'Id': 0,\n",
        "    u'departmentName': u'f_MAMAS Y BEBES ACEITES'},\n",
        "   {u'Description': u'Alimentacion infantil',\n",
        "    u'Elements': None,\n",
        "    u'Id': 0,\n",
        "    u'departmentName': u'f_ALIMENTACION INFANTIL'},\n",
        "   {u'Description': u'Chupetes/ mamaderas',\n",
        "    u'Elements': None,\n",
        "    u'Id': 0,\n",
        "    u'departmentName': u'f_CHUPETES/ MAMADERAS'},\n",
        "   {u'Description': u'Cuidado mama',\n",
        "    u'Elements': None,\n",
        "    u'Id': 0,\n",
        "    u'departmentName': u'f_CUIDADO MAMA'},\n",
        "   {u'Description': u'Fragancias',\n",
        "    u'Elements': None,\n",
        "    u'Id': 0,\n",
        "    u'departmentName': u'f_FRAGANCIAS BEBE'},\n",
        "   {u'Description': u'Oleo calcareo',\n",
        "    u'Elements': None,\n",
        "    u'Id': 0,\n",
        "    u'departmentName': u'f_OLEO CALCAREO'},\n",
        "   {u'Description': u'Pa\\xf1ales',\n",
        "    u'Elements': None,\n",
        "    u'Id': 0,\n",
        "    u'departmentName': u'f_MAMAS Y BEBES PA\\xd1ALES'},\n",
        "   {u'Description': u'Para el ba\\xf1o',\n",
        "    u'Elements': None,\n",
        "    u'Id': 0,\n",
        "    u'departmentName': u'f_PARA EL BA\\xd1O'},\n",
        "   {u'Description': u'Rodados y cunas',\n",
        "    u'Elements': None,\n",
        "    u'Id': 0,\n",
        "    u'departmentName': u'f_RODADOS/CUNAS'},\n",
        "   {u'Description': u'Seguridad',\n",
        "    u'Elements': None,\n",
        "    u'Id': 0,\n",
        "    u'departmentName': u'f_SEGURIDAD'},\n",
        "   {u'Description': u'Talco/ fecula',\n",
        "    u'Elements': None,\n",
        "    u'Id': 0,\n",
        "    u'departmentName': u'f_TALCO/ FECULA'},\n",
        "   {u'Description': u'Toallitas humedas',\n",
        "    u'Elements': None,\n",
        "    u'Id': 0,\n",
        "    u'departmentName': u'f_TOALLITAS HUMEDAS'},\n",
        "   {u'Description': u'Varios',\n",
        "    u'Elements': None,\n",
        "    u'Id': 0,\n",
        "    u'departmentName': u'f_VARIOS ACCESORIOS'}],\n",
        "  u'Id': 0,\n",
        "  u'departmentName': u'D_mamas y bebes'},\n",
        " {u'Description': u'Mascotas',\n",
        "  u'Elements': [{u'Description': u'Accesorios',\n",
        "    u'Elements': None,\n",
        "    u'Id': 0,\n",
        "    u'departmentName': u'f_ACCESORIOS MASCOTAS'},\n",
        "   {u'Description': u'Alimento gato',\n",
        "    u'Elements': None,\n",
        "    u'Id': 0,\n",
        "    u'departmentName': u'f_ALIMENTO GATO'},\n",
        "   {u'Description': u'Alimento perro',\n",
        "    u'Elements': None,\n",
        "    u'Id': 0,\n",
        "    u'departmentName': u'f_ALIMENTO PERRO'}],\n",
        "  u'Id': 0,\n",
        "  u'departmentName': u'D_mascotas'},\n",
        " {u'Description': u'Panaderia',\n",
        "  u'Elements': [{u'Description': u'Budines',\n",
        "    u'Elements': None,\n",
        "    u'Id': 0,\n",
        "    u'departmentName': u'f_BUDINES'},\n",
        "   {u'Description': u'Facturas / donuts',\n",
        "    u'Elements': None,\n",
        "    u'Id': 0,\n",
        "    u'departmentName': u'f_FACTURAS / DONUTS'},\n",
        "   {u'Description': u'Otros',\n",
        "    u'Elements': None,\n",
        "    u'Id': 0,\n",
        "    u'departmentName': u'f_PANADERIA OTROS'},\n",
        "   {u'Description': u'Pan',\n",
        "    u'Elements': None,\n",
        "    u'Id': 0,\n",
        "    u'departmentName': u'f_PAN'},\n",
        "   {u'Description': u'Sandwiches de miga',\n",
        "    u'Elements': None,\n",
        "    u'Id': 0,\n",
        "    u'departmentName': u'f_SANDWICHES DE MIGA'},\n",
        "   {u'Description': u'Tortas',\n",
        "    u'Elements': None,\n",
        "    u'Id': 0,\n",
        "    u'departmentName': u'f_TORTAS'}],\n",
        "  u'Id': 0,\n",
        "  u'departmentName': u'D_panaderia'},\n",
        " {u'Description': u'Pastas y tapas',\n",
        "  u'Elements': [{u'Description': u'Pastas',\n",
        "    u'Elements': None,\n",
        "    u'Id': 0,\n",
        "    u'departmentName': u'f_PASTAS'},\n",
        "   {u'Description': u'Tapas',\n",
        "    u'Elements': None,\n",
        "    u'Id': 0,\n",
        "    u'departmentName': u'f_TAPAS'}],\n",
        "  u'Id': 0,\n",
        "  u'departmentName': u'D_pastas y tapas'},\n",
        " {u'Description': u'Perfumeria',\n",
        "  u'Elements': [{u'Description': u'Afeitado',\n",
        "    u'Elements': None,\n",
        "    u'Id': 0,\n",
        "    u'departmentName': u'f_AFEITADO'},\n",
        "   {u'Description': u'Algodon/ hisopos',\n",
        "    u'Elements': None,\n",
        "    u'Id': 0,\n",
        "    u'departmentName': u'f_ALGODON/ HISOPOS'},\n",
        "   {u'Description': u'Cuidado de la piel',\n",
        "    u'Elements': None,\n",
        "    u'Id': 0,\n",
        "    u'departmentName': u'f_CUIDADO DE LA PIEL'},\n",
        "   {u'Description': u'Cuidado del cabello',\n",
        "    u'Elements': None,\n",
        "    u'Id': 0,\n",
        "    u'departmentName': u'f_CUIDADO DEL CABELLO'},\n",
        "   {u'Description': u'Cuidado facial',\n",
        "    u'Elements': None,\n",
        "    u'Id': 0,\n",
        "    u'departmentName': u'f_CREMAS Y TONICOS'},\n",
        "   {u'Description': u'Cuidado oral',\n",
        "    u'Elements': None,\n",
        "    u'Id': 0,\n",
        "    u'departmentName': u'f_HIGIENE BUCAL'},\n",
        "   {u'Description': u'Desodorantes',\n",
        "    u'Elements': None,\n",
        "    u'Id': 0,\n",
        "    u'departmentName': u'f_DESODORANTES'},\n",
        "   {u'Description': u'Farmacia',\n",
        "    u'Elements': None,\n",
        "    u'Id': 0,\n",
        "    u'departmentName': u'f_FARMACIA'},\n",
        "   {u'Description': u'Fragancias',\n",
        "    u'Elements': None,\n",
        "    u'Id': 0,\n",
        "    u'departmentName': u'f_FRAGANCIAS'},\n",
        "   {u'Description': u'Jabones',\n",
        "    u'Elements': None,\n",
        "    u'Id': 0,\n",
        "    u'departmentName': u'f_JABONES'},\n",
        "   {u'Description': u'Manos y pies',\n",
        "    u'Elements': None,\n",
        "    u'Id': 0,\n",
        "    u'departmentName': u'f_MANOS Y PIES'},\n",
        "   {u'Description': u'Pa\\xf1ales',\n",
        "    u'Elements': None,\n",
        "    u'Id': 0,\n",
        "    u'departmentName': u'f_PERFUMERIA PA\\xd1ALES'},\n",
        "   {u'Description': u'Proteccion femenina',\n",
        "    u'Elements': None,\n",
        "    u'Id': 0,\n",
        "    u'departmentName': u'f_PROTECCION FEMENINA'},\n",
        "   {u'Description': u'Sales, geles y espumas',\n",
        "    u'Elements': None,\n",
        "    u'Id': 0,\n",
        "    u'departmentName': u'f_SALES, GELES Y ESPUMAS'},\n",
        "   {u'Description': u'Talcos',\n",
        "    u'Elements': None,\n",
        "    u'Id': 0,\n",
        "    u'departmentName': u'f_TALCOS'}],\n",
        "  u'Id': 0,\n",
        "  u'departmentName': u'D_perfumeria'},\n",
        " {u'Description': u'Tiempo libre',\n",
        "  u'Elements': [{u'Description': u'Camping',\n",
        "    u'Elements': None,\n",
        "    u'Id': 0,\n",
        "    u'departmentName': u'f_CAMPING'},\n",
        "   {u'Description': u'Deporte',\n",
        "    u'Elements': None,\n",
        "    u'Id': 0,\n",
        "    u'departmentName': u'f_DEPORTE'},\n",
        "   {u'Description': u'Juegos jardin',\n",
        "    u'Elements': None,\n",
        "    u'Id': 0,\n",
        "    u'departmentName': u'f_JUEGOS JARDIN'},\n",
        "   {u'Description': u'Piletas',\n",
        "    u'Elements': None,\n",
        "    u'Id': 0,\n",
        "    u'departmentName': u'f_VERANO PILETAS'},\n",
        "   {u'Description': u'Rodados',\n",
        "    u'Elements': None,\n",
        "    u'Id': 0,\n",
        "    u'departmentName': u'f_RODADOS'}],\n",
        "  u'Id': 0,\n",
        "  u'departmentName': u'D_tiempo libre'},\n",
        " {u'Description': u'Electro y tecnologia',\n",
        "  u'Elements': [{u'Description': u'Accesorios',\n",
        "    u'Elements': None,\n",
        "    u'Id': 0,\n",
        "    u'departmentName': u'f_ACCESORIOS ELECTRO'},\n",
        "   {u'Description': u'Audio',\n",
        "    u'Elements': None,\n",
        "    u'Id': 0,\n",
        "    u'departmentName': u'f_AUDIO'},\n",
        "   {u'Description': u'Celulares',\n",
        "    u'Elements': None,\n",
        "    u'Id': 0,\n",
        "    u'departmentName': u'f_CELULARES'},\n",
        "   {u'Description': u'Cuidado personal',\n",
        "    u'Elements': None,\n",
        "    u'Id': 0,\n",
        "    u'departmentName': u'f_ELECTRO CUIDADO PERSONAL'},\n",
        "   {u'Description': u'Dvd y home theater',\n",
        "    u'Elements': None,\n",
        "    u'Id': 0,\n",
        "    u'departmentName': u'f_TV Y DVD'},\n",
        "   {u'Description': u'Fotografia',\n",
        "    u'Elements': None,\n",
        "    u'Id': 0,\n",
        "    u'departmentName': u'f_CAMARAS'},\n",
        "   {u'Description': u'Frio- calor',\n",
        "    u'Elements': None,\n",
        "    u'Id': 0,\n",
        "    u'departmentName': u'f_FRIO- CALOR'},\n",
        "   {u'Description': u'Gps',\n",
        "    u'Elements': None,\n",
        "    u'Id': 0,\n",
        "    u'departmentName': u'f_GPS'},\n",
        "   {u'Description': u'Inform\\xe1tica',\n",
        "    u'Elements': None,\n",
        "    u'Id': 0,\n",
        "    u'departmentName': u'f_INFORMATICA'},\n",
        "   {u'Description': u'Led y lcd',\n",
        "    u'Elements': None,\n",
        "    u'Id': 0,\n",
        "    u'departmentName': u'f_LED'},\n",
        "   {u'Description': u'Linea blanca',\n",
        "    u'Elements': None,\n",
        "    u'Id': 0,\n",
        "    u'departmentName': u'f_LINEA BLANCA'},\n",
        "   {u'Description': u'Peque\\xf1os cocina',\n",
        "    u'Elements': None,\n",
        "    u'Id': 0,\n",
        "    u'departmentName': u'f_PEQUE\\xd1OS'},\n",
        "   {u'Description': u'Peque\\xf1os hogar',\n",
        "    u'Elements': None,\n",
        "    u'Id': 0,\n",
        "    u'departmentName': u'f_PEQUE\\xd1OS ELECTRO HOGAR'},\n",
        "   {u'Description': u'Video juegos',\n",
        "    u'Elements': None,\n",
        "    u'Id': 0,\n",
        "    u'departmentName': u'f_VIDEO JUEGOS'}],\n",
        "  u'Id': 0,\n",
        "  u'departmentName': u'D_electrodomesticos'}]"
       ]
      }
     ],
     "prompt_number": 196
    },
    {
     "cell_type": "code",
     "collapsed": false,
     "input": [
      "backup = copy(arbol)"
     ],
     "language": "python",
     "metadata": {},
     "outputs": [],
     "prompt_number": 197
    },
    {
     "cell_type": "code",
     "collapsed": false,
     "input": [
      "d = Categoria.objects.filter(nombre='Dulces')[0]"
     ],
     "language": "python",
     "metadata": {},
     "outputs": [],
     "prompt_number": 200
    },
    {
     "cell_type": "code",
     "collapsed": false,
     "input": [
      "d.get_parent().nombre"
     ],
     "language": "python",
     "metadata": {},
     "outputs": [
      {
       "output_type": "pyout",
       "prompt_number": 202,
       "text": [
        "u'Almacen'"
       ]
      }
     ],
     "prompt_number": 202
    },
    {
     "cell_type": "code",
     "collapsed": false,
     "input": [],
     "language": "python",
     "metadata": {},
     "outputs": []
    }
   ],
   "metadata": {}
  }
 ]
}